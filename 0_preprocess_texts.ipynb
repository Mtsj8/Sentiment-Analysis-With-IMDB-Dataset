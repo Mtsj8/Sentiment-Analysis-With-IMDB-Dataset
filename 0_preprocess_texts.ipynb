{
 "cells": [
  {
   "cell_type": "code",
   "execution_count": 1,
   "metadata": {},
   "outputs": [],
   "source": [
    "import pandas as pd\n",
    "import os\n",
    "\n",
    "from nltk.tokenize import TreebankWordTokenizer\n",
    "tokenizer = TreebankWordTokenizer()\n",
    "\n",
    "from nltk.tokenize.treebank import TreebankWordDetokenizer\n",
    "detokenizer = TreebankWordDetokenizer()\n",
    "\n",
    "from nltk.stem import WordNetLemmatizer\n",
    "lemmatizer = WordNetLemmatizer()"
   ]
  },
  {
   "cell_type": "code",
   "execution_count": 2,
   "metadata": {},
   "outputs": [],
   "source": [
    "train_path = 'data/train/'\n",
    "test_path = 'data/test/'"
   ]
  },
  {
   "cell_type": "code",
   "execution_count": 3,
   "metadata": {},
   "outputs": [],
   "source": [
    "def generate_df(path, label):\n",
    "    file_names = os.listdir(path)\n",
    "\n",
    "    texts = []\n",
    "    for file_name in file_names:\n",
    "        if file_name.endswith('.txt'):\n",
    "            with open(path + file_name, 'r') as file:\n",
    "                text = file.read()\n",
    "\n",
    "            texts.append(text)\n",
    "\n",
    "    df = pd.DataFrame(texts, columns = ['text'])\n",
    "    df['label'] = label\n",
    "            \n",
    "    return df"
   ]
  },
  {
   "cell_type": "code",
   "execution_count": 4,
   "metadata": {},
   "outputs": [],
   "source": [
    "train_pos = generate_df(train_path + 'pos/', 1)\n",
    "train_neg = generate_df(train_path + 'neg/', 0)\n",
    "\n",
    "test_pos = generate_df(test_path + 'pos/', 1)\n",
    "test_neg = generate_df(test_path + 'neg/', 0)\n",
    "\n",
    "train_df = pd.concat([train_pos, train_neg]).reset_index(drop=True)\n",
    "test_df = pd.concat([test_pos, test_neg]).reset_index(drop=True)"
   ]
  },
  {
   "cell_type": "code",
   "execution_count": 5,
   "metadata": {},
   "outputs": [],
   "source": [
    "train_df.to_csv('data/train.csv', index = False)\n",
    "test_df.to_csv('data/test.csv', index = False)"
   ]
  },
  {
   "cell_type": "code",
   "execution_count": 6,
   "metadata": {},
   "outputs": [
    {
     "data": {
      "text/html": [
       "<div>\n",
       "<style scoped>\n",
       "    .dataframe tbody tr th:only-of-type {\n",
       "        vertical-align: middle;\n",
       "    }\n",
       "\n",
       "    .dataframe tbody tr th {\n",
       "        vertical-align: top;\n",
       "    }\n",
       "\n",
       "    .dataframe thead th {\n",
       "        text-align: right;\n",
       "    }\n",
       "</style>\n",
       "<table border=\"1\" class=\"dataframe\">\n",
       "  <thead>\n",
       "    <tr style=\"text-align: right;\">\n",
       "      <th></th>\n",
       "      <th>text</th>\n",
       "      <th>label</th>\n",
       "    </tr>\n",
       "  </thead>\n",
       "  <tbody>\n",
       "    <tr>\n",
       "      <th>0</th>\n",
       "      <td>After \"Beau travail\", everybody was waiting fo...</td>\n",
       "      <td>1</td>\n",
       "    </tr>\n",
       "    <tr>\n",
       "      <th>1</th>\n",
       "      <td>This is the best series of its type I've seen ...</td>\n",
       "      <td>1</td>\n",
       "    </tr>\n",
       "    <tr>\n",
       "      <th>2</th>\n",
       "      <td>There is a scene in Dan in Real Life where the...</td>\n",
       "      <td>1</td>\n",
       "    </tr>\n",
       "    <tr>\n",
       "      <th>3</th>\n",
       "      <td>Most war films made in the US during WWII were...</td>\n",
       "      <td>1</td>\n",
       "    </tr>\n",
       "    <tr>\n",
       "      <th>4</th>\n",
       "      <td>Actually one particular person/character isn't...</td>\n",
       "      <td>1</td>\n",
       "    </tr>\n",
       "  </tbody>\n",
       "</table>\n",
       "</div>"
      ],
      "text/plain": [
       "                                                text  label\n",
       "0  After \"Beau travail\", everybody was waiting fo...      1\n",
       "1  This is the best series of its type I've seen ...      1\n",
       "2  There is a scene in Dan in Real Life where the...      1\n",
       "3  Most war films made in the US during WWII were...      1\n",
       "4  Actually one particular person/character isn't...      1"
      ]
     },
     "execution_count": 6,
     "metadata": {},
     "output_type": "execute_result"
    }
   ],
   "source": [
    "train_df.head()"
   ]
  },
  {
   "cell_type": "code",
   "execution_count": 7,
   "metadata": {},
   "outputs": [
    {
     "name": "stdout",
     "output_type": "stream",
     "text": [
      "Train:\n",
      "1    12500\n",
      "0    12500\n",
      "Name: label, dtype: int64\n",
      "Test:\n",
      "1    12500\n",
      "0    12500\n",
      "Name: label, dtype: int64\n"
     ]
    }
   ],
   "source": [
    "print('Train:')\n",
    "print(train_df['label'].value_counts())\n",
    "\n",
    "print('Test:')\n",
    "print(test_df['label'].value_counts())"
   ]
  },
  {
   "cell_type": "code",
   "execution_count": 8,
   "metadata": {},
   "outputs": [],
   "source": [
    "def process_text(text):\n",
    "    processed_text = text.replace('<br />', ' ')\n",
    "    processed_text = processed_text.replace('\"', '')\n",
    "    processed_text = processed_text.replace('(', '')\n",
    "    processed_text = processed_text.replace(')', '')\n",
    "    processed_text = processed_text.replace('!', '')\n",
    "    processed_text = processed_text.replace('...', '')\n",
    "    processed_text = processed_text.lower()\n",
    "    \n",
    "    processed_text = tokenizer.tokenize(processed_text)\n",
    "    \n",
    "    processed_text = [lemmatizer.lemmatize(word, \"v\") for word in processed_text]\n",
    "    processed_text = [lemmatizer.lemmatize(word, \"a\") for word in processed_text]\n",
    "    \n",
    "    processed_text = detokenizer.detokenize(processed_text)\n",
    "    \n",
    "    return processed_text"
   ]
  },
  {
   "cell_type": "code",
   "execution_count": 9,
   "metadata": {},
   "outputs": [],
   "source": [
    "train_df[\"text\"] = train_df[\"text\"].apply(process_text)\n",
    "test_df[\"text\"] = test_df[\"text\"].apply(process_text)"
   ]
  },
  {
   "cell_type": "code",
   "execution_count": 10,
   "metadata": {},
   "outputs": [],
   "source": [
    "train_df.to_csv('data/processed_train.csv', index = False)\n",
    "test_df.to_csv('data/processed_test.csv', index = False)"
   ]
  }
 ],
 "metadata": {
  "kernelspec": {
   "display_name": "Python 3",
   "language": "python",
   "name": "python3"
  },
  "language_info": {
   "codemirror_mode": {
    "name": "ipython",
    "version": 3
   },
   "file_extension": ".py",
   "mimetype": "text/x-python",
   "name": "python",
   "nbconvert_exporter": "python",
   "pygments_lexer": "ipython3",
   "version": "3.6.8"
  }
 },
 "nbformat": 4,
 "nbformat_minor": 4
}
