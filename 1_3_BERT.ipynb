{
 "cells": [
  {
   "cell_type": "code",
   "execution_count": 4,
   "metadata": {
    "colab": {
     "base_uri": "https://localhost:8080/"
    },
    "id": "r1VbBaem1gIC",
    "outputId": "1515cf6b-0018-423e-c6a1-0e201462af9d"
   },
   "outputs": [
    {
     "data": {
      "text/plain": [
       "device(type='cuda')"
      ]
     },
     "execution_count": 4,
     "metadata": {
      "tags": []
     },
     "output_type": "execute_result"
    }
   ],
   "source": [
    "import pandas as pd\n",
    "import numpy as np\n",
    "\n",
    "#import nltk\n",
    "#nltk.download('stopwords')\n",
    "\n",
    "from nltk.corpus import stopwords\n",
    "stopwords = stopwords.words('english')\n",
    "\n",
    "from transformers import BertTokenizer\n",
    "from transformers import BertForSequenceClassification\n",
    "from transformers import AdamW\n",
    "from transformers import BertConfig\n",
    "from transformers import get_linear_schedule_with_warmup\n",
    "\n",
    "import torch as th\n",
    "from torch.utils.data import TensorDataset\n",
    "from torch.utils.data import DataLoader\n",
    "\n",
    "from sklearn.model_selection import train_test_split\n",
    "from sklearn.metrics import accuracy_score\n",
    "from sklearn.metrics import classification_report\n",
    "from sklearn.metrics import confusion_matrix\n",
    "\n",
    "import matplotlib.pyplot as plt\n",
    "import seaborn as sns\n",
    "sns.set_style('darkgrid')\n",
    "\n",
    "from tqdm import tqdm\n",
    "\n",
    "device = th.device('cuda' if th.cuda.is_available() else 'cpu')\n",
    "device"
   ]
  },
  {
   "cell_type": "code",
   "execution_count": 4,
   "metadata": {
    "id": "i-W74E1kMUKG"
   },
   "outputs": [],
   "source": [
    "train_df = pd.read_csv('data/processed_train.csv')\n",
    "test_df = pd.read_csv('data/processed_test.csv')"
   ]
  },
  {
   "cell_type": "code",
   "execution_count": 5,
   "metadata": {
    "id": "iTBE4Ey2Sbfa"
   },
   "outputs": [],
   "source": [
    "train_df['text'] = train_df['text'].str.replace('[^\\w\\s]','')\n",
    "test_df['text'] = test_df['text'].str.replace('[^\\w\\s]','')\n",
    "\n",
    "train_df['text'] = train_df['text'].str.split()\n",
    "train_df['text'] = train_df['text'].apply(lambda x: [word for word in x if word not in stopwords])\n",
    "train_df['text'] = train_df['text'].apply(lambda x: ' '.join(x))\n",
    "\n",
    "test_df['text'] = test_df['text'].str.split()\n",
    "test_df['text'] = test_df['text'].apply(lambda x: [word for word in x if word not in stopwords])\n",
    "test_df['text'] = test_df['text'].apply(lambda x: ' '.join(x))"
   ]
  },
  {
   "cell_type": "markdown",
   "metadata": {
    "id": "HMt4lI0BEKn3"
   },
   "source": [
    "### Encoding Texts "
   ]
  },
  {
   "cell_type": "code",
   "execution_count": 6,
   "metadata": {
    "id": "1kkA5x1QlfUc"
   },
   "outputs": [],
   "source": [
    "tokenizer = BertTokenizer.from_pretrained('bert-base-uncased', do_lower_case=True)"
   ]
  },
  {
   "cell_type": "code",
   "execution_count": 7,
   "metadata": {
    "id": "tiPsC8gV0tXf"
   },
   "outputs": [],
   "source": [
    "seq_len = 128\n",
    "\n",
    "train_df['ids'] = train_df['text'].apply(lambda x: tokenizer.encode(x, \n",
    "                                                                    add_special_tokens = True, \n",
    "                                                                    max_length = seq_len, \n",
    "                                                                    truncation=True))\n",
    "\n",
    "test_df['ids'] = test_df['text'].apply(lambda x: tokenizer.encode(x, \n",
    "                                                                  add_special_tokens = True, \n",
    "                                                                  max_length = seq_len, \n",
    "                                                                  truncation=True))\n",
    "\n",
    "train_df['ids'] = train_df['ids'].apply(lambda x: [tokenizer.pad_token_id]*(seq_len - len(x)) + x)\n",
    "test_df['ids'] = test_df['ids'].apply(lambda x: [tokenizer.pad_token_id]*(seq_len - len(x)) + x)"
   ]
  },
  {
   "cell_type": "markdown",
   "metadata": {
    "id": "pr5nU3jZEX8H"
   },
   "source": [
    "#### Creating Attention Masks"
   ]
  },
  {
   "cell_type": "code",
   "execution_count": null,
   "metadata": {
    "id": "hYEdAvNPFAjR"
   },
   "outputs": [],
   "source": [
    "train_att_masks = []\n",
    "train_df['ids'].apply(lambda x: train_att_masks.append([int(token > 0) for token in x]))\n",
    "\n",
    "test_att_masks = []\n",
    "test_df['ids'].apply(lambda x: test_att_masks.append([int(token > 0) for token in x]))"
   ]
  },
  {
   "cell_type": "markdown",
   "metadata": {
    "id": "iO1bNL7fOecH"
   },
   "source": [
    "### Splitting training dataset for validation"
   ]
  },
  {
   "cell_type": "code",
   "execution_count": 9,
   "metadata": {
    "colab": {
     "base_uri": "https://localhost:8080/"
    },
    "id": "hljUcSChTpsF",
    "outputId": "529dfbf9-d78c-4c47-cc2f-a4befe126d50"
   },
   "outputs": [
    {
     "name": "stdout",
     "output_type": "stream",
     "text": [
      "Train size: 20000\n",
      "Validation size: 5000\n",
      "Test size: 25000\n"
     ]
    }
   ],
   "source": [
    "x = train_df['ids'].values\n",
    "y = train_df['label'].values\n",
    "\n",
    "x_test = test_df['ids'].values\n",
    "y_test = test_df['label'].values\n",
    "\n",
    "x_train, x_val, y_train, y_val = train_test_split(x, \n",
    "                                                  y, \n",
    "                                                  test_size=.2, \n",
    "                                                  stratify=y, \n",
    "                                                  random_state = 42)\n",
    "\n",
    "train_att_masks, val_att_masks, _, _ = train_test_split(train_att_masks, \n",
    "                                                         y, \n",
    "                                                         test_size=.2, \n",
    "                                                         stratify=y, \n",
    "                                                         random_state = 42)\n",
    "\n",
    "x_train = np.stack(x_train)\n",
    "x_val = np.stack(x_val)\n",
    "x_test = np.stack(x_test)\n",
    "train_att_masks = np.stack(train_att_masks)\n",
    "val_att_masks = np.stack(val_att_masks)\n",
    "test_att_masks = np.stack(test_att_masks)\n",
    "\n",
    "print('Train size: %i'%(len(x_train)))\n",
    "print('Validation size: %i'%(len(x_val)))\n",
    "print('Test size: %i'%(len(x_test)))"
   ]
  },
  {
   "cell_type": "markdown",
   "metadata": {
    "id": "CGHWmqeyOpwg"
   },
   "source": [
    "### Creating Torch Datasets"
   ]
  },
  {
   "cell_type": "code",
   "execution_count": 10,
   "metadata": {
    "id": "tP07wlKlJhQm"
   },
   "outputs": [],
   "source": [
    "x_train = th.from_numpy(x_train).to(device)\n",
    "x_val = th.from_numpy(x_val).to(device)\n",
    "x_test = th.from_numpy(x_test).to(device)\n",
    "\n",
    "y_train = th.from_numpy(y_train).to(device)\n",
    "y_val = th.from_numpy(y_val).to(device)\n",
    "y_test = th.from_numpy(y_test).to(device)\n",
    "\n",
    "train_att_masks = th.from_numpy(train_att_masks).to(device)\n",
    "val_att_masks = th.from_numpy(val_att_masks).to(device)\n",
    "test_att_masks = th.from_numpy(test_att_masks).to(device)\n",
    "\n",
    "batch_size = 16\n",
    "\n",
    "train_data = TensorDataset(x_train, y_train, train_att_masks)\n",
    "train_loader = DataLoader(train_data,\n",
    "                          batch_size=batch_size)\n",
    "\n",
    "val_data = TensorDataset(x_val, y_val, val_att_masks)\n",
    "val_loader = DataLoader(val_data,\n",
    "                        batch_size=batch_size)\n",
    "\n",
    "test_data = TensorDataset(x_test, y_test, test_att_masks)\n",
    "test_loader = DataLoader(test_data,\n",
    "                         batch_size=batch_size)"
   ]
  },
  {
   "cell_type": "markdown",
   "metadata": {
    "id": "1IirUXYYO0-E"
   },
   "source": [
    "### Getting BERT"
   ]
  },
  {
   "cell_type": "code",
   "execution_count": 11,
   "metadata": {
    "colab": {
     "base_uri": "https://localhost:8080/"
    },
    "id": "1dW6NrInstfe",
    "outputId": "f7cbea4c-4784-4142-a184-b2b366d56946"
   },
   "outputs": [
    {
     "name": "stderr",
     "output_type": "stream",
     "text": [
      "Some weights of the model checkpoint at bert-base-uncased were not used when initializing BertForSequenceClassification: ['cls.predictions.bias', 'cls.predictions.transform.dense.weight', 'cls.predictions.transform.dense.bias', 'cls.predictions.decoder.weight', 'cls.seq_relationship.weight', 'cls.seq_relationship.bias', 'cls.predictions.transform.LayerNorm.weight', 'cls.predictions.transform.LayerNorm.bias']\n",
      "- This IS expected if you are initializing BertForSequenceClassification from the checkpoint of a model trained on another task or with another architecture (e.g. initializing a BertForSequenceClassification model from a BertForPreTraining model).\n",
      "- This IS NOT expected if you are initializing BertForSequenceClassification from the checkpoint of a model that you expect to be exactly identical (initializing a BertForSequenceClassification model from a BertForSequenceClassification model).\n",
      "Some weights of BertForSequenceClassification were not initialized from the model checkpoint at bert-base-uncased and are newly initialized: ['classifier.weight', 'classifier.bias']\n",
      "You should probably TRAIN this model on a down-stream task to be able to use it for predictions and inference.\n"
     ]
    },
    {
     "data": {
      "text/plain": [
       "BertForSequenceClassification(\n",
       "  (bert): BertModel(\n",
       "    (embeddings): BertEmbeddings(\n",
       "      (word_embeddings): Embedding(30522, 768, padding_idx=0)\n",
       "      (position_embeddings): Embedding(512, 768)\n",
       "      (token_type_embeddings): Embedding(2, 768)\n",
       "      (LayerNorm): LayerNorm((768,), eps=1e-12, elementwise_affine=True)\n",
       "      (dropout): Dropout(p=0.3, inplace=False)\n",
       "    )\n",
       "    (encoder): BertEncoder(\n",
       "      (layer): ModuleList(\n",
       "        (0): BertLayer(\n",
       "          (attention): BertAttention(\n",
       "            (self): BertSelfAttention(\n",
       "              (query): Linear(in_features=768, out_features=768, bias=True)\n",
       "              (key): Linear(in_features=768, out_features=768, bias=True)\n",
       "              (value): Linear(in_features=768, out_features=768, bias=True)\n",
       "              (dropout): Dropout(p=0.3, inplace=False)\n",
       "            )\n",
       "            (output): BertSelfOutput(\n",
       "              (dense): Linear(in_features=768, out_features=768, bias=True)\n",
       "              (LayerNorm): LayerNorm((768,), eps=1e-12, elementwise_affine=True)\n",
       "              (dropout): Dropout(p=0.3, inplace=False)\n",
       "            )\n",
       "          )\n",
       "          (intermediate): BertIntermediate(\n",
       "            (dense): Linear(in_features=768, out_features=3072, bias=True)\n",
       "          )\n",
       "          (output): BertOutput(\n",
       "            (dense): Linear(in_features=3072, out_features=768, bias=True)\n",
       "            (LayerNorm): LayerNorm((768,), eps=1e-12, elementwise_affine=True)\n",
       "            (dropout): Dropout(p=0.3, inplace=False)\n",
       "          )\n",
       "        )\n",
       "        (1): BertLayer(\n",
       "          (attention): BertAttention(\n",
       "            (self): BertSelfAttention(\n",
       "              (query): Linear(in_features=768, out_features=768, bias=True)\n",
       "              (key): Linear(in_features=768, out_features=768, bias=True)\n",
       "              (value): Linear(in_features=768, out_features=768, bias=True)\n",
       "              (dropout): Dropout(p=0.3, inplace=False)\n",
       "            )\n",
       "            (output): BertSelfOutput(\n",
       "              (dense): Linear(in_features=768, out_features=768, bias=True)\n",
       "              (LayerNorm): LayerNorm((768,), eps=1e-12, elementwise_affine=True)\n",
       "              (dropout): Dropout(p=0.3, inplace=False)\n",
       "            )\n",
       "          )\n",
       "          (intermediate): BertIntermediate(\n",
       "            (dense): Linear(in_features=768, out_features=3072, bias=True)\n",
       "          )\n",
       "          (output): BertOutput(\n",
       "            (dense): Linear(in_features=3072, out_features=768, bias=True)\n",
       "            (LayerNorm): LayerNorm((768,), eps=1e-12, elementwise_affine=True)\n",
       "            (dropout): Dropout(p=0.3, inplace=False)\n",
       "          )\n",
       "        )\n",
       "        (2): BertLayer(\n",
       "          (attention): BertAttention(\n",
       "            (self): BertSelfAttention(\n",
       "              (query): Linear(in_features=768, out_features=768, bias=True)\n",
       "              (key): Linear(in_features=768, out_features=768, bias=True)\n",
       "              (value): Linear(in_features=768, out_features=768, bias=True)\n",
       "              (dropout): Dropout(p=0.3, inplace=False)\n",
       "            )\n",
       "            (output): BertSelfOutput(\n",
       "              (dense): Linear(in_features=768, out_features=768, bias=True)\n",
       "              (LayerNorm): LayerNorm((768,), eps=1e-12, elementwise_affine=True)\n",
       "              (dropout): Dropout(p=0.3, inplace=False)\n",
       "            )\n",
       "          )\n",
       "          (intermediate): BertIntermediate(\n",
       "            (dense): Linear(in_features=768, out_features=3072, bias=True)\n",
       "          )\n",
       "          (output): BertOutput(\n",
       "            (dense): Linear(in_features=3072, out_features=768, bias=True)\n",
       "            (LayerNorm): LayerNorm((768,), eps=1e-12, elementwise_affine=True)\n",
       "            (dropout): Dropout(p=0.3, inplace=False)\n",
       "          )\n",
       "        )\n",
       "        (3): BertLayer(\n",
       "          (attention): BertAttention(\n",
       "            (self): BertSelfAttention(\n",
       "              (query): Linear(in_features=768, out_features=768, bias=True)\n",
       "              (key): Linear(in_features=768, out_features=768, bias=True)\n",
       "              (value): Linear(in_features=768, out_features=768, bias=True)\n",
       "              (dropout): Dropout(p=0.3, inplace=False)\n",
       "            )\n",
       "            (output): BertSelfOutput(\n",
       "              (dense): Linear(in_features=768, out_features=768, bias=True)\n",
       "              (LayerNorm): LayerNorm((768,), eps=1e-12, elementwise_affine=True)\n",
       "              (dropout): Dropout(p=0.3, inplace=False)\n",
       "            )\n",
       "          )\n",
       "          (intermediate): BertIntermediate(\n",
       "            (dense): Linear(in_features=768, out_features=3072, bias=True)\n",
       "          )\n",
       "          (output): BertOutput(\n",
       "            (dense): Linear(in_features=3072, out_features=768, bias=True)\n",
       "            (LayerNorm): LayerNorm((768,), eps=1e-12, elementwise_affine=True)\n",
       "            (dropout): Dropout(p=0.3, inplace=False)\n",
       "          )\n",
       "        )\n",
       "        (4): BertLayer(\n",
       "          (attention): BertAttention(\n",
       "            (self): BertSelfAttention(\n",
       "              (query): Linear(in_features=768, out_features=768, bias=True)\n",
       "              (key): Linear(in_features=768, out_features=768, bias=True)\n",
       "              (value): Linear(in_features=768, out_features=768, bias=True)\n",
       "              (dropout): Dropout(p=0.3, inplace=False)\n",
       "            )\n",
       "            (output): BertSelfOutput(\n",
       "              (dense): Linear(in_features=768, out_features=768, bias=True)\n",
       "              (LayerNorm): LayerNorm((768,), eps=1e-12, elementwise_affine=True)\n",
       "              (dropout): Dropout(p=0.3, inplace=False)\n",
       "            )\n",
       "          )\n",
       "          (intermediate): BertIntermediate(\n",
       "            (dense): Linear(in_features=768, out_features=3072, bias=True)\n",
       "          )\n",
       "          (output): BertOutput(\n",
       "            (dense): Linear(in_features=3072, out_features=768, bias=True)\n",
       "            (LayerNorm): LayerNorm((768,), eps=1e-12, elementwise_affine=True)\n",
       "            (dropout): Dropout(p=0.3, inplace=False)\n",
       "          )\n",
       "        )\n",
       "        (5): BertLayer(\n",
       "          (attention): BertAttention(\n",
       "            (self): BertSelfAttention(\n",
       "              (query): Linear(in_features=768, out_features=768, bias=True)\n",
       "              (key): Linear(in_features=768, out_features=768, bias=True)\n",
       "              (value): Linear(in_features=768, out_features=768, bias=True)\n",
       "              (dropout): Dropout(p=0.3, inplace=False)\n",
       "            )\n",
       "            (output): BertSelfOutput(\n",
       "              (dense): Linear(in_features=768, out_features=768, bias=True)\n",
       "              (LayerNorm): LayerNorm((768,), eps=1e-12, elementwise_affine=True)\n",
       "              (dropout): Dropout(p=0.3, inplace=False)\n",
       "            )\n",
       "          )\n",
       "          (intermediate): BertIntermediate(\n",
       "            (dense): Linear(in_features=768, out_features=3072, bias=True)\n",
       "          )\n",
       "          (output): BertOutput(\n",
       "            (dense): Linear(in_features=3072, out_features=768, bias=True)\n",
       "            (LayerNorm): LayerNorm((768,), eps=1e-12, elementwise_affine=True)\n",
       "            (dropout): Dropout(p=0.3, inplace=False)\n",
       "          )\n",
       "        )\n",
       "        (6): BertLayer(\n",
       "          (attention): BertAttention(\n",
       "            (self): BertSelfAttention(\n",
       "              (query): Linear(in_features=768, out_features=768, bias=True)\n",
       "              (key): Linear(in_features=768, out_features=768, bias=True)\n",
       "              (value): Linear(in_features=768, out_features=768, bias=True)\n",
       "              (dropout): Dropout(p=0.3, inplace=False)\n",
       "            )\n",
       "            (output): BertSelfOutput(\n",
       "              (dense): Linear(in_features=768, out_features=768, bias=True)\n",
       "              (LayerNorm): LayerNorm((768,), eps=1e-12, elementwise_affine=True)\n",
       "              (dropout): Dropout(p=0.3, inplace=False)\n",
       "            )\n",
       "          )\n",
       "          (intermediate): BertIntermediate(\n",
       "            (dense): Linear(in_features=768, out_features=3072, bias=True)\n",
       "          )\n",
       "          (output): BertOutput(\n",
       "            (dense): Linear(in_features=3072, out_features=768, bias=True)\n",
       "            (LayerNorm): LayerNorm((768,), eps=1e-12, elementwise_affine=True)\n",
       "            (dropout): Dropout(p=0.3, inplace=False)\n",
       "          )\n",
       "        )\n",
       "        (7): BertLayer(\n",
       "          (attention): BertAttention(\n",
       "            (self): BertSelfAttention(\n",
       "              (query): Linear(in_features=768, out_features=768, bias=True)\n",
       "              (key): Linear(in_features=768, out_features=768, bias=True)\n",
       "              (value): Linear(in_features=768, out_features=768, bias=True)\n",
       "              (dropout): Dropout(p=0.3, inplace=False)\n",
       "            )\n",
       "            (output): BertSelfOutput(\n",
       "              (dense): Linear(in_features=768, out_features=768, bias=True)\n",
       "              (LayerNorm): LayerNorm((768,), eps=1e-12, elementwise_affine=True)\n",
       "              (dropout): Dropout(p=0.3, inplace=False)\n",
       "            )\n",
       "          )\n",
       "          (intermediate): BertIntermediate(\n",
       "            (dense): Linear(in_features=768, out_features=3072, bias=True)\n",
       "          )\n",
       "          (output): BertOutput(\n",
       "            (dense): Linear(in_features=3072, out_features=768, bias=True)\n",
       "            (LayerNorm): LayerNorm((768,), eps=1e-12, elementwise_affine=True)\n",
       "            (dropout): Dropout(p=0.3, inplace=False)\n",
       "          )\n",
       "        )\n",
       "        (8): BertLayer(\n",
       "          (attention): BertAttention(\n",
       "            (self): BertSelfAttention(\n",
       "              (query): Linear(in_features=768, out_features=768, bias=True)\n",
       "              (key): Linear(in_features=768, out_features=768, bias=True)\n",
       "              (value): Linear(in_features=768, out_features=768, bias=True)\n",
       "              (dropout): Dropout(p=0.3, inplace=False)\n",
       "            )\n",
       "            (output): BertSelfOutput(\n",
       "              (dense): Linear(in_features=768, out_features=768, bias=True)\n",
       "              (LayerNorm): LayerNorm((768,), eps=1e-12, elementwise_affine=True)\n",
       "              (dropout): Dropout(p=0.3, inplace=False)\n",
       "            )\n",
       "          )\n",
       "          (intermediate): BertIntermediate(\n",
       "            (dense): Linear(in_features=768, out_features=3072, bias=True)\n",
       "          )\n",
       "          (output): BertOutput(\n",
       "            (dense): Linear(in_features=3072, out_features=768, bias=True)\n",
       "            (LayerNorm): LayerNorm((768,), eps=1e-12, elementwise_affine=True)\n",
       "            (dropout): Dropout(p=0.3, inplace=False)\n",
       "          )\n",
       "        )\n",
       "        (9): BertLayer(\n",
       "          (attention): BertAttention(\n",
       "            (self): BertSelfAttention(\n",
       "              (query): Linear(in_features=768, out_features=768, bias=True)\n",
       "              (key): Linear(in_features=768, out_features=768, bias=True)\n",
       "              (value): Linear(in_features=768, out_features=768, bias=True)\n",
       "              (dropout): Dropout(p=0.3, inplace=False)\n",
       "            )\n",
       "            (output): BertSelfOutput(\n",
       "              (dense): Linear(in_features=768, out_features=768, bias=True)\n",
       "              (LayerNorm): LayerNorm((768,), eps=1e-12, elementwise_affine=True)\n",
       "              (dropout): Dropout(p=0.3, inplace=False)\n",
       "            )\n",
       "          )\n",
       "          (intermediate): BertIntermediate(\n",
       "            (dense): Linear(in_features=768, out_features=3072, bias=True)\n",
       "          )\n",
       "          (output): BertOutput(\n",
       "            (dense): Linear(in_features=3072, out_features=768, bias=True)\n",
       "            (LayerNorm): LayerNorm((768,), eps=1e-12, elementwise_affine=True)\n",
       "            (dropout): Dropout(p=0.3, inplace=False)\n",
       "          )\n",
       "        )\n",
       "        (10): BertLayer(\n",
       "          (attention): BertAttention(\n",
       "            (self): BertSelfAttention(\n",
       "              (query): Linear(in_features=768, out_features=768, bias=True)\n",
       "              (key): Linear(in_features=768, out_features=768, bias=True)\n",
       "              (value): Linear(in_features=768, out_features=768, bias=True)\n",
       "              (dropout): Dropout(p=0.3, inplace=False)\n",
       "            )\n",
       "            (output): BertSelfOutput(\n",
       "              (dense): Linear(in_features=768, out_features=768, bias=True)\n",
       "              (LayerNorm): LayerNorm((768,), eps=1e-12, elementwise_affine=True)\n",
       "              (dropout): Dropout(p=0.3, inplace=False)\n",
       "            )\n",
       "          )\n",
       "          (intermediate): BertIntermediate(\n",
       "            (dense): Linear(in_features=768, out_features=3072, bias=True)\n",
       "          )\n",
       "          (output): BertOutput(\n",
       "            (dense): Linear(in_features=3072, out_features=768, bias=True)\n",
       "            (LayerNorm): LayerNorm((768,), eps=1e-12, elementwise_affine=True)\n",
       "            (dropout): Dropout(p=0.3, inplace=False)\n",
       "          )\n",
       "        )\n",
       "        (11): BertLayer(\n",
       "          (attention): BertAttention(\n",
       "            (self): BertSelfAttention(\n",
       "              (query): Linear(in_features=768, out_features=768, bias=True)\n",
       "              (key): Linear(in_features=768, out_features=768, bias=True)\n",
       "              (value): Linear(in_features=768, out_features=768, bias=True)\n",
       "              (dropout): Dropout(p=0.3, inplace=False)\n",
       "            )\n",
       "            (output): BertSelfOutput(\n",
       "              (dense): Linear(in_features=768, out_features=768, bias=True)\n",
       "              (LayerNorm): LayerNorm((768,), eps=1e-12, elementwise_affine=True)\n",
       "              (dropout): Dropout(p=0.3, inplace=False)\n",
       "            )\n",
       "          )\n",
       "          (intermediate): BertIntermediate(\n",
       "            (dense): Linear(in_features=768, out_features=3072, bias=True)\n",
       "          )\n",
       "          (output): BertOutput(\n",
       "            (dense): Linear(in_features=3072, out_features=768, bias=True)\n",
       "            (LayerNorm): LayerNorm((768,), eps=1e-12, elementwise_affine=True)\n",
       "            (dropout): Dropout(p=0.3, inplace=False)\n",
       "          )\n",
       "        )\n",
       "      )\n",
       "    )\n",
       "    (pooler): BertPooler(\n",
       "      (dense): Linear(in_features=768, out_features=768, bias=True)\n",
       "      (activation): Tanh()\n",
       "    )\n",
       "  )\n",
       "  (dropout): Dropout(p=0.3, inplace=False)\n",
       "  (classifier): Linear(in_features=768, out_features=2, bias=True)\n",
       ")"
      ]
     },
     "execution_count": 11,
     "metadata": {
      "tags": []
     },
     "output_type": "execute_result"
    }
   ],
   "source": [
    "config = BertConfig.from_pretrained('bert-base-uncased', \n",
    "                                    num_labels = 2,  \n",
    "                                    output_attentions = False,\n",
    "                                    output_hidden_states = False, \n",
    "                                    hidden_dropout_prob=.3, \n",
    "                                    attention_probs_dropout_prob = .3)\n",
    "\n",
    "net = BertForSequenceClassification.from_pretrained(\n",
    "    'bert-base-uncased', \n",
    "    config=config).to(device)\n",
    "\n",
    "net"
   ]
  },
  {
   "cell_type": "code",
   "execution_count": 12,
   "metadata": {
    "id": "EqLgKe3rMgwY"
   },
   "outputs": [],
   "source": [
    "epochs = 50\n",
    "lr = 2e-5\n",
    "early_stop_rounds = 5\n",
    "\n",
    "opt = AdamW(net.parameters(),lr=lr)\n",
    "sched = get_linear_schedule_with_warmup(opt, \n",
    "                                        num_warmup_steps=0,\n",
    "                                        num_training_steps=len(train_loader)*epochs\n",
    "                                        )\n"
   ]
  },
  {
   "cell_type": "markdown",
   "metadata": {
    "id": "PH_VrMHmPDF1"
   },
   "source": [
    "### Fine-Tuning BERT "
   ]
  },
  {
   "cell_type": "code",
   "execution_count": 13,
   "metadata": {
    "colab": {
     "base_uri": "https://localhost:8080/"
    },
    "id": "UKSLrNSISi_n",
    "outputId": "515a6f52-044c-486f-e91e-497daba07062"
   },
   "outputs": [
    {
     "name": "stderr",
     "output_type": "stream",
     "text": [
      "\r",
      "  0%|          | 0/1250 [00:00<?, ?it/s]"
     ]
    },
    {
     "name": "stdout",
     "output_type": "stream",
     "text": [
      "Epoch: 1\n"
     ]
    },
    {
     "name": "stderr",
     "output_type": "stream",
     "text": [
      "100%|██████████| 1250/1250 [07:34<00:00,  2.75it/s]\n"
     ]
    },
    {
     "name": "stdout",
     "output_type": "stream",
     "text": [
      "LOSS: 0.357728\n",
      "VALIDATION ACC: 0.8790\n"
     ]
    },
    {
     "name": "stderr",
     "output_type": "stream",
     "text": [
      "\r",
      "  0%|          | 0/1250 [00:00<?, ?it/s]"
     ]
    },
    {
     "name": "stdout",
     "output_type": "stream",
     "text": [
      "Epoch: 2\n"
     ]
    },
    {
     "name": "stderr",
     "output_type": "stream",
     "text": [
      "100%|██████████| 1250/1250 [07:35<00:00,  2.75it/s]\n"
     ]
    },
    {
     "name": "stdout",
     "output_type": "stream",
     "text": [
      "LOSS: 0.155948\n"
     ]
    },
    {
     "name": "stderr",
     "output_type": "stream",
     "text": [
      "\r",
      "  0%|          | 0/1250 [00:00<?, ?it/s]"
     ]
    },
    {
     "name": "stdout",
     "output_type": "stream",
     "text": [
      "VALIDATION ACC: 0.8702\n",
      "Epoch: 3\n"
     ]
    },
    {
     "name": "stderr",
     "output_type": "stream",
     "text": [
      "100%|██████████| 1250/1250 [07:35<00:00,  2.75it/s]\n"
     ]
    },
    {
     "name": "stdout",
     "output_type": "stream",
     "text": [
      "LOSS: 0.070031\n"
     ]
    },
    {
     "name": "stderr",
     "output_type": "stream",
     "text": [
      "\r",
      "  0%|          | 0/1250 [00:00<?, ?it/s]"
     ]
    },
    {
     "name": "stdout",
     "output_type": "stream",
     "text": [
      "VALIDATION ACC: 0.8588\n",
      "Epoch: 4\n"
     ]
    },
    {
     "name": "stderr",
     "output_type": "stream",
     "text": [
      "100%|██████████| 1250/1250 [07:35<00:00,  2.75it/s]\n"
     ]
    },
    {
     "name": "stdout",
     "output_type": "stream",
     "text": [
      "LOSS: 0.041275\n"
     ]
    },
    {
     "name": "stderr",
     "output_type": "stream",
     "text": [
      "\r",
      "  0%|          | 0/1250 [00:00<?, ?it/s]"
     ]
    },
    {
     "name": "stdout",
     "output_type": "stream",
     "text": [
      "VALIDATION ACC: 0.8604\n",
      "Epoch: 5\n"
     ]
    },
    {
     "name": "stderr",
     "output_type": "stream",
     "text": [
      "100%|██████████| 1250/1250 [07:35<00:00,  2.75it/s]\n"
     ]
    },
    {
     "name": "stdout",
     "output_type": "stream",
     "text": [
      "LOSS: 0.029846\n"
     ]
    },
    {
     "name": "stderr",
     "output_type": "stream",
     "text": [
      "\r",
      "  0%|          | 0/1250 [00:00<?, ?it/s]"
     ]
    },
    {
     "name": "stdout",
     "output_type": "stream",
     "text": [
      "VALIDATION ACC: 0.8530\n",
      "Epoch: 6\n"
     ]
    },
    {
     "name": "stderr",
     "output_type": "stream",
     "text": [
      "100%|██████████| 1250/1250 [07:35<00:00,  2.75it/s]\n"
     ]
    },
    {
     "name": "stdout",
     "output_type": "stream",
     "text": [
      "LOSS: 0.021002\n",
      "VALIDATION ACC: 0.8668\n",
      "Early stopping...\n",
      "Best acc:  0.8790\n"
     ]
    }
   ],
   "source": [
    "predict_logits = lambda logits: th.argmax(logits, axis=1).flatten()\n",
    "\n",
    "losses = []\n",
    "val_acc = []\n",
    "\n",
    "early_stop_acc = -np.inf\n",
    "early_stop_rounds_count = 0\n",
    "\n",
    "for epoch in range(epochs):\n",
    "  print('Epoch: %i'%(epoch+1))\n",
    "\n",
    "  net.train()\n",
    "\n",
    "  batch_losses = []\n",
    "  for train in tqdm(train_loader):\n",
    "    train_feats = train[0]\n",
    "    train_labels = train[1]\n",
    "    train_mask = train[2]\n",
    "    \n",
    "    net.eval()\n",
    "\n",
    "    output = net(train_feats, \n",
    "                 labels=train_labels,\n",
    "                 attention_mask=train_mask, \n",
    "                 token_type_ids=None)\n",
    "    \n",
    "    loss = output[0]\n",
    "\n",
    "    opt.zero_grad()\n",
    "    loss.backward()\n",
    "    opt.step()\n",
    "\n",
    "    sched.step()\n",
    "\n",
    "    batch_losses.append(loss.item())\n",
    "\n",
    "    loss_mean = np.array(batch_losses).mean()\n",
    "\n",
    "  losses.append(loss_mean)\n",
    "  print('LOSS: %f'%(loss_mean))\n",
    "\n",
    "  if epoch % 5 == 0:\n",
    "    path = 'models/bert_model_checkpoint.pt'\n",
    "    th.save({'epoch': epoch,\n",
    "             'model_state_dict': net.state_dict(),\n",
    "             'optimizer_state_dict': opt.state_dict(),\n",
    "             'loss': loss_mean,\n",
    "            }, path)\n",
    "    \n",
    "  net.eval()\n",
    "\n",
    "  y_pred = []\n",
    "  y_true = []\n",
    "\n",
    "  for val in val_loader:\n",
    "    val_feats = val[0]\n",
    "    val_labels = val[1].cpu().numpy()\n",
    "    val_mask = val[2]\n",
    "\n",
    "    val_logits = net(val_feats,\n",
    "                     attention_mask=val_mask, \n",
    "                     token_type_ids=None)[0]\n",
    "\n",
    "    y_true.extend(val_labels)\n",
    "    y_pred.extend(predict_logits(val_logits).cpu().numpy())\n",
    "\n",
    "  acc = accuracy_score(y_true, y_pred)\n",
    "  val_acc.append(acc)\n",
    "  print('VALIDATION ACC: %.4f'%(acc))\n",
    "\n",
    "  if acc > early_stop_acc:\n",
    "    early_stop_acc = acc\n",
    "    \n",
    "    path = 'models/bert_model_early_stop.pt'\n",
    "    th.save({'epoch': epoch,\n",
    "             'model_state_dict': net.state_dict(),\n",
    "             'optimizer_state_dict': opt.state_dict(),\n",
    "             'loss': loss_mean,\n",
    "             'val_acc':acc\n",
    "            }, path)\n",
    "    \n",
    "    early_stop_rounds_count = 0\n",
    "  else:\n",
    "    early_stop_rounds_count += 1\n",
    "\n",
    "  if early_stop_rounds_count == early_stop_rounds:\n",
    "    print('Early stopping...')\n",
    "    print('Best acc:  %.4f'%(early_stop_acc))\n",
    "    break"
   ]
  },
  {
   "cell_type": "code",
   "execution_count": 14,
   "metadata": {
    "colab": {
     "base_uri": "https://localhost:8080/"
    },
    "id": "HqyQSWaiDIpj",
    "outputId": "69ece855-68ec-493c-8e38-c183d4e49b41"
   },
   "outputs": [
    {
     "name": "stderr",
     "output_type": "stream",
     "text": [
      "Some weights of the model checkpoint at bert-base-uncased were not used when initializing BertForSequenceClassification: ['cls.predictions.bias', 'cls.predictions.transform.dense.weight', 'cls.predictions.transform.dense.bias', 'cls.predictions.decoder.weight', 'cls.seq_relationship.weight', 'cls.seq_relationship.bias', 'cls.predictions.transform.LayerNorm.weight', 'cls.predictions.transform.LayerNorm.bias']\n",
      "- This IS expected if you are initializing BertForSequenceClassification from the checkpoint of a model trained on another task or with another architecture (e.g. initializing a BertForSequenceClassification model from a BertForPreTraining model).\n",
      "- This IS NOT expected if you are initializing BertForSequenceClassification from the checkpoint of a model that you expect to be exactly identical (initializing a BertForSequenceClassification model from a BertForSequenceClassification model).\n",
      "Some weights of BertForSequenceClassification were not initialized from the model checkpoint at bert-base-uncased and are newly initialized: ['classifier.weight', 'classifier.bias']\n",
      "You should probably TRAIN this model on a down-stream task to be able to use it for predictions and inference.\n"
     ]
    },
    {
     "data": {
      "text/plain": [
       "<All keys matched successfully>"
      ]
     },
     "execution_count": 14,
     "metadata": {
      "tags": []
     },
     "output_type": "execute_result"
    }
   ],
   "source": [
    "early_stop_net = th.load('models/bert_model_early_stop.pt')\n",
    "\n",
    "config = BertConfig.from_pretrained('bert-base-uncased', \n",
    "                                    num_labels = 2,  \n",
    "                                    output_attentions = False,\n",
    "                                    output_hidden_states = False, \n",
    "                                    hidden_dropout_prob=.3, \n",
    "                                    attention_probs_dropout_prob = .3)\n",
    "\n",
    "net = BertForSequenceClassification.from_pretrained(\n",
    "    'bert-base-uncased', \n",
    "    config=config).to(device)\n",
    "\n",
    "net.load_state_dict(early_stop_net['model_state_dict'])"
   ]
  },
  {
   "cell_type": "markdown",
   "metadata": {
    "id": "FF6ORDRJPR5D"
   },
   "source": [
    "### Model Evaluation"
   ]
  },
  {
   "cell_type": "code",
   "execution_count": 15,
   "metadata": {
    "colab": {
     "base_uri": "https://localhost:8080/",
     "height": 237
    },
    "id": "FUSJljA2DYaF",
    "outputId": "38619225-4082-4106-f5c2-9071d143da2e"
   },
   "outputs": [
    {
     "data": {
      "text/plain": [
       "[Text(0, 0.5, 'Validation accuracy'), Text(0.5, 0, 'Epoch')]"
      ]
     },
     "execution_count": 15,
     "metadata": {
      "tags": []
     },
     "output_type": "execute_result"
    },
    {
     "data": {
      "image/png": "[encoded data removed]",
      "text/plain": [
       "<Figure size 1440x360 with 2 Axes>"
      ]
     },
     "metadata": {
      "tags": []
     },
     "output_type": "display_data"
    }
   ],
   "source": [
    "plt.figure(figsize=(20, 5))\n",
    "\n",
    "plt.subplot(1, 2, 1)\n",
    "ax = sns.scatterplot(x=[early_stop_net['epoch']+1], \n",
    "                     y=[early_stop_net['loss']], \n",
    "                     color='red', \n",
    "                     s=50)\n",
    "ax.legend(['Early stop (epoch=%i, loss=%.4f)'%(early_stop_net['epoch']+1, \n",
    "                                               early_stop_net['loss'])])\n",
    "ax = sns.lineplot(x=range(1, epoch+2), y=losses, ax=ax)\n",
    "\n",
    "ax.set(xlabel='Epoch', ylabel='Train loss')\n",
    "\n",
    "plt.subplot(1, 2, 2)\n",
    "ax = sns.scatterplot(x=[early_stop_net['epoch']+1], \n",
    "                     y=[early_stop_net['val_acc']], \n",
    "                     color='red', \n",
    "                     s=50)\n",
    "ax.legend(['Early stop (epoch=%i, val acc=%.4f)'%(early_stop_net['epoch']+1, \n",
    "                                               early_stop_net['val_acc'])])\n",
    "ax = sns.lineplot(x=range(1, epoch+2), y=val_acc, ax=ax)\n",
    "ax.set(xlabel='Epoch', ylabel='Validation accuracy')"
   ]
  },
  {
   "cell_type": "code",
   "execution_count": 16,
   "metadata": {
    "colab": {
     "base_uri": "https://localhost:8080/",
     "height": 439
    },
    "id": "VniVC2sMGJwx",
    "outputId": "419251f2-0aaa-43df-b250-1f621fc0f3e3"
   },
   "outputs": [
    {
     "name": "stdout",
     "output_type": "stream",
     "text": [
      "              precision    recall  f1-score   support\n",
      "\n",
      "           0    0.87277   0.90272   0.88749     12500\n",
      "           1    0.89926   0.86840   0.88356     12500\n",
      "\n",
      "    accuracy                        0.88556     25000\n",
      "   macro avg    0.88601   0.88556   0.88553     25000\n",
      "weighted avg    0.88601   0.88556   0.88553     25000\n",
      "\n"
     ]
    },
    {
     "data": {
      "text/plain": [
       "<matplotlib.axes._subplots.AxesSubplot at 0x7fc2e86cd748>"
      ]
     },
     "execution_count": 16,
     "metadata": {
      "tags": []
     },
     "output_type": "execute_result"
    },
    {
     "data": {
      "image/png": "[encoded data removed]",
      "text/plain": [
       "<Figure size 432x288 with 2 Axes>"
      ]
     },
     "metadata": {
      "tags": []
     },
     "output_type": "display_data"
    }
   ],
   "source": [
    "y_pred = []\n",
    "y_true = []\n",
    "\n",
    "for test in test_loader:\n",
    "  test_feats = test[0]\n",
    "  test_labels = test[1].cpu().numpy()\n",
    "  test_mask = test[2]\n",
    "\n",
    "  test_logits = net(test_feats,\n",
    "                    attention_mask=test_mask, \n",
    "                    token_type_ids=None)[0]\n",
    "\n",
    "  y_true.extend(test_labels)\n",
    "  y_pred.extend(predict_logits(test_logits).cpu().numpy())\n",
    "\n",
    "print(classification_report(y_true, y_pred, digits=5))\n",
    "\n",
    "cm = confusion_matrix(y_true, y_pred, normalize='true')\n",
    "sns.heatmap(cm, annot=True, cmap='Greens')"
   ]
  }
 ],
 "metadata": {
  "accelerator": "GPU",
  "colab": {
   "collapsed_sections": [],
   "name": "1_3_BERT.ipynb",
   "provenance": [],
   "toc_visible": true
  },
  "kernelspec": {
   "display_name": "Python 3",
   "language": "python",
   "name": "python3"
  },
  "language_info": {
   "codemirror_mode": {
    "name": "ipython",
    "version": 3
   },
   "file_extension": ".py",
   "mimetype": "text/x-python",
   "name": "python",
   "nbconvert_exporter": "python",
   "pygments_lexer": "ipython3",
   "version": "3.6.8"
  }
 },
 "nbformat": 4,
 "nbformat_minor": 1
}
