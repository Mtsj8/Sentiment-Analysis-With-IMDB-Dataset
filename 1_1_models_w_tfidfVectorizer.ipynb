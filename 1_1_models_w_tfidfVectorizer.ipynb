{
 "cells": [
  {
   "cell_type": "code",
   "execution_count": 4,
   "metadata": {
    "id": "U4d746VPalnS"
   },
   "outputs": [],
   "source": [
    "import pandas as pd\n",
    "import numpy as np\n",
    "\n",
    "from sklearn.feature_extraction.text import TfidfVectorizer\n",
    "\n",
    "from sklearn.pipeline import Pipeline\n",
    "from sklearn.model_selection import cross_val_score\n",
    "from sklearn.model_selection import train_test_split\n",
    "\n",
    "from sklearn.naive_bayes import MultinomialNB\n",
    "from sklearn.linear_model import LogisticRegression\n",
    "from lightgbm import LGBMClassifier\n",
    "\n",
    "from sklearn.metrics import roc_auc_score\n",
    "from sklearn.metrics import accuracy_score\n",
    "from sklearn.metrics import recall_score\n",
    "from sklearn.metrics import precision_score\n",
    "from sklearn.metrics import confusion_matrix\n",
    "from sklearn.metrics import classification_report\n",
    "from sklearn.metrics import plot_roc_curve\n",
    "\n",
    "from sklearn.utils import shuffle\n",
    "\n",
    "import optuna\n",
    "\n",
    "import matplotlib.pyplot as plt\n",
    "import seaborn as sns\n",
    "sns.set_style('darkgrid')\n",
    "\n",
    "from joblib import dump\n",
    "\n",
    "import time"
   ]
  },
  {
   "cell_type": "code",
   "execution_count": 5,
   "metadata": {
    "id": "a3tfCE9oalnY"
   },
   "outputs": [],
   "source": [
    "train_df = pd.read_csv('data/processed_train.csv')\n",
    "test_df = pd.read_csv('data/processed_test.csv')"
   ]
  },
  {
   "cell_type": "code",
   "execution_count": 6,
   "metadata": {
    "id": "xZ2pnxeHalna"
   },
   "outputs": [],
   "source": [
    "train_df = shuffle(train_df).reset_index(drop=True)\n",
    "test_df = shuffle(test_df).reset_index(drop=True)"
   ]
  },
  {
   "cell_type": "code",
   "execution_count": 7,
   "metadata": {
    "id": "ItnEniU6alnb"
   },
   "outputs": [],
   "source": [
    "x = train_df['text'].values\n",
    "y = train_df['label'].values\n",
    "\n",
    "x_test = test_df['text'].values\n",
    "y_test = test_df['label'].values"
   ]
  },
  {
   "cell_type": "code",
   "execution_count": 8,
   "metadata": {
    "id": "z_N2WMXA4izS"
   },
   "outputs": [],
   "source": [
    "x_train, x_train_thresh, y_train, y_train_thresh, = train_test_split(x, \n",
    "                                                                     y, \n",
    "                                                                     test_size=0.1, \n",
    "                                                                     stratify=y)"
   ]
  },
  {
   "cell_type": "code",
   "execution_count": 9,
   "metadata": {
    "id": "NJBdyJCqalnd"
   },
   "outputs": [],
   "source": [
    "def predict_w_threshold(estimator, x, threshold=.5):\n",
    "    return (estimator.predict_proba(x)[:,1] >= threshold).astype(int)"
   ]
  },
  {
   "cell_type": "markdown",
   "metadata": {
    "id": "sw4swPlkaHOY"
   },
   "source": [
    "### Naive Bayes"
   ]
  },
  {
   "cell_type": "markdown",
   "metadata": {
    "id": "BjYghFsraHOZ"
   },
   "source": [
    "#### Baseline"
   ]
  },
  {
   "cell_type": "code",
   "execution_count": null,
   "metadata": {
    "id": "sFn1qV0OaHOa"
   },
   "outputs": [],
   "source": [
    "baseline_nb = Pipeline([('tfidf', TfidfVectorizer(stop_words='english')),   \n",
    "                        ('nb', MultinomialNB())])"
   ]
  },
  {
   "cell_type": "code",
   "execution_count": null,
   "metadata": {
    "colab": {
     "base_uri": "https://localhost:8080/"
    },
    "id": "4tZfmzahaHOa",
    "outputId": "0dd5e7ad-cde1-4ff2-bd18-0d36bbc0a078"
   },
   "outputs": [
    {
     "name": "stderr",
     "output_type": "stream",
     "text": [
      "[Parallel(n_jobs=-1)]: Using backend LokyBackend with 2 concurrent workers.\n",
      "[Parallel(n_jobs=-1)]: Done   5 out of   5 | elapsed:   17.1s finished\n"
     ]
    }
   ],
   "source": [
    "scores = cross_val_score(baseline_nb, \n",
    "                         x_train, \n",
    "                         y_train, \n",
    "                         cv=5, \n",
    "                         scoring='roc_auc', \n",
    "                         n_jobs=-1, \n",
    "                         verbose= 1)"
   ]
  },
  {
   "cell_type": "code",
   "execution_count": null,
   "metadata": {
    "colab": {
     "base_uri": "https://localhost:8080/"
    },
    "id": "GgZBTaQCaHOb",
    "outputId": "eda10f17-283c-409a-8a3e-9d70ae18b2f2"
   },
   "outputs": [
    {
     "name": "stdout",
     "output_type": "stream",
     "text": [
      "[0.93547398 0.93884504 0.92992672 0.93464237 0.9321118 ]\n",
      "ROC AUC score = 0.9342 +/- 0.0030\n"
     ]
    }
   ],
   "source": [
    "print(scores)\n",
    "print('ROC AUC score = %.4f +/- %.4f'%(np.array(scores).mean(), np.array(scores).std()))"
   ]
  },
  {
   "cell_type": "markdown",
   "metadata": {
    "id": "eB1-PTsGaHOb"
   },
   "source": [
    "#### Hyperparameter Optimization"
   ]
  },
  {
   "cell_type": "code",
   "execution_count": null,
   "metadata": {
    "id": "z8JfwoszaHOc"
   },
   "outputs": [],
   "source": [
    "opt_nb = Pipeline([('tfidf', TfidfVectorizer(stop_words='english')),   \n",
    "                   ('nb', MultinomialNB())])"
   ]
  },
  {
   "cell_type": "code",
   "execution_count": null,
   "metadata": {
    "id": "gzhiNj6BaHOc"
   },
   "outputs": [],
   "source": [
    "def objective(trial):\n",
    "  tfidf__max_ngrams = trial.suggest_int('tfidf__max_ngrams', 1, 3)\n",
    "  tfidf__max_df = trial.suggest_uniform('tfidf__max_df', 0.60, 0.95)\n",
    "  tfidf__min_df = trial.suggest_int('tfidf__min_df', 1, 12)\n",
    "\n",
    "  nb__alpha = trial.suggest_uniform('nb__alpha', 0.0, 1.0)\n",
    "\n",
    "  params = {\n",
    "      'tfidf__ngram_range': (1, tfidf__max_ngrams),\n",
    "      'tfidf__max_df': tfidf__max_df,\n",
    "      'tfidf__min_df': tfidf__min_df,\n",
    "      'nb__alpha': nb__alpha,\n",
    "  }\n",
    "  \n",
    "  opt_nb.set_params(**params)\n",
    "\n",
    "  return np.mean(cross_val_score(opt_nb, \n",
    "                                 x_train, \n",
    "                                 y_train, \n",
    "                                 cv=5, \n",
    "                                 scoring='roc_auc', \n",
    "                                 n_jobs=-1))"
   ]
  },
  {
   "cell_type": "code",
   "execution_count": null,
   "metadata": {
    "colab": {
     "base_uri": "https://localhost:8080/"
    },
    "id": "2byd3Mm9aHOd",
    "outputId": "74976ac3-7b4f-4ec5-a5a0-e7a95f2f398f"
   },
   "outputs": [
    {
     "name": "stderr",
     "output_type": "stream",
     "text": [
      "\u001b[32m[I 2020-12-17 00:59:33,880]\u001b[0m A new study created in memory with name: no-name-752d0641-4b5e-432c-beaa-cc51eb9190e4\u001b[0m\n",
      "\u001b[32m[I 2020-12-17 01:00:10,635]\u001b[0m Trial 0 finished with value: 0.925105224691358 and parameters: {'tfidf__max_ngrams': 1, 'tfidf__max_df': 0.7780643393726996, 'tfidf__min_df': 3, 'nb__alpha': 0.37746372850136223}. Best is trial 0 with value: 0.925105224691358.\u001b[0m\n",
      "\u001b[32m[I 2020-12-17 01:00:11,271]\u001b[0m Trial 1 finished with value: 0.925105224691358 and parameters: {'tfidf__max_ngrams': 1, 'tfidf__max_df': 0.926091046371308, 'tfidf__min_df': 12, 'nb__alpha': 0.06655215205583953}. Best is trial 0 with value: 0.925105224691358.\u001b[0m\n",
      "\u001b[32m[I 2020-12-17 01:01:33,594]\u001b[0m Trial 2 finished with value: 0.9342091456790124 and parameters: {'tfidf__max_ngrams': 1, 'tfidf__max_df': 0.6162428253758513, 'tfidf__min_df': 1, 'nb__alpha': 0.33284184945981843}. Best is trial 2 with value: 0.9342091456790124.\u001b[0m\n",
      "\u001b[32m[I 2020-12-17 01:02:05,723]\u001b[0m Trial 3 finished with value: 0.9398458469135802 and parameters: {'tfidf__max_ngrams': 2, 'tfidf__max_df': 0.6335607948044989, 'tfidf__min_df': 7, 'nb__alpha': 0.9313831521322676}. Best is trial 3 with value: 0.9398458469135802.\u001b[0m\n",
      "\u001b[32m[I 2020-12-17 01:02:12,523]\u001b[0m Trial 4 finished with value: 0.9329027950617285 and parameters: {'tfidf__max_ngrams': 1, 'tfidf__max_df': 0.6078732758189603, 'tfidf__min_df': 4, 'nb__alpha': 0.9543903717479134}. Best is trial 3 with value: 0.9398458469135802.\u001b[0m\n",
      "\u001b[32m[I 2020-12-17 01:03:26,665]\u001b[0m Trial 5 finished with value: 0.9343413728395061 and parameters: {'tfidf__max_ngrams': 1, 'tfidf__max_df': 0.8041602143293316, 'tfidf__min_df': 3, 'nb__alpha': 0.41871406952000956}. Best is trial 3 with value: 0.9398458469135802.\u001b[0m\n",
      "\u001b[32m[I 2020-12-17 01:04:05,674]\u001b[0m Trial 6 finished with value: 0.9447484049382716 and parameters: {'tfidf__max_ngrams': 2, 'tfidf__max_df': 0.6100772564647808, 'tfidf__min_df': 2, 'nb__alpha': 0.737996055994291}. Best is trial 6 with value: 0.9447484049382716.\u001b[0m\n",
      "\u001b[32m[I 2020-12-17 01:04:05,676]\u001b[0m Trial 7 finished with value: 0.9279319703703702 and parameters: {'tfidf__max_ngrams': 1, 'tfidf__max_df': 0.8181457427478612, 'tfidf__min_df': 11, 'nb__alpha': 0.6002053529549993}. Best is trial 6 with value: 0.9447484049382716.\u001b[0m\n",
      "\u001b[32m[I 2020-12-17 01:06:24,206]\u001b[0m Trial 9 finished with value: 0.9406715654320987 and parameters: {'tfidf__max_ngrams': 2, 'tfidf__max_df': 0.8040293542391401, 'tfidf__min_df': 6, 'nb__alpha': 0.4582463372336504}. Best is trial 6 with value: 0.9447484049382716.\u001b[0m\n",
      "\u001b[32m[I 2020-12-17 01:06:24,905]\u001b[0m Trial 8 finished with value: 0.9406715654320987 and parameters: {'tfidf__max_ngrams': 1, 'tfidf__max_df': 0.7704559826814346, 'tfidf__min_df': 5, 'nb__alpha': 0.6247867203533642}. Best is trial 6 with value: 0.9447484049382716.\u001b[0m\n",
      "\u001b[32m[I 2020-12-17 01:11:06,312]\u001b[0m Trial 11 finished with value: 0.9386861827160494 and parameters: {'tfidf__max_ngrams': 3, 'tfidf__max_df': 0.6857701038030746, 'tfidf__min_df': 9, 'nb__alpha': 0.7318211197859147}. Best is trial 6 with value: 0.9447484049382716.\u001b[0m\n",
      "\u001b[32m[I 2020-12-17 01:11:06,826]\u001b[0m Trial 10 finished with value: 0.9419253333333334 and parameters: {'tfidf__max_ngrams': 3, 'tfidf__max_df': 0.7379372095762232, 'tfidf__min_df': 4, 'nb__alpha': 0.14376016407292103}. Best is trial 6 with value: 0.9447484049382716.\u001b[0m\n"
     ]
    }
   ],
   "source": [
    "study = optuna.create_study(direction='maximize')\n",
    "study.optimize(objective, timeout=600, n_jobs=-1)"
   ]
  },
  {
   "cell_type": "code",
   "execution_count": null,
   "metadata": {
    "colab": {
     "base_uri": "https://localhost:8080/",
     "height": 542
    },
    "id": "mfVCuuXkf1IW",
    "outputId": "5849746b-b5fb-4dd4-b717-9bf04d3dfd12"
   },
   "outputs": [
    {
     "data": {
      "text/html": [
       "<html>\n",
       "<head><meta charset=\"utf-8\" /></head>\n",
       "<body>\n",
       "    <div>\n",
       "            <script src=\"https://cdnjs.cloudflare.com/ajax/libs/mathjax/2.7.5/MathJax.js?config=TeX-AMS-MML_SVG\"></script><script type=\"text/javascript\">if (window.MathJax) {MathJax.Hub.Config({SVG: {font: \"STIX-Web\"}});}</script>\n",
       "                <script type=\"text/javascript\">window.PlotlyConfig = {MathJaxConfig: 'local'};</script>\n",
       "        <script src=\"https://cdn.plot.ly/plotly-latest.min.js\"></script>    \n",
       "            <div id=\"98a36bfe-3ce3-4863-a7f4-eaf445de05de\" class=\"plotly-graph-div\" style=\"height:525px; width:100%;\"></div>\n",
       "            <script type=\"text/javascript\">\n",
       "                \n",
       "                    window.PLOTLYENV=window.PLOTLYENV || {};\n",
       "                    \n",
       "                if (document.getElementById(\"98a36bfe-3ce3-4863-a7f4-eaf445de05de\")) {\n",
       "                    Plotly.newPlot(\n",
       "                        '98a36bfe-3ce3-4863-a7f4-eaf445de05de',\n",
       "                        [{\"type\": \"scatter\", \"xaxis\": \"x\", \"yaxis\": \"y\"}, {\"colorbar\": {\"title\": {\"text\": \"Objective Value\"}}, \"colorscale\": [[0, \"rgb(5,10,172)\"], [0.35, \"rgb(40,60,190)\"], [0.5, \"rgb(70,100,245)\"], [0.6, \"rgb(90,120,245)\"], [0.7, \"rgb(106,137,247)\"], [1, \"rgb(220,220,220)\"]], \"connectgaps\": true, \"contours\": {\"coloring\": \"heatmap\"}, \"hoverinfo\": \"none\", \"line\": {\"smoothing\": 1.3}, \"showscale\": true, \"type\": \"contour\", \"x\": [0.591962387291343, 0.6078732758189603, 0.6100772564647808, 0.6162428253758513, 0.6335607948044989, 0.6857701038030746, 0.7379372095762232, 0.7704559826814346, 0.7780643393726996, 0.8040293542391401, 0.8041602143293316, 0.8181457427478612, 0.926091046371308, 0.9420019348989254], \"xaxis\": \"x4\", \"y\": [0.9, 1, 2, 3, 3.1], \"yaxis\": \"y4\", \"z\": [[null, null, null, null, null, null, null, null, null, null, null, null, null, null], [null, 0.9329027950617285, null, 0.9342091456790124, null, null, null, 0.9406715654320987, 0.925105224691358, null, 0.9343413728395061, 0.9279319703703702, 0.925105224691358, null], [null, null, 0.9447484049382716, null, 0.9398458469135802, null, null, null, null, 0.9406715654320987, null, null, null, null], [null, null, null, null, null, 0.9386861827160494, 0.9419253333333334, null, null, null, null, null, null, null], [null, null, null, null, null, null, null, null, null, null, null, null, null, null]]}, {\"marker\": {\"color\": \"black\", \"line\": {\"color\": \"Grey\", \"width\": 0.5}}, \"mode\": \"markers\", \"showlegend\": false, \"type\": \"scatter\", \"x\": [0.7780643393726996, 0.926091046371308, 0.6162428253758513, 0.6335607948044989, 0.6078732758189603, 0.8041602143293316, 0.6100772564647808, 0.8181457427478612, 0.7704559826814346, 0.8040293542391401, 0.7379372095762232, 0.6857701038030746], \"xaxis\": \"x4\", \"y\": [1, 1, 1, 2, 1, 1, 2, 1, 1, 2, 3, 3], \"yaxis\": \"y4\"}, {\"colorbar\": {\"title\": {\"text\": \"Objective Value\"}}, \"colorscale\": [[0, \"rgb(5,10,172)\"], [0.35, \"rgb(40,60,190)\"], [0.5, \"rgb(70,100,245)\"], [0.6, \"rgb(90,120,245)\"], [0.7, \"rgb(106,137,247)\"], [1, \"rgb(220,220,220)\"]], \"connectgaps\": true, \"contours\": {\"coloring\": \"heatmap\"}, \"hoverinfo\": \"none\", \"line\": {\"smoothing\": 1.3}, \"showscale\": false, \"type\": \"contour\", \"x\": [0.591962387291343, 0.6078732758189603, 0.6100772564647808, 0.6162428253758513, 0.6335607948044989, 0.6857701038030746, 0.7379372095762232, 0.7704559826814346, 0.7780643393726996, 0.8040293542391401, 0.8041602143293316, 0.8181457427478612, 0.926091046371308, 0.9420019348989254], \"xaxis\": \"x7\", \"y\": [0.44999999999999996, 1, 2, 3, 4, 5, 6, 7, 9, 11, 12, 12.55], \"yaxis\": \"y7\", \"z\": [[null, null, null, null, null, null, null, null, null, null, null, null, null, null], [null, null, null, 0.9342091456790124, null, null, null, null, null, null, null, null, null, null], [null, null, 0.9447484049382716, null, null, null, null, null, null, null, null, null, null, null], [null, null, null, null, null, null, null, null, 0.925105224691358, null, 0.9343413728395061, null, null, null], [null, 0.9329027950617285, null, null, null, null, 0.9419253333333334, null, null, null, null, null, null, null], [null, null, null, null, null, null, null, 0.9406715654320987, null, null, null, null, null, null], [null, null, null, null, null, null, null, null, null, 0.9406715654320987, null, null, null, null], [null, null, null, null, 0.9398458469135802, null, null, null, null, null, null, null, null, null], [null, null, null, null, null, 0.9386861827160494, null, null, null, null, null, null, null, null], [null, null, null, null, null, null, null, null, null, null, null, 0.9279319703703702, null, null], [null, null, null, null, null, null, null, null, null, null, null, null, 0.925105224691358, null], [null, null, null, null, null, null, null, null, null, null, null, null, null, null]]}, {\"marker\": {\"color\": \"black\", \"line\": {\"color\": \"Grey\", \"width\": 0.5}}, \"mode\": \"markers\", \"showlegend\": false, \"type\": \"scatter\", \"x\": [0.7780643393726996, 0.926091046371308, 0.6162428253758513, 0.6335607948044989, 0.6078732758189603, 0.8041602143293316, 0.6100772564647808, 0.8181457427478612, 0.7704559826814346, 0.8040293542391401, 0.7379372095762232, 0.6857701038030746], \"xaxis\": \"x7\", \"y\": [3, 12, 1, 7, 4, 3, 2, 11, 5, 6, 4, 9], \"yaxis\": \"y7\"}, {\"colorbar\": {\"title\": {\"text\": \"Objective Value\"}}, \"colorscale\": [[0, \"rgb(5,10,172)\"], [0.35, \"rgb(40,60,190)\"], [0.5, \"rgb(70,100,245)\"], [0.6, \"rgb(90,120,245)\"], [0.7, \"rgb(106,137,247)\"], [1, \"rgb(220,220,220)\"]], \"connectgaps\": true, \"contours\": {\"coloring\": \"heatmap\"}, \"hoverinfo\": \"none\", \"line\": {\"smoothing\": 1.3}, \"showscale\": false, \"type\": \"contour\", \"x\": [0.9, 1, 2, 3, 3.1], \"xaxis\": \"x2\", \"y\": [0.591962387291343, 0.6078732758189603, 0.6100772564647808, 0.6162428253758513, 0.6335607948044989, 0.6857701038030746, 0.7379372095762232, 0.7704559826814346, 0.7780643393726996, 0.8040293542391401, 0.8041602143293316, 0.8181457427478612, 0.926091046371308, 0.9420019348989254], \"yaxis\": \"y2\", \"z\": [[null, null, null, null, null], [null, 0.9329027950617285, null, null, null], [null, null, 0.9447484049382716, null, null], [null, 0.9342091456790124, null, null, null], [null, null, 0.9398458469135802, null, null], [null, null, null, 0.9386861827160494, null], [null, null, null, 0.9419253333333334, null], [null, 0.9406715654320987, null, null, null], [null, 0.925105224691358, null, null, null], [null, null, 0.9406715654320987, null, null], [null, 0.9343413728395061, null, null, null], [null, 0.9279319703703702, null, null, null], [null, 0.925105224691358, null, null, null], [null, null, null, null, null]]}, {\"marker\": {\"color\": \"black\", \"line\": {\"color\": \"Grey\", \"width\": 0.5}}, \"mode\": \"markers\", \"showlegend\": false, \"type\": \"scatter\", \"x\": [1, 1, 1, 2, 1, 1, 2, 1, 1, 2, 3, 3], \"xaxis\": \"x2\", \"y\": [0.7780643393726996, 0.926091046371308, 0.6162428253758513, 0.6335607948044989, 0.6078732758189603, 0.8041602143293316, 0.6100772564647808, 0.8181457427478612, 0.7704559826814346, 0.8040293542391401, 0.7379372095762232, 0.6857701038030746], \"yaxis\": \"y2\"}, {\"type\": \"scatter\", \"xaxis\": \"x5\", \"yaxis\": \"y5\"}, {\"colorbar\": {\"title\": {\"text\": \"Objective Value\"}}, \"colorscale\": [[0, \"rgb(5,10,172)\"], [0.35, \"rgb(40,60,190)\"], [0.5, \"rgb(70,100,245)\"], [0.6, \"rgb(90,120,245)\"], [0.7, \"rgb(106,137,247)\"], [1, \"rgb(220,220,220)\"]], \"connectgaps\": true, \"contours\": {\"coloring\": \"heatmap\"}, \"hoverinfo\": \"none\", \"line\": {\"smoothing\": 1.3}, \"showscale\": false, \"type\": \"contour\", \"x\": [0.9, 1, 2, 3, 3.1], \"xaxis\": \"x8\", \"y\": [0.44999999999999996, 1, 2, 3, 4, 5, 6, 7, 9, 11, 12, 12.55], \"yaxis\": \"y8\", \"z\": [[null, null, null, null, null], [null, 0.9342091456790124, null, null, null], [null, null, 0.9447484049382716, null, null], [null, 0.9343413728395061, null, null, null], [null, 0.9329027950617285, null, 0.9419253333333334, null], [null, 0.9406715654320987, null, null, null], [null, null, 0.9406715654320987, null, null], [null, null, 0.9398458469135802, null, null], [null, null, null, 0.9386861827160494, null], [null, 0.9279319703703702, null, null, null], [null, 0.925105224691358, null, null, null], [null, null, null, null, null]]}, {\"marker\": {\"color\": \"black\", \"line\": {\"color\": \"Grey\", \"width\": 0.5}}, \"mode\": \"markers\", \"showlegend\": false, \"type\": \"scatter\", \"x\": [1, 1, 1, 2, 1, 1, 2, 1, 1, 2, 3, 3], \"xaxis\": \"x8\", \"y\": [3, 12, 1, 7, 4, 3, 2, 11, 5, 6, 4, 9], \"yaxis\": \"y8\"}, {\"colorbar\": {\"title\": {\"text\": \"Objective Value\"}}, \"colorscale\": [[0, \"rgb(5,10,172)\"], [0.35, \"rgb(40,60,190)\"], [0.5, \"rgb(70,100,245)\"], [0.6, \"rgb(90,120,245)\"], [0.7, \"rgb(106,137,247)\"], [1, \"rgb(220,220,220)\"]], \"connectgaps\": true, \"contours\": {\"coloring\": \"heatmap\"}, \"hoverinfo\": \"none\", \"line\": {\"smoothing\": 1.3}, \"showscale\": false, \"type\": \"contour\", \"x\": [0.44999999999999996, 1, 2, 3, 4, 5, 6, 7, 9, 11, 12, 12.55], \"xaxis\": \"x3\", \"y\": [0.591962387291343, 0.6078732758189603, 0.6100772564647808, 0.6162428253758513, 0.6335607948044989, 0.6857701038030746, 0.7379372095762232, 0.7704559826814346, 0.7780643393726996, 0.8040293542391401, 0.8041602143293316, 0.8181457427478612, 0.926091046371308, 0.9420019348989254], \"yaxis\": \"y3\", \"z\": [[null, null, null, null, null, null, null, null, null, null, null, null], [null, null, null, null, 0.9329027950617285, null, null, null, null, null, null, null], [null, null, 0.9447484049382716, null, null, null, null, null, null, null, null, null], [null, 0.9342091456790124, null, null, null, null, null, null, null, null, null, null], [null, null, null, null, null, null, null, 0.9398458469135802, null, null, null, null], [null, null, null, null, null, null, null, null, 0.9386861827160494, null, null, null], [null, null, null, null, 0.9419253333333334, null, null, null, null, null, null, null], [null, null, null, null, null, 0.9406715654320987, null, null, null, null, null, null], [null, null, null, 0.925105224691358, null, null, null, null, null, null, null, null], [null, null, null, null, null, null, 0.9406715654320987, null, null, null, null, null], [null, null, null, 0.9343413728395061, null, null, null, null, null, null, null, null], [null, null, null, null, null, null, null, null, null, 0.9279319703703702, null, null], [null, null, null, null, null, null, null, null, null, null, 0.925105224691358, null], [null, null, null, null, null, null, null, null, null, null, null, null]]}, {\"marker\": {\"color\": \"black\", \"line\": {\"color\": \"Grey\", \"width\": 0.5}}, \"mode\": \"markers\", \"showlegend\": false, \"type\": \"scatter\", \"x\": [3, 12, 1, 7, 4, 3, 2, 11, 5, 6, 4, 9], \"xaxis\": \"x3\", \"y\": [0.7780643393726996, 0.926091046371308, 0.6162428253758513, 0.6335607948044989, 0.6078732758189603, 0.8041602143293316, 0.6100772564647808, 0.8181457427478612, 0.7704559826814346, 0.8040293542391401, 0.7379372095762232, 0.6857701038030746], \"yaxis\": \"y3\"}, {\"colorbar\": {\"title\": {\"text\": \"Objective Value\"}}, \"colorscale\": [[0, \"rgb(5,10,172)\"], [0.35, \"rgb(40,60,190)\"], [0.5, \"rgb(70,100,245)\"], [0.6, \"rgb(90,120,245)\"], [0.7, \"rgb(106,137,247)\"], [1, \"rgb(220,220,220)\"]], \"connectgaps\": true, \"contours\": {\"coloring\": \"heatmap\"}, \"hoverinfo\": \"none\", \"line\": {\"smoothing\": 1.3}, \"showscale\": false, \"type\": \"contour\", \"x\": [0.44999999999999996, 1, 2, 3, 4, 5, 6, 7, 9, 11, 12, 12.55], \"xaxis\": \"x6\", \"y\": [0.9, 1, 2, 3, 3.1], \"yaxis\": \"y6\", \"z\": [[null, null, null, null, null, null, null, null, null, null, null, null], [null, 0.9342091456790124, null, 0.9343413728395061, 0.9329027950617285, 0.9406715654320987, null, null, null, 0.9279319703703702, 0.925105224691358, null], [null, null, 0.9447484049382716, null, null, null, 0.9406715654320987, 0.9398458469135802, null, null, null, null], [null, null, null, null, 0.9419253333333334, null, null, null, 0.9386861827160494, null, null, null], [null, null, null, null, null, null, null, null, null, null, null, null]]}, {\"marker\": {\"color\": \"black\", \"line\": {\"color\": \"Grey\", \"width\": 0.5}}, \"mode\": \"markers\", \"showlegend\": false, \"type\": \"scatter\", \"x\": [3, 12, 1, 7, 4, 3, 2, 11, 5, 6, 4, 9], \"xaxis\": \"x6\", \"y\": [1, 1, 1, 2, 1, 1, 2, 1, 1, 2, 3, 3], \"yaxis\": \"y6\"}, {\"type\": \"scatter\", \"xaxis\": \"x9\", \"yaxis\": \"y9\"}],\n",
       "                        {\"template\": {\"data\": {\"bar\": [{\"error_x\": {\"color\": \"#2a3f5f\"}, \"error_y\": {\"color\": \"#2a3f5f\"}, \"marker\": {\"line\": {\"color\": \"#E5ECF6\", \"width\": 0.5}}, \"type\": \"bar\"}], \"barpolar\": [{\"marker\": {\"line\": {\"color\": \"#E5ECF6\", \"width\": 0.5}}, \"type\": \"barpolar\"}], \"carpet\": [{\"aaxis\": {\"endlinecolor\": \"#2a3f5f\", \"gridcolor\": \"white\", \"linecolor\": \"white\", \"minorgridcolor\": \"white\", \"startlinecolor\": \"#2a3f5f\"}, \"baxis\": {\"endlinecolor\": \"#2a3f5f\", \"gridcolor\": \"white\", \"linecolor\": \"white\", \"minorgridcolor\": \"white\", \"startlinecolor\": \"#2a3f5f\"}, \"type\": \"carpet\"}], \"choropleth\": [{\"colorbar\": {\"outlinewidth\": 0, \"ticks\": \"\"}, \"type\": \"choropleth\"}], \"contour\": [{\"colorbar\": {\"outlinewidth\": 0, \"ticks\": \"\"}, \"colorscale\": [[0.0, \"#0d0887\"], [0.1111111111111111, \"#46039f\"], [0.2222222222222222, \"#7201a8\"], [0.3333333333333333, \"#9c179e\"], [0.4444444444444444, \"#bd3786\"], [0.5555555555555556, \"#d8576b\"], [0.6666666666666666, \"#ed7953\"], [0.7777777777777778, \"#fb9f3a\"], [0.8888888888888888, \"#fdca26\"], [1.0, \"#f0f921\"]], \"type\": \"contour\"}], \"contourcarpet\": [{\"colorbar\": {\"outlinewidth\": 0, \"ticks\": \"\"}, \"type\": \"contourcarpet\"}], \"heatmap\": [{\"colorbar\": {\"outlinewidth\": 0, \"ticks\": \"\"}, \"colorscale\": [[0.0, \"#0d0887\"], [0.1111111111111111, \"#46039f\"], [0.2222222222222222, \"#7201a8\"], [0.3333333333333333, \"#9c179e\"], [0.4444444444444444, \"#bd3786\"], [0.5555555555555556, \"#d8576b\"], [0.6666666666666666, \"#ed7953\"], [0.7777777777777778, \"#fb9f3a\"], [0.8888888888888888, \"#fdca26\"], [1.0, \"#f0f921\"]], \"type\": \"heatmap\"}], \"heatmapgl\": [{\"colorbar\": {\"outlinewidth\": 0, \"ticks\": \"\"}, \"colorscale\": [[0.0, \"#0d0887\"], [0.1111111111111111, \"#46039f\"], [0.2222222222222222, \"#7201a8\"], [0.3333333333333333, \"#9c179e\"], [0.4444444444444444, \"#bd3786\"], [0.5555555555555556, \"#d8576b\"], [0.6666666666666666, \"#ed7953\"], [0.7777777777777778, \"#fb9f3a\"], [0.8888888888888888, \"#fdca26\"], [1.0, \"#f0f921\"]], \"type\": \"heatmapgl\"}], \"histogram\": [{\"marker\": {\"colorbar\": {\"outlinewidth\": 0, \"ticks\": \"\"}}, \"type\": \"histogram\"}], \"histogram2d\": [{\"colorbar\": {\"outlinewidth\": 0, \"ticks\": \"\"}, \"colorscale\": [[0.0, \"#0d0887\"], [0.1111111111111111, \"#46039f\"], [0.2222222222222222, \"#7201a8\"], [0.3333333333333333, \"#9c179e\"], [0.4444444444444444, \"#bd3786\"], [0.5555555555555556, \"#d8576b\"], [0.6666666666666666, \"#ed7953\"], [0.7777777777777778, \"#fb9f3a\"], [0.8888888888888888, \"#fdca26\"], [1.0, \"#f0f921\"]], \"type\": \"histogram2d\"}], \"histogram2dcontour\": [{\"colorbar\": {\"outlinewidth\": 0, \"ticks\": \"\"}, \"colorscale\": [[0.0, \"#0d0887\"], [0.1111111111111111, \"#46039f\"], [0.2222222222222222, \"#7201a8\"], [0.3333333333333333, \"#9c179e\"], [0.4444444444444444, \"#bd3786\"], [0.5555555555555556, \"#d8576b\"], [0.6666666666666666, \"#ed7953\"], [0.7777777777777778, \"#fb9f3a\"], [0.8888888888888888, \"#fdca26\"], [1.0, \"#f0f921\"]], \"type\": \"histogram2dcontour\"}], \"mesh3d\": [{\"colorbar\": {\"outlinewidth\": 0, \"ticks\": \"\"}, \"type\": \"mesh3d\"}], \"parcoords\": [{\"line\": {\"colorbar\": {\"outlinewidth\": 0, \"ticks\": \"\"}}, \"type\": \"parcoords\"}], \"pie\": [{\"automargin\": true, \"type\": \"pie\"}], \"scatter\": [{\"marker\": {\"colorbar\": {\"outlinewidth\": 0, \"ticks\": \"\"}}, \"type\": \"scatter\"}], \"scatter3d\": [{\"line\": {\"colorbar\": {\"outlinewidth\": 0, \"ticks\": \"\"}}, \"marker\": {\"colorbar\": {\"outlinewidth\": 0, \"ticks\": \"\"}}, \"type\": \"scatter3d\"}], \"scattercarpet\": [{\"marker\": {\"colorbar\": {\"outlinewidth\": 0, \"ticks\": \"\"}}, \"type\": \"scattercarpet\"}], \"scattergeo\": [{\"marker\": {\"colorbar\": {\"outlinewidth\": 0, \"ticks\": \"\"}}, \"type\": \"scattergeo\"}], \"scattergl\": [{\"marker\": {\"colorbar\": {\"outlinewidth\": 0, \"ticks\": \"\"}}, \"type\": \"scattergl\"}], \"scattermapbox\": [{\"marker\": {\"colorbar\": {\"outlinewidth\": 0, \"ticks\": \"\"}}, \"type\": \"scattermapbox\"}], \"scatterpolar\": [{\"marker\": {\"colorbar\": {\"outlinewidth\": 0, \"ticks\": \"\"}}, \"type\": \"scatterpolar\"}], \"scatterpolargl\": [{\"marker\": {\"colorbar\": {\"outlinewidth\": 0, \"ticks\": \"\"}}, \"type\": \"scatterpolargl\"}], \"scatterternary\": [{\"marker\": {\"colorbar\": {\"outlinewidth\": 0, \"ticks\": \"\"}}, \"type\": \"scatterternary\"}], \"surface\": [{\"colorbar\": {\"outlinewidth\": 0, \"ticks\": \"\"}, \"colorscale\": [[0.0, \"#0d0887\"], [0.1111111111111111, \"#46039f\"], [0.2222222222222222, \"#7201a8\"], [0.3333333333333333, \"#9c179e\"], [0.4444444444444444, \"#bd3786\"], [0.5555555555555556, \"#d8576b\"], [0.6666666666666666, \"#ed7953\"], [0.7777777777777778, \"#fb9f3a\"], [0.8888888888888888, \"#fdca26\"], [1.0, \"#f0f921\"]], \"type\": \"surface\"}], \"table\": [{\"cells\": {\"fill\": {\"color\": \"#EBF0F8\"}, \"line\": {\"color\": \"white\"}}, \"header\": {\"fill\": {\"color\": \"#C8D4E3\"}, \"line\": {\"color\": \"white\"}}, \"type\": \"table\"}]}, \"layout\": {\"annotationdefaults\": {\"arrowcolor\": \"#2a3f5f\", \"arrowhead\": 0, \"arrowwidth\": 1}, \"coloraxis\": {\"colorbar\": {\"outlinewidth\": 0, \"ticks\": \"\"}}, \"colorscale\": {\"diverging\": [[0, \"#8e0152\"], [0.1, \"#c51b7d\"], [0.2, \"#de77ae\"], [0.3, \"#f1b6da\"], [0.4, \"#fde0ef\"], [0.5, \"#f7f7f7\"], [0.6, \"#e6f5d0\"], [0.7, \"#b8e186\"], [0.8, \"#7fbc41\"], [0.9, \"#4d9221\"], [1, \"#276419\"]], \"sequential\": [[0.0, \"#0d0887\"], [0.1111111111111111, \"#46039f\"], [0.2222222222222222, \"#7201a8\"], [0.3333333333333333, \"#9c179e\"], [0.4444444444444444, \"#bd3786\"], [0.5555555555555556, \"#d8576b\"], [0.6666666666666666, \"#ed7953\"], [0.7777777777777778, \"#fb9f3a\"], [0.8888888888888888, \"#fdca26\"], [1.0, \"#f0f921\"]], \"sequentialminus\": [[0.0, \"#0d0887\"], [0.1111111111111111, \"#46039f\"], [0.2222222222222222, \"#7201a8\"], [0.3333333333333333, \"#9c179e\"], [0.4444444444444444, \"#bd3786\"], [0.5555555555555556, \"#d8576b\"], [0.6666666666666666, \"#ed7953\"], [0.7777777777777778, \"#fb9f3a\"], [0.8888888888888888, \"#fdca26\"], [1.0, \"#f0f921\"]]}, \"colorway\": [\"#636efa\", \"#EF553B\", \"#00cc96\", \"#ab63fa\", \"#FFA15A\", \"#19d3f3\", \"#FF6692\", \"#B6E880\", \"#FF97FF\", \"#FECB52\"], \"font\": {\"color\": \"#2a3f5f\"}, \"geo\": {\"bgcolor\": \"white\", \"lakecolor\": \"white\", \"landcolor\": \"#E5ECF6\", \"showlakes\": true, \"showland\": true, \"subunitcolor\": \"white\"}, \"hoverlabel\": {\"align\": \"left\"}, \"hovermode\": \"closest\", \"mapbox\": {\"style\": \"light\"}, \"paper_bgcolor\": \"white\", \"plot_bgcolor\": \"#E5ECF6\", \"polar\": {\"angularaxis\": {\"gridcolor\": \"white\", \"linecolor\": \"white\", \"ticks\": \"\"}, \"bgcolor\": \"#E5ECF6\", \"radialaxis\": {\"gridcolor\": \"white\", \"linecolor\": \"white\", \"ticks\": \"\"}}, \"scene\": {\"xaxis\": {\"backgroundcolor\": \"#E5ECF6\", \"gridcolor\": \"white\", \"gridwidth\": 2, \"linecolor\": \"white\", \"showbackground\": true, \"ticks\": \"\", \"zerolinecolor\": \"white\"}, \"yaxis\": {\"backgroundcolor\": \"#E5ECF6\", \"gridcolor\": \"white\", \"gridwidth\": 2, \"linecolor\": \"white\", \"showbackground\": true, \"ticks\": \"\", \"zerolinecolor\": \"white\"}, \"zaxis\": {\"backgroundcolor\": \"#E5ECF6\", \"gridcolor\": \"white\", \"gridwidth\": 2, \"linecolor\": \"white\", \"showbackground\": true, \"ticks\": \"\", \"zerolinecolor\": \"white\"}}, \"shapedefaults\": {\"line\": {\"color\": \"#2a3f5f\"}}, \"ternary\": {\"aaxis\": {\"gridcolor\": \"white\", \"linecolor\": \"white\", \"ticks\": \"\"}, \"baxis\": {\"gridcolor\": \"white\", \"linecolor\": \"white\", \"ticks\": \"\"}, \"bgcolor\": \"#E5ECF6\", \"caxis\": {\"gridcolor\": \"white\", \"linecolor\": \"white\", \"ticks\": \"\"}}, \"title\": {\"x\": 0.05}, \"xaxis\": {\"automargin\": true, \"gridcolor\": \"white\", \"linecolor\": \"white\", \"ticks\": \"\", \"title\": {\"standoff\": 15}, \"zerolinecolor\": \"white\", \"zerolinewidth\": 2}, \"yaxis\": {\"automargin\": true, \"gridcolor\": \"white\", \"linecolor\": \"white\", \"ticks\": \"\", \"title\": {\"standoff\": 15}, \"zerolinecolor\": \"white\", \"zerolinewidth\": 2}}}, \"title\": {\"text\": \"Contour Plot\"}, \"xaxis\": {\"anchor\": \"y\", \"domain\": [0.0, 0.2888888888888889], \"matches\": \"x7\", \"range\": [0.591962387291343, 0.9420019348989254], \"showticklabels\": false}, \"xaxis2\": {\"anchor\": \"y2\", \"domain\": [0.35555555555555557, 0.6444444444444445], \"matches\": \"x8\", \"range\": [0.9, 3.1], \"showticklabels\": false}, \"xaxis3\": {\"anchor\": \"y3\", \"domain\": [0.7111111111111111, 1.0], \"matches\": \"x9\", \"range\": [0.44999999999999996, 12.55], \"showticklabels\": false}, \"xaxis4\": {\"anchor\": \"y4\", \"domain\": [0.0, 0.2888888888888889], \"matches\": \"x7\", \"range\": [0.591962387291343, 0.9420019348989254], \"showticklabels\": false}, \"xaxis5\": {\"anchor\": \"y5\", \"domain\": [0.35555555555555557, 0.6444444444444445], \"matches\": \"x8\", \"range\": [0.9, 3.1], \"showticklabels\": false}, \"xaxis6\": {\"anchor\": \"y6\", \"domain\": [0.7111111111111111, 1.0], \"matches\": \"x9\", \"range\": [0.44999999999999996, 12.55], \"showticklabels\": false}, \"xaxis7\": {\"anchor\": \"y7\", \"domain\": [0.0, 0.2888888888888889], \"range\": [0.591962387291343, 0.9420019348989254], \"title\": {\"text\": \"tfidf__max_df\"}}, \"xaxis8\": {\"anchor\": \"y8\", \"domain\": [0.35555555555555557, 0.6444444444444445], \"range\": [0.9, 3.1], \"title\": {\"text\": \"tfidf__max_ngrams\"}}, \"xaxis9\": {\"anchor\": \"y9\", \"domain\": [0.7111111111111111, 1.0], \"range\": [0.44999999999999996, 12.55], \"title\": {\"text\": \"tfidf__min_df\"}}, \"yaxis\": {\"anchor\": \"x\", \"domain\": [0.7333333333333333, 1.0], \"range\": [0.591962387291343, 0.9420019348989254], \"title\": {\"text\": \"tfidf__max_df\"}}, \"yaxis2\": {\"anchor\": \"x2\", \"domain\": [0.7333333333333333, 1.0], \"matches\": \"y\", \"range\": [0.591962387291343, 0.9420019348989254], \"showticklabels\": false}, \"yaxis3\": {\"anchor\": \"x3\", \"domain\": [0.7333333333333333, 1.0], \"matches\": \"y\", \"range\": [0.591962387291343, 0.9420019348989254], \"showticklabels\": false}, \"yaxis4\": {\"anchor\": \"x4\", \"domain\": [0.36666666666666664, 0.6333333333333333], \"range\": [0.9, 3.1], \"title\": {\"text\": \"tfidf__max_ngrams\"}}, \"yaxis5\": {\"anchor\": \"x5\", \"domain\": [0.36666666666666664, 0.6333333333333333], \"matches\": \"y4\", \"range\": [0.9, 3.1], \"showticklabels\": false}, \"yaxis6\": {\"anchor\": \"x6\", \"domain\": [0.36666666666666664, 0.6333333333333333], \"matches\": \"y4\", \"range\": [0.9, 3.1], \"showticklabels\": false}, \"yaxis7\": {\"anchor\": \"x7\", \"domain\": [0.0, 0.26666666666666666], \"range\": [0.44999999999999996, 12.55], \"title\": {\"text\": \"tfidf__min_df\"}}, \"yaxis8\": {\"anchor\": \"x8\", \"domain\": [0.0, 0.26666666666666666], \"matches\": \"y7\", \"range\": [0.44999999999999996, 12.55], \"showticklabels\": false}, \"yaxis9\": {\"anchor\": \"x9\", \"domain\": [0.0, 0.26666666666666666], \"matches\": \"y7\", \"range\": [0.44999999999999996, 12.55], \"showticklabels\": false}},\n",
       "                        {\"responsive\": true}\n",
       "                    ).then(function(){\n",
       "                            \n",
       "var gd = document.getElementById('98a36bfe-3ce3-4863-a7f4-eaf445de05de');\n",
       "var x = new MutationObserver(function (mutations, observer) {{\n",
       "        var display = window.getComputedStyle(gd).display;\n",
       "        if (!display || display === 'none') {{\n",
       "            console.log([gd, 'removed!']);\n",
       "            Plotly.purge(gd);\n",
       "            observer.disconnect();\n",
       "        }}\n",
       "}});\n",
       "\n",
       "// Listen for the removal of the full notebook cells\n",
       "var notebookContainer = gd.closest('#notebook-container');\n",
       "if (notebookContainer) {{\n",
       "    x.observe(notebookContainer, {childList: true});\n",
       "}}\n",
       "\n",
       "// Listen for the clearing of the current output cell\n",
       "var outputEl = gd.closest('.output');\n",
       "if (outputEl) {{\n",
       "    x.observe(outputEl, {childList: true});\n",
       "}}\n",
       "\n",
       "                        })\n",
       "                };\n",
       "                \n",
       "            </script>\n",
       "        </div>\n",
       "</body>\n",
       "</html>"
      ]
     },
     "metadata": {
      "tags": []
     },
     "output_type": "display_data"
    }
   ],
   "source": [
    "optuna.visualization.plot_contour(study, params=['tfidf__max_ngrams',\n",
    "                                                 'tfidf__max_df',\n",
    "                                                 'tfidf__min_df'])"
   ]
  },
  {
   "cell_type": "code",
   "execution_count": null,
   "metadata": {
    "colab": {
     "base_uri": "https://localhost:8080/",
     "height": 542
    },
    "id": "HXycfWMof9_f",
    "outputId": "02b03aa6-9873-4556-8dff-894d3cb8611a"
   },
   "outputs": [
    {
     "data": {
      "text/html": [
       "<html>\n",
       "<head><meta charset=\"utf-8\" /></head>\n",
       "<body>\n",
       "    <div>\n",
       "            <script src=\"https://cdnjs.cloudflare.com/ajax/libs/mathjax/2.7.5/MathJax.js?config=TeX-AMS-MML_SVG\"></script><script type=\"text/javascript\">if (window.MathJax) {MathJax.Hub.Config({SVG: {font: \"STIX-Web\"}});}</script>\n",
       "                <script type=\"text/javascript\">window.PlotlyConfig = {MathJaxConfig: 'local'};</script>\n",
       "        <script src=\"https://cdn.plot.ly/plotly-latest.min.js\"></script>    \n",
       "            <div id=\"e9b78539-5d08-455f-945c-a6aa19b45b14\" class=\"plotly-graph-div\" style=\"height:525px; width:100%;\"></div>\n",
       "            <script type=\"text/javascript\">\n",
       "                \n",
       "                    window.PLOTLYENV=window.PLOTLYENV || {};\n",
       "                    \n",
       "                if (document.getElementById(\"e9b78539-5d08-455f-945c-a6aa19b45b14\")) {\n",
       "                    Plotly.newPlot(\n",
       "                        'e9b78539-5d08-455f-945c-a6aa19b45b14',\n",
       "                        [{\"marker\": {\"color\": [0, 1, 2, 3, 4, 5, 6, 7, 8, 9, 10, 11], \"colorbar\": {\"title\": {\"text\": \"#Trials\"}, \"x\": 1.0, \"xpad\": 40}, \"colorscale\": [[0.0, \"rgb(247,251,255)\"], [0.125, \"rgb(222,235,247)\"], [0.25, \"rgb(198,219,239)\"], [0.375, \"rgb(158,202,225)\"], [0.5, \"rgb(107,174,214)\"], [0.625, \"rgb(66,146,198)\"], [0.75, \"rgb(33,113,181)\"], [0.875, \"rgb(8,81,156)\"], [1.0, \"rgb(8,48,107)\"]], \"line\": {\"color\": \"Grey\", \"width\": 0.5}}, \"mode\": \"markers\", \"showlegend\": false, \"type\": \"scatter\", \"x\": [0.37746372850136223, 0.06655215205583953, 0.33284184945981843, 0.9313831521322676, 0.9543903717479134, 0.41871406952000956, 0.737996055994291, 0.6002053529549993, 0.6247867203533642, 0.4582463372336504, 0.14376016407292103, 0.7318211197859147], \"y\": [0.925105224691358, 0.925105224691358, 0.9342091456790124, 0.9398458469135802, 0.9329027950617285, 0.9343413728395061, 0.9447484049382716, 0.9279319703703702, 0.9406715654320987, 0.9406715654320987, 0.9419253333333334, 0.9386861827160494]}],\n",
       "                        {\"template\": {\"data\": {\"bar\": [{\"error_x\": {\"color\": \"#2a3f5f\"}, \"error_y\": {\"color\": \"#2a3f5f\"}, \"marker\": {\"line\": {\"color\": \"#E5ECF6\", \"width\": 0.5}}, \"type\": \"bar\"}], \"barpolar\": [{\"marker\": {\"line\": {\"color\": \"#E5ECF6\", \"width\": 0.5}}, \"type\": \"barpolar\"}], \"carpet\": [{\"aaxis\": {\"endlinecolor\": \"#2a3f5f\", \"gridcolor\": \"white\", \"linecolor\": \"white\", \"minorgridcolor\": \"white\", \"startlinecolor\": \"#2a3f5f\"}, \"baxis\": {\"endlinecolor\": \"#2a3f5f\", \"gridcolor\": \"white\", \"linecolor\": \"white\", \"minorgridcolor\": \"white\", \"startlinecolor\": \"#2a3f5f\"}, \"type\": \"carpet\"}], \"choropleth\": [{\"colorbar\": {\"outlinewidth\": 0, \"ticks\": \"\"}, \"type\": \"choropleth\"}], \"contour\": [{\"colorbar\": {\"outlinewidth\": 0, \"ticks\": \"\"}, \"colorscale\": [[0.0, \"#0d0887\"], [0.1111111111111111, \"#46039f\"], [0.2222222222222222, \"#7201a8\"], [0.3333333333333333, \"#9c179e\"], [0.4444444444444444, \"#bd3786\"], [0.5555555555555556, \"#d8576b\"], [0.6666666666666666, \"#ed7953\"], [0.7777777777777778, \"#fb9f3a\"], [0.8888888888888888, \"#fdca26\"], [1.0, \"#f0f921\"]], \"type\": \"contour\"}], \"contourcarpet\": [{\"colorbar\": {\"outlinewidth\": 0, \"ticks\": \"\"}, \"type\": \"contourcarpet\"}], \"heatmap\": [{\"colorbar\": {\"outlinewidth\": 0, \"ticks\": \"\"}, \"colorscale\": [[0.0, \"#0d0887\"], [0.1111111111111111, \"#46039f\"], [0.2222222222222222, \"#7201a8\"], [0.3333333333333333, \"#9c179e\"], [0.4444444444444444, \"#bd3786\"], [0.5555555555555556, \"#d8576b\"], [0.6666666666666666, \"#ed7953\"], [0.7777777777777778, \"#fb9f3a\"], [0.8888888888888888, \"#fdca26\"], [1.0, \"#f0f921\"]], \"type\": \"heatmap\"}], \"heatmapgl\": [{\"colorbar\": {\"outlinewidth\": 0, \"ticks\": \"\"}, \"colorscale\": [[0.0, \"#0d0887\"], [0.1111111111111111, \"#46039f\"], [0.2222222222222222, \"#7201a8\"], [0.3333333333333333, \"#9c179e\"], [0.4444444444444444, \"#bd3786\"], [0.5555555555555556, \"#d8576b\"], [0.6666666666666666, \"#ed7953\"], [0.7777777777777778, \"#fb9f3a\"], [0.8888888888888888, \"#fdca26\"], [1.0, \"#f0f921\"]], \"type\": \"heatmapgl\"}], \"histogram\": [{\"marker\": {\"colorbar\": {\"outlinewidth\": 0, \"ticks\": \"\"}}, \"type\": \"histogram\"}], \"histogram2d\": [{\"colorbar\": {\"outlinewidth\": 0, \"ticks\": \"\"}, \"colorscale\": [[0.0, \"#0d0887\"], [0.1111111111111111, \"#46039f\"], [0.2222222222222222, \"#7201a8\"], [0.3333333333333333, \"#9c179e\"], [0.4444444444444444, \"#bd3786\"], [0.5555555555555556, \"#d8576b\"], [0.6666666666666666, \"#ed7953\"], [0.7777777777777778, \"#fb9f3a\"], [0.8888888888888888, \"#fdca26\"], [1.0, \"#f0f921\"]], \"type\": \"histogram2d\"}], \"histogram2dcontour\": [{\"colorbar\": {\"outlinewidth\": 0, \"ticks\": \"\"}, \"colorscale\": [[0.0, \"#0d0887\"], [0.1111111111111111, \"#46039f\"], [0.2222222222222222, \"#7201a8\"], [0.3333333333333333, \"#9c179e\"], [0.4444444444444444, \"#bd3786\"], [0.5555555555555556, \"#d8576b\"], [0.6666666666666666, \"#ed7953\"], [0.7777777777777778, \"#fb9f3a\"], [0.8888888888888888, \"#fdca26\"], [1.0, \"#f0f921\"]], \"type\": \"histogram2dcontour\"}], \"mesh3d\": [{\"colorbar\": {\"outlinewidth\": 0, \"ticks\": \"\"}, \"type\": \"mesh3d\"}], \"parcoords\": [{\"line\": {\"colorbar\": {\"outlinewidth\": 0, \"ticks\": \"\"}}, \"type\": \"parcoords\"}], \"pie\": [{\"automargin\": true, \"type\": \"pie\"}], \"scatter\": [{\"marker\": {\"colorbar\": {\"outlinewidth\": 0, \"ticks\": \"\"}}, \"type\": \"scatter\"}], \"scatter3d\": [{\"line\": {\"colorbar\": {\"outlinewidth\": 0, \"ticks\": \"\"}}, \"marker\": {\"colorbar\": {\"outlinewidth\": 0, \"ticks\": \"\"}}, \"type\": \"scatter3d\"}], \"scattercarpet\": [{\"marker\": {\"colorbar\": {\"outlinewidth\": 0, \"ticks\": \"\"}}, \"type\": \"scattercarpet\"}], \"scattergeo\": [{\"marker\": {\"colorbar\": {\"outlinewidth\": 0, \"ticks\": \"\"}}, \"type\": \"scattergeo\"}], \"scattergl\": [{\"marker\": {\"colorbar\": {\"outlinewidth\": 0, \"ticks\": \"\"}}, \"type\": \"scattergl\"}], \"scattermapbox\": [{\"marker\": {\"colorbar\": {\"outlinewidth\": 0, \"ticks\": \"\"}}, \"type\": \"scattermapbox\"}], \"scatterpolar\": [{\"marker\": {\"colorbar\": {\"outlinewidth\": 0, \"ticks\": \"\"}}, \"type\": \"scatterpolar\"}], \"scatterpolargl\": [{\"marker\": {\"colorbar\": {\"outlinewidth\": 0, \"ticks\": \"\"}}, \"type\": \"scatterpolargl\"}], \"scatterternary\": [{\"marker\": {\"colorbar\": {\"outlinewidth\": 0, \"ticks\": \"\"}}, \"type\": \"scatterternary\"}], \"surface\": [{\"colorbar\": {\"outlinewidth\": 0, \"ticks\": \"\"}, \"colorscale\": [[0.0, \"#0d0887\"], [0.1111111111111111, \"#46039f\"], [0.2222222222222222, \"#7201a8\"], [0.3333333333333333, \"#9c179e\"], [0.4444444444444444, \"#bd3786\"], [0.5555555555555556, \"#d8576b\"], [0.6666666666666666, \"#ed7953\"], [0.7777777777777778, \"#fb9f3a\"], [0.8888888888888888, \"#fdca26\"], [1.0, \"#f0f921\"]], \"type\": \"surface\"}], \"table\": [{\"cells\": {\"fill\": {\"color\": \"#EBF0F8\"}, \"line\": {\"color\": \"white\"}}, \"header\": {\"fill\": {\"color\": \"#C8D4E3\"}, \"line\": {\"color\": \"white\"}}, \"type\": \"table\"}]}, \"layout\": {\"annotationdefaults\": {\"arrowcolor\": \"#2a3f5f\", \"arrowhead\": 0, \"arrowwidth\": 1}, \"coloraxis\": {\"colorbar\": {\"outlinewidth\": 0, \"ticks\": \"\"}}, \"colorscale\": {\"diverging\": [[0, \"#8e0152\"], [0.1, \"#c51b7d\"], [0.2, \"#de77ae\"], [0.3, \"#f1b6da\"], [0.4, \"#fde0ef\"], [0.5, \"#f7f7f7\"], [0.6, \"#e6f5d0\"], [0.7, \"#b8e186\"], [0.8, \"#7fbc41\"], [0.9, \"#4d9221\"], [1, \"#276419\"]], \"sequential\": [[0.0, \"#0d0887\"], [0.1111111111111111, \"#46039f\"], [0.2222222222222222, \"#7201a8\"], [0.3333333333333333, \"#9c179e\"], [0.4444444444444444, \"#bd3786\"], [0.5555555555555556, \"#d8576b\"], [0.6666666666666666, \"#ed7953\"], [0.7777777777777778, \"#fb9f3a\"], [0.8888888888888888, \"#fdca26\"], [1.0, \"#f0f921\"]], \"sequentialminus\": [[0.0, \"#0d0887\"], [0.1111111111111111, \"#46039f\"], [0.2222222222222222, \"#7201a8\"], [0.3333333333333333, \"#9c179e\"], [0.4444444444444444, \"#bd3786\"], [0.5555555555555556, \"#d8576b\"], [0.6666666666666666, \"#ed7953\"], [0.7777777777777778, \"#fb9f3a\"], [0.8888888888888888, \"#fdca26\"], [1.0, \"#f0f921\"]]}, \"colorway\": [\"#636efa\", \"#EF553B\", \"#00cc96\", \"#ab63fa\", \"#FFA15A\", \"#19d3f3\", \"#FF6692\", \"#B6E880\", \"#FF97FF\", \"#FECB52\"], \"font\": {\"color\": \"#2a3f5f\"}, \"geo\": {\"bgcolor\": \"white\", \"lakecolor\": \"white\", \"landcolor\": \"#E5ECF6\", \"showlakes\": true, \"showland\": true, \"subunitcolor\": \"white\"}, \"hoverlabel\": {\"align\": \"left\"}, \"hovermode\": \"closest\", \"mapbox\": {\"style\": \"light\"}, \"paper_bgcolor\": \"white\", \"plot_bgcolor\": \"#E5ECF6\", \"polar\": {\"angularaxis\": {\"gridcolor\": \"white\", \"linecolor\": \"white\", \"ticks\": \"\"}, \"bgcolor\": \"#E5ECF6\", \"radialaxis\": {\"gridcolor\": \"white\", \"linecolor\": \"white\", \"ticks\": \"\"}}, \"scene\": {\"xaxis\": {\"backgroundcolor\": \"#E5ECF6\", \"gridcolor\": \"white\", \"gridwidth\": 2, \"linecolor\": \"white\", \"showbackground\": true, \"ticks\": \"\", \"zerolinecolor\": \"white\"}, \"yaxis\": {\"backgroundcolor\": \"#E5ECF6\", \"gridcolor\": \"white\", \"gridwidth\": 2, \"linecolor\": \"white\", \"showbackground\": true, \"ticks\": \"\", \"zerolinecolor\": \"white\"}, \"zaxis\": {\"backgroundcolor\": \"#E5ECF6\", \"gridcolor\": \"white\", \"gridwidth\": 2, \"linecolor\": \"white\", \"showbackground\": true, \"ticks\": \"\", \"zerolinecolor\": \"white\"}}, \"shapedefaults\": {\"line\": {\"color\": \"#2a3f5f\"}}, \"ternary\": {\"aaxis\": {\"gridcolor\": \"white\", \"linecolor\": \"white\", \"ticks\": \"\"}, \"baxis\": {\"gridcolor\": \"white\", \"linecolor\": \"white\", \"ticks\": \"\"}, \"bgcolor\": \"#E5ECF6\", \"caxis\": {\"gridcolor\": \"white\", \"linecolor\": \"white\", \"ticks\": \"\"}}, \"title\": {\"x\": 0.05}, \"xaxis\": {\"automargin\": true, \"gridcolor\": \"white\", \"linecolor\": \"white\", \"ticks\": \"\", \"title\": {\"standoff\": 15}, \"zerolinecolor\": \"white\", \"zerolinewidth\": 2}, \"yaxis\": {\"automargin\": true, \"gridcolor\": \"white\", \"linecolor\": \"white\", \"ticks\": \"\", \"title\": {\"standoff\": 15}, \"zerolinecolor\": \"white\", \"zerolinewidth\": 2}}}, \"title\": {\"text\": \"Slice Plot\"}, \"xaxis\": {\"title\": {\"text\": \"nb__alpha\"}}, \"yaxis\": {\"title\": {\"text\": \"Objective Value\"}}},\n",
       "                        {\"responsive\": true}\n",
       "                    ).then(function(){\n",
       "                            \n",
       "var gd = document.getElementById('e9b78539-5d08-455f-945c-a6aa19b45b14');\n",
       "var x = new MutationObserver(function (mutations, observer) {{\n",
       "        var display = window.getComputedStyle(gd).display;\n",
       "        if (!display || display === 'none') {{\n",
       "            console.log([gd, 'removed!']);\n",
       "            Plotly.purge(gd);\n",
       "            observer.disconnect();\n",
       "        }}\n",
       "}});\n",
       "\n",
       "// Listen for the removal of the full notebook cells\n",
       "var notebookContainer = gd.closest('#notebook-container');\n",
       "if (notebookContainer) {{\n",
       "    x.observe(notebookContainer, {childList: true});\n",
       "}}\n",
       "\n",
       "// Listen for the clearing of the current output cell\n",
       "var outputEl = gd.closest('.output');\n",
       "if (outputEl) {{\n",
       "    x.observe(outputEl, {childList: true});\n",
       "}}\n",
       "\n",
       "                        })\n",
       "                };\n",
       "                \n",
       "            </script>\n",
       "        </div>\n",
       "</body>\n",
       "</html>"
      ]
     },
     "metadata": {
      "tags": []
     },
     "output_type": "display_data"
    }
   ],
   "source": [
    "optuna.visualization.plot_slice(study, ['nb__alpha'])"
   ]
  },
  {
   "cell_type": "code",
   "execution_count": null,
   "metadata": {
    "colab": {
     "base_uri": "https://localhost:8080/"
    },
    "id": "aTZROAlof1I4",
    "outputId": "061d034e-e051-4328-b44c-2a156c1b3756"
   },
   "outputs": [
    {
     "name": "stdout",
     "output_type": "stream",
     "text": [
      "{'tfidf__max_ngrams': 2, 'tfidf__max_df': 0.6100772564647808, 'tfidf__min_df': 2, 'nb__alpha': 0.737996055994291}\n"
     ]
    }
   ],
   "source": [
    "print(study.best_params)"
   ]
  },
  {
   "cell_type": "code",
   "execution_count": null,
   "metadata": {
    "colab": {
     "base_uri": "https://localhost:8080/"
    },
    "id": "gYIHoORgf1I7",
    "outputId": "6ad2b633-cdd1-4eaa-9bd5-5e4e0a259372"
   },
   "outputs": [
    {
     "name": "stderr",
     "output_type": "stream",
     "text": [
      "[Parallel(n_jobs=-1)]: Using backend LokyBackend with 2 concurrent workers.\n",
      "[Parallel(n_jobs=-1)]: Done   5 out of   5 | elapsed:   52.9s finished\n"
     ]
    }
   ],
   "source": [
    "params = {\n",
    "    'tfidf__ngram_range': (1, study.best_params['tfidf__max_ngrams']),\n",
    "    'tfidf__max_df': study.best_params['tfidf__max_df'],\n",
    "    'tfidf__min_df': study.best_params['tfidf__min_df'],\n",
    "    'nb__alpha': study.best_params['nb__alpha']\n",
    "}\n",
    "opt_nb.set_params(**params)\n",
    "\n",
    "scores = cross_val_score(opt_nb, \n",
    "                         x_train, \n",
    "                         y_train, \n",
    "                         cv=5, \n",
    "                         scoring='roc_auc', \n",
    "                         n_jobs=-1, \n",
    "                         verbose= 1)"
   ]
  },
  {
   "cell_type": "code",
   "execution_count": null,
   "metadata": {
    "colab": {
     "base_uri": "https://localhost:8080/"
    },
    "id": "nbRawhVpf1I-",
    "outputId": "983890ec-b27f-455b-e0b9-1fd4bf3f6e79"
   },
   "outputs": [
    {
     "name": "stdout",
     "output_type": "stream",
     "text": [
      "[0.94613491 0.9482319  0.94075042 0.94568672 0.94293807]\n",
      "ROC AUC score = 0.9447 +/- 0.0026\n"
     ]
    }
   ],
   "source": [
    "print(scores)\n",
    "print('ROC AUC score = %.4f +/- %.4f'%(np.array(scores).mean(), np.array(scores).std()))"
   ]
  },
  {
   "cell_type": "code",
   "execution_count": null,
   "metadata": {
    "colab": {
     "base_uri": "https://localhost:8080/"
    },
    "id": "HEBq_WR0hJRx",
    "outputId": "81b57ebd-066b-420e-d15a-73a44bd9ac7f"
   },
   "outputs": [
    {
     "data": {
      "text/plain": [
       "Pipeline(memory=None,\n",
       "         steps=[('tfidf',\n",
       "                 TfidfVectorizer(analyzer='word', binary=False,\n",
       "                                 decode_error='strict',\n",
       "                                 dtype=<class 'numpy.float64'>,\n",
       "                                 encoding='utf-8', input='content',\n",
       "                                 lowercase=True, max_df=0.6100772564647808,\n",
       "                                 max_features=None, min_df=2,\n",
       "                                 ngram_range=(1, 2), norm='l2',\n",
       "                                 preprocessor=None, smooth_idf=True,\n",
       "                                 stop_words='english', strip_accents=None,\n",
       "                                 sublinear_tf=False,\n",
       "                                 token_pattern='(?u)\\\\b\\\\w\\\\w+\\\\b',\n",
       "                                 tokenizer=None, use_idf=True,\n",
       "                                 vocabulary=None)),\n",
       "                ('nb',\n",
       "                 MultinomialNB(alpha=0.737996055994291, class_prior=None,\n",
       "                               fit_prior=True))],\n",
       "         verbose=False)"
      ]
     },
     "execution_count": 20,
     "metadata": {
      "tags": []
     },
     "output_type": "execute_result"
    }
   ],
   "source": [
    "opt_nb.fit(x_train, y_train)"
   ]
  },
  {
   "cell_type": "code",
   "execution_count": null,
   "metadata": {
    "colab": {
     "base_uri": "https://localhost:8080/",
     "height": 282
    },
    "id": "OZYGRdiehJR0",
    "outputId": "9dd2fc18-458e-406e-f67f-9f450f04f7d2"
   },
   "outputs": [
    {
     "data": {
      "text/plain": [
       "<matplotlib.legend.Legend at 0x7fbbbd5ea630>"
      ]
     },
     "execution_count": 21,
     "metadata": {
      "tags": []
     },
     "output_type": "execute_result"
    },
    {
     "data": {
      "image/png": "[encoded data removed]",
      "text/plain": [
       "<Figure size 432x288 with 1 Axes>"
      ]
     },
     "metadata": {
      "tags": []
     },
     "output_type": "display_data"
    }
   ],
   "source": [
    "threshold_acc = {}\n",
    "threshold_recall = {}\n",
    "threshold_precision = {}\n",
    "for threshold in range(10, 91, 1):\n",
    "    y_pred = predict_w_threshold(opt_nb, x_train_thresh, threshold/100)\n",
    "\n",
    "    acc = accuracy_score(y_train_thresh, y_pred)\n",
    "    recall = recall_score(y_train_thresh, y_pred)\n",
    "    precision = precision_score(y_train_thresh, y_pred)\n",
    "    \n",
    "    threshold_acc[threshold] = acc\n",
    "    threshold_recall[threshold] = recall\n",
    "    threshold_precision[threshold] = precision\n",
    "\n",
    "ax = sns.lineplot(x=threshold_acc.keys(), y=threshold_acc.values())\n",
    "ax = sns.lineplot(x=threshold_recall.keys(), y=threshold_recall.values(), ax=ax)\n",
    "ax = sns.lineplot(x=threshold_precision.keys(), y=threshold_precision.values(), ax=ax)\n",
    "\n",
    "ax.lines[1].set_linestyle(\"--\")\n",
    "ax.lines[2].set_linestyle(\"--\")\n",
    "\n",
    "plt.legend(labels=['Accuracy', 'Recall', 'Precision'])"
   ]
  },
  {
   "cell_type": "markdown",
   "metadata": {
    "id": "qVCU7OWQhJR1"
   },
   "source": [
    "* Threshold = 0.50"
   ]
  },
  {
   "cell_type": "code",
   "execution_count": null,
   "metadata": {
    "colab": {
     "base_uri": "https://localhost:8080/"
    },
    "id": "8kWwP9plhJR1",
    "outputId": "f020b994-2362-4ca8-9fe5-6e22eea0b831"
   },
   "outputs": [
    {
     "data": {
      "text/plain": [
       "Pipeline(memory=None,\n",
       "         steps=[('tfidf',\n",
       "                 TfidfVectorizer(analyzer='word', binary=False,\n",
       "                                 decode_error='strict',\n",
       "                                 dtype=<class 'numpy.float64'>,\n",
       "                                 encoding='utf-8', input='content',\n",
       "                                 lowercase=True, max_df=0.6100772564647808,\n",
       "                                 max_features=None, min_df=2,\n",
       "                                 ngram_range=(1, 2), norm='l2',\n",
       "                                 preprocessor=None, smooth_idf=True,\n",
       "                                 stop_words='english', strip_accents=None,\n",
       "                                 sublinear_tf=False,\n",
       "                                 token_pattern='(?u)\\\\b\\\\w\\\\w+\\\\b',\n",
       "                                 tokenizer=None, use_idf=True,\n",
       "                                 vocabulary=None)),\n",
       "                ('nb',\n",
       "                 MultinomialNB(alpha=0.737996055994291, class_prior=None,\n",
       "                               fit_prior=True))],\n",
       "         verbose=False)"
      ]
     },
     "execution_count": 26,
     "metadata": {
      "tags": []
     },
     "output_type": "execute_result"
    }
   ],
   "source": [
    "opt_nb.fit(x, y)"
   ]
  },
  {
   "cell_type": "markdown",
   "metadata": {
    "id": "BwNp_sFxoyXi"
   },
   "source": [
    "#### Model Evaluation"
   ]
  },
  {
   "cell_type": "code",
   "execution_count": null,
   "metadata": {
    "colab": {
     "base_uri": "https://localhost:8080/",
     "height": 299
    },
    "id": "2yQuPtYXhJR2",
    "outputId": "b4325c27-9f25-4830-9772-564a76923eab"
   },
   "outputs": [
    {
     "name": "stdout",
     "output_type": "stream",
     "text": [
      "Accuracy = 0.8478\n"
     ]
    },
    {
     "data": {
      "text/plain": [
       "<matplotlib.axes._subplots.AxesSubplot at 0x7fbba44a1438>"
      ]
     },
     "execution_count": 27,
     "metadata": {
      "tags": []
     },
     "output_type": "execute_result"
    },
    {
     "data": {
      "image/png": "[encoded data removed]",
      "text/plain": [
       "<Figure size 432x288 with 2 Axes>"
      ]
     },
     "metadata": {
      "tags": []
     },
     "output_type": "display_data"
    }
   ],
   "source": [
    "y_pred = predict_w_threshold(opt_nb, x_test, 0.5)\n",
    "\n",
    "print('Accuracy = %.4f'%(accuracy_score(y_test, y_pred)))\n",
    "\n",
    "cm = confusion_matrix(y_test, y_pred, normalize='true')\n",
    "sns.heatmap(cm, annot=True, cmap='Greens')"
   ]
  },
  {
   "cell_type": "code",
   "execution_count": null,
   "metadata": {
    "colab": {
     "base_uri": "https://localhost:8080/"
    },
    "id": "__3wzGtIhJR2",
    "outputId": "65771009-f09c-475d-d9ba-14b0feff2822"
   },
   "outputs": [
    {
     "name": "stdout",
     "output_type": "stream",
     "text": [
      "306028 features\n"
     ]
    }
   ],
   "source": [
    "feature_names = opt_nb['tfidf'].get_feature_names()\n",
    "print('%i features'%(len(feature_names)))"
   ]
  },
  {
   "cell_type": "code",
   "execution_count": null,
   "metadata": {
    "colab": {
     "base_uri": "https://localhost:8080/",
     "height": 380
    },
    "id": "XK-3F8GbhJR2",
    "outputId": "d8240b1b-663d-4388-d16a-0b398a62513a"
   },
   "outputs": [
    {
     "data": {
      "text/plain": [
       "Text(0.5, 0.98, 'Probability of features given classes')"
      ]
     },
     "execution_count": 29,
     "metadata": {
      "tags": []
     },
     "output_type": "execute_result"
    },
    {
     "data": {
      "image/png": "[encoded data removed]",
      "text/plain": [
       "<Figure size 1080x360 with 2 Axes>"
      ]
     },
     "metadata": {
      "tags": []
     },
     "output_type": "display_data"
    }
   ],
   "source": [
    "importances_df = pd.DataFrame()\n",
    "\n",
    "importances_df['feat'] = feature_names\n",
    "\n",
    "importances_df['coef_neg'] = np.e**opt_nb['nb'].feature_log_prob_[0, :]\n",
    "importances_df['coef_pos'] = np.e**opt_nb['nb'].feature_log_prob_[1, :]\n",
    "\n",
    "plt.figure(figsize=(15, 5))\n",
    "\n",
    "importances_df = importances_df.sort_values('coef_neg', ascending=False)\n",
    "plt.subplot(1, 2, 1)\n",
    "sns.barplot(data=importances_df.head(10), x='coef_neg', y='feat')\n",
    "\n",
    "importances_df = importances_df.sort_values('coef_pos', ascending=False)\n",
    "plt.subplot(1, 2, 2)\n",
    "sns.barplot(data=importances_df.head(10), x='coef_pos', y='feat')\n",
    "\n",
    "plt.suptitle('Probability of features given classes')"
   ]
  },
  {
   "cell_type": "markdown",
   "metadata": {
    "id": "D2ES2ytHalni"
   },
   "source": [
    "### Logistic Regression"
   ]
  },
  {
   "cell_type": "markdown",
   "metadata": {
    "id": "O48T735Walnj"
   },
   "source": [
    "#### Baseline"
   ]
  },
  {
   "cell_type": "code",
   "execution_count": null,
   "metadata": {
    "id": "D33rWD58alnl"
   },
   "outputs": [],
   "source": [
    "baseline_lr = Pipeline([('tfidf', TfidfVectorizer(stop_words='english')),\n",
    "                        ('lr', LogisticRegression(random_state=42))])"
   ]
  },
  {
   "cell_type": "code",
   "execution_count": null,
   "metadata": {
    "colab": {
     "base_uri": "https://localhost:8080/"
    },
    "id": "sEXxEtAXv6Gx",
    "outputId": "9720dde4-e286-4717-d8b3-b239aedd1643"
   },
   "outputs": [
    {
     "name": "stderr",
     "output_type": "stream",
     "text": [
      "[Parallel(n_jobs=-1)]: Using backend LokyBackend with 2 concurrent workers.\n",
      "[Parallel(n_jobs=-1)]: Done   5 out of   5 | elapsed:   20.6s finished\n"
     ]
    }
   ],
   "source": [
    "scores = cross_val_score(baseline_lr, \n",
    "                         x_train, \n",
    "                         y_train, \n",
    "                         cv=5, \n",
    "                         scoring='roc_auc', \n",
    "                         n_jobs=-1, \n",
    "                         verbose= 1)"
   ]
  },
  {
   "cell_type": "code",
   "execution_count": null,
   "metadata": {
    "colab": {
     "base_uri": "https://localhost:8080/"
    },
    "id": "GjrSTTUj10N_",
    "outputId": "da1c9c52-799e-484c-986a-add37e2f919e"
   },
   "outputs": [
    {
     "name": "stdout",
     "output_type": "stream",
     "text": [
      "[0.95056474 0.95160711 0.94977758 0.95363911 0.94665343]\n",
      "ROC AUC score = 0.9504 +/- 0.0023\n"
     ]
    }
   ],
   "source": [
    "print(scores)\n",
    "print('ROC AUC score = %.4f +/- %.4f'%(np.array(scores).mean(), np.array(scores).std()))"
   ]
  },
  {
   "cell_type": "markdown",
   "metadata": {
    "id": "JMUKXe0Falno"
   },
   "source": [
    "#### Hyperparameter Optimization"
   ]
  },
  {
   "cell_type": "code",
   "execution_count": null,
   "metadata": {
    "id": "EiauP14E9heH"
   },
   "outputs": [],
   "source": [
    "opt_lr = Pipeline([('tfidf', TfidfVectorizer(stop_words='english')),   \n",
    "                   ('lr', LogisticRegression(random_state=42))])"
   ]
  },
  {
   "cell_type": "code",
   "execution_count": null,
   "metadata": {
    "id": "arQlg5he9mIk"
   },
   "outputs": [],
   "source": [
    "def objective(trial):\n",
    "  tfidf__max_ngrams = trial.suggest_int('tfidf__max_ngrams', 1, 3)\n",
    "  tfidf__max_df = trial.suggest_uniform('tfidf__max_df', 0.60, 0.95)\n",
    "  tfidf__min_df = trial.suggest_int('tfidf__min_df', 1, 12)\n",
    "\n",
    "  lr__max_iter = trial.suggest_int('lr__max_iter', 70, 400)\n",
    "  lr__C = trial.suggest_uniform('lr__C', 0.8, 1.0)\n",
    "\n",
    "  params = {\n",
    "      'tfidf__ngram_range': (1, tfidf__max_ngrams),\n",
    "      'tfidf__max_df': tfidf__max_df,\n",
    "      'tfidf__min_df': tfidf__min_df,\n",
    "      'lr__max_iter': lr__max_iter,\n",
    "      'lr__C': lr__C\n",
    "  }\n",
    "  \n",
    "  opt_lr.set_params(**params)\n",
    "\n",
    "  return np.mean(cross_val_score(opt_lr, \n",
    "                                 x_train, \n",
    "                                 y_train, \n",
    "                                 cv=5, \n",
    "                                 scoring='roc_auc', \n",
    "                                 n_jobs=-1))"
   ]
  },
  {
   "cell_type": "code",
   "execution_count": null,
   "metadata": {
    "colab": {
     "base_uri": "https://localhost:8080/"
    },
    "id": "1OHTzriHJo3V",
    "outputId": "eca8ec85-b0aa-4fa9-fea3-90d8a38654d6"
   },
   "outputs": [
    {
     "name": "stderr",
     "output_type": "stream",
     "text": [
      "\u001b[32m[I 2020-12-17 01:16:16,445]\u001b[0m A new study created in memory with name: no-name-a1d940ca-bff9-4ef6-9234-f7fb4fb99d91\u001b[0m\n",
      "\u001b[32m[I 2020-12-17 01:18:43,653]\u001b[0m Trial 1 finished with value: 0.9513082074074074 and parameters: {'tfidf__max_ngrams': 2, 'tfidf__max_df': 0.6854232519660124, 'tfidf__min_df': 10, 'lr__max_iter': 329, 'lr__C': 0.8516885880135042}. Best is trial 1 with value: 0.9513082074074074.\u001b[0m\n",
      "\u001b[32m[I 2020-12-17 01:18:43,782]\u001b[0m Trial 0 finished with value: 0.9513082074074074 and parameters: {'tfidf__max_ngrams': 3, 'tfidf__max_df': 0.6816326305838684, 'tfidf__min_df': 5, 'lr__max_iter': 309, 'lr__C': 0.842341937350733}. Best is trial 1 with value: 0.9513082074074074.\u001b[0m\n",
      "\u001b[32m[I 2020-12-17 01:23:40,196]\u001b[0m Trial 3 finished with value: 0.9515349333333333 and parameters: {'tfidf__max_ngrams': 3, 'tfidf__max_df': 0.9472455936379497, 'tfidf__min_df': 6, 'lr__max_iter': 99, 'lr__C': 0.8630181476546867}. Best is trial 3 with value: 0.9515349333333333.\u001b[0m\n",
      "\u001b[32m[I 2020-12-17 01:23:40,317]\u001b[0m Trial 2 finished with value: 0.9516998716049383 and parameters: {'tfidf__max_ngrams': 3, 'tfidf__max_df': 0.8575339863886443, 'tfidf__min_df': 8, 'lr__max_iter': 354, 'lr__C': 0.8878274412708861}. Best is trial 2 with value: 0.9516998716049383.\u001b[0m\n",
      "\u001b[32m[I 2020-12-17 01:28:43,096]\u001b[0m Trial 5 finished with value: 0.9511099654320987 and parameters: {'tfidf__max_ngrams': 3, 'tfidf__max_df': 0.6696760919169955, 'tfidf__min_df': 12, 'lr__max_iter': 201, 'lr__C': 0.8292339767508318}. Best is trial 2 with value: 0.9516998716049383.\u001b[0m\n",
      "\u001b[32m[I 2020-12-17 01:28:49,152]\u001b[0m Trial 4 finished with value: 0.9512063604938271 and parameters: {'tfidf__max_ngrams': 3, 'tfidf__max_df': 0.7773812232195498, 'tfidf__min_df': 4, 'lr__max_iter': 360, 'lr__C': 0.8623733521028454}. Best is trial 2 with value: 0.9516998716049383.\u001b[0m\n",
      "\u001b[32m[I 2020-12-17 01:30:11,400]\u001b[0m Trial 7 finished with value: 0.950074113580247 and parameters: {'tfidf__max_ngrams': 1, 'tfidf__max_df': 0.6566458736687065, 'tfidf__min_df': 3, 'lr__max_iter': 154, 'lr__C': 0.9244321631187241}. Best is trial 2 with value: 0.9516998716049383.\u001b[0m\n",
      "\u001b[32m[I 2020-12-17 01:32:08,606]\u001b[0m Trial 6 finished with value: 0.9513638320987653 and parameters: {'tfidf__max_ngrams': 3, 'tfidf__max_df': 0.9376181004807589, 'tfidf__min_df': 11, 'lr__max_iter': 312, 'lr__C': 0.9508157299788702}. Best is trial 2 with value: 0.9516998716049383.\u001b[0m\n",
      "\u001b[32m[I 2020-12-17 01:32:24,166]\u001b[0m Trial 8 finished with value: 0.951457777777778 and parameters: {'tfidf__max_ngrams': 2, 'tfidf__max_df': 0.6859790383354795, 'tfidf__min_df': 12, 'lr__max_iter': 101, 'lr__C': 0.8968174047921466}. Best is trial 2 with value: 0.9516998716049383.\u001b[0m\n"
     ]
    }
   ],
   "source": [
    "study = optuna.create_study(direction='maximize')\n",
    "study.optimize(objective, timeout=900, n_jobs=-1)"
   ]
  },
  {
   "cell_type": "code",
   "execution_count": null,
   "metadata": {
    "colab": {
     "base_uri": "https://localhost:8080/",
     "height": 542
    },
    "id": "X4R1TtiBuN4v",
    "outputId": "a31e1cd3-cd65-457f-d977-38348c092dc0"
   },
   "outputs": [
    {
     "data": {
      "text/html": [
       "<html>\n",
       "<head><meta charset=\"utf-8\" /></head>\n",
       "<body>\n",
       "    <div>\n",
       "            <script src=\"https://cdnjs.cloudflare.com/ajax/libs/mathjax/2.7.5/MathJax.js?config=TeX-AMS-MML_SVG\"></script><script type=\"text/javascript\">if (window.MathJax) {MathJax.Hub.Config({SVG: {font: \"STIX-Web\"}});}</script>\n",
       "                <script type=\"text/javascript\">window.PlotlyConfig = {MathJaxConfig: 'local'};</script>\n",
       "        <script src=\"https://cdn.plot.ly/plotly-latest.min.js\"></script>    \n",
       "            <div id=\"518fe0cf-3287-4577-997b-c158c23113fb\" class=\"plotly-graph-div\" style=\"height:525px; width:100%;\"></div>\n",
       "            <script type=\"text/javascript\">\n",
       "                \n",
       "                    window.PLOTLYENV=window.PLOTLYENV || {};\n",
       "                    \n",
       "                if (document.getElementById(\"518fe0cf-3287-4577-997b-c158c23113fb\")) {\n",
       "                    Plotly.newPlot(\n",
       "                        '518fe0cf-3287-4577-997b-c158c23113fb',\n",
       "                        [{\"type\": \"scatter\", \"xaxis\": \"x\", \"yaxis\": \"y\"}, {\"colorbar\": {\"title\": {\"text\": \"Objective Value\"}}, \"colorscale\": [[0, \"rgb(5,10,172)\"], [0.35, \"rgb(40,60,190)\"], [0.5, \"rgb(70,100,245)\"], [0.6, \"rgb(90,120,245)\"], [0.7, \"rgb(106,137,247)\"], [1, \"rgb(220,220,220)\"]], \"connectgaps\": true, \"contours\": {\"coloring\": \"heatmap\"}, \"hoverinfo\": \"none\", \"line\": {\"smoothing\": 1.3}, \"showscale\": true, \"type\": \"contour\", \"x\": [0.6421158876702444, 0.6566458736687065, 0.6696760919169955, 0.6816326305838684, 0.6854232519660124, 0.6859790383354795, 0.7773812232195498, 0.8575339863886443, 0.9376181004807589, 0.9472455936379497, 0.9617755796364118], \"xaxis\": \"x4\", \"y\": [0.9, 1, 2, 3, 3.1], \"yaxis\": \"y4\", \"z\": [[null, null, null, null, null, null, null, null, null, null, null], [null, 0.950074113580247, null, null, null, null, null, null, null, null, null], [null, null, null, null, 0.9513082074074074, 0.951457777777778, null, null, null, null, null], [null, null, 0.9511099654320987, 0.9513082074074074, null, null, 0.9512063604938271, 0.9516998716049383, 0.9513638320987653, 0.9515349333333333, null], [null, null, null, null, null, null, null, null, null, null, null]]}, {\"marker\": {\"color\": \"black\", \"line\": {\"color\": \"Grey\", \"width\": 0.5}}, \"mode\": \"markers\", \"showlegend\": false, \"type\": \"scatter\", \"x\": [0.6816326305838684, 0.6854232519660124, 0.8575339863886443, 0.9472455936379497, 0.7773812232195498, 0.6696760919169955, 0.9376181004807589, 0.6566458736687065, 0.6859790383354795], \"xaxis\": \"x4\", \"y\": [3, 2, 3, 3, 3, 3, 3, 1, 2], \"yaxis\": \"y4\"}, {\"colorbar\": {\"title\": {\"text\": \"Objective Value\"}}, \"colorscale\": [[0, \"rgb(5,10,172)\"], [0.35, \"rgb(40,60,190)\"], [0.5, \"rgb(70,100,245)\"], [0.6, \"rgb(90,120,245)\"], [0.7, \"rgb(106,137,247)\"], [1, \"rgb(220,220,220)\"]], \"connectgaps\": true, \"contours\": {\"coloring\": \"heatmap\"}, \"hoverinfo\": \"none\", \"line\": {\"smoothing\": 1.3}, \"showscale\": false, \"type\": \"contour\", \"x\": [0.6421158876702444, 0.6566458736687065, 0.6696760919169955, 0.6816326305838684, 0.6854232519660124, 0.6859790383354795, 0.7773812232195498, 0.8575339863886443, 0.9376181004807589, 0.9472455936379497, 0.9617755796364118], \"xaxis\": \"x7\", \"y\": [2.55, 3, 4, 5, 6, 8, 10, 11, 12, 12.45], \"yaxis\": \"y7\", \"z\": [[null, null, null, null, null, null, null, null, null, null, null], [null, 0.950074113580247, null, null, null, null, null, null, null, null, null], [null, null, null, null, null, null, 0.9512063604938271, null, null, null, null], [null, null, null, 0.9513082074074074, null, null, null, null, null, null, null], [null, null, null, null, null, null, null, null, null, 0.9515349333333333, null], [null, null, null, null, null, null, null, 0.9516998716049383, null, null, null], [null, null, null, null, 0.9513082074074074, null, null, null, null, null, null], [null, null, null, null, null, null, null, null, 0.9513638320987653, null, null], [null, null, 0.9511099654320987, null, null, 0.951457777777778, null, null, null, null, null], [null, null, null, null, null, null, null, null, null, null, null]]}, {\"marker\": {\"color\": \"black\", \"line\": {\"color\": \"Grey\", \"width\": 0.5}}, \"mode\": \"markers\", \"showlegend\": false, \"type\": \"scatter\", \"x\": [0.6816326305838684, 0.6854232519660124, 0.8575339863886443, 0.9472455936379497, 0.7773812232195498, 0.6696760919169955, 0.9376181004807589, 0.6566458736687065, 0.6859790383354795], \"xaxis\": \"x7\", \"y\": [5, 10, 8, 6, 4, 12, 11, 3, 12], \"yaxis\": \"y7\"}, {\"colorbar\": {\"title\": {\"text\": \"Objective Value\"}}, \"colorscale\": [[0, \"rgb(5,10,172)\"], [0.35, \"rgb(40,60,190)\"], [0.5, \"rgb(70,100,245)\"], [0.6, \"rgb(90,120,245)\"], [0.7, \"rgb(106,137,247)\"], [1, \"rgb(220,220,220)\"]], \"connectgaps\": true, \"contours\": {\"coloring\": \"heatmap\"}, \"hoverinfo\": \"none\", \"line\": {\"smoothing\": 1.3}, \"showscale\": false, \"type\": \"contour\", \"x\": [0.9, 1, 2, 3, 3.1], \"xaxis\": \"x2\", \"y\": [0.6421158876702444, 0.6566458736687065, 0.6696760919169955, 0.6816326305838684, 0.6854232519660124, 0.6859790383354795, 0.7773812232195498, 0.8575339863886443, 0.9376181004807589, 0.9472455936379497, 0.9617755796364118], \"yaxis\": \"y2\", \"z\": [[null, null, null, null, null], [null, 0.950074113580247, null, null, null], [null, null, null, 0.9511099654320987, null], [null, null, null, 0.9513082074074074, null], [null, null, 0.9513082074074074, null, null], [null, null, 0.951457777777778, null, null], [null, null, null, 0.9512063604938271, null], [null, null, null, 0.9516998716049383, null], [null, null, null, 0.9513638320987653, null], [null, null, null, 0.9515349333333333, null], [null, null, null, null, null]]}, {\"marker\": {\"color\": \"black\", \"line\": {\"color\": \"Grey\", \"width\": 0.5}}, \"mode\": \"markers\", \"showlegend\": false, \"type\": \"scatter\", \"x\": [3, 2, 3, 3, 3, 3, 3, 1, 2], \"xaxis\": \"x2\", \"y\": [0.6816326305838684, 0.6854232519660124, 0.8575339863886443, 0.9472455936379497, 0.7773812232195498, 0.6696760919169955, 0.9376181004807589, 0.6566458736687065, 0.6859790383354795], \"yaxis\": \"y2\"}, {\"type\": \"scatter\", \"xaxis\": \"x5\", \"yaxis\": \"y5\"}, {\"colorbar\": {\"title\": {\"text\": \"Objective Value\"}}, \"colorscale\": [[0, \"rgb(5,10,172)\"], [0.35, \"rgb(40,60,190)\"], [0.5, \"rgb(70,100,245)\"], [0.6, \"rgb(90,120,245)\"], [0.7, \"rgb(106,137,247)\"], [1, \"rgb(220,220,220)\"]], \"connectgaps\": true, \"contours\": {\"coloring\": \"heatmap\"}, \"hoverinfo\": \"none\", \"line\": {\"smoothing\": 1.3}, \"showscale\": false, \"type\": \"contour\", \"x\": [0.9, 1, 2, 3, 3.1], \"xaxis\": \"x8\", \"y\": [2.55, 3, 4, 5, 6, 8, 10, 11, 12, 12.45], \"yaxis\": \"y8\", \"z\": [[null, null, null, null, null], [null, 0.950074113580247, null, null, null], [null, null, null, 0.9512063604938271, null], [null, null, null, 0.9513082074074074, null], [null, null, null, 0.9515349333333333, null], [null, null, null, 0.9516998716049383, null], [null, null, 0.9513082074074074, null, null], [null, null, null, 0.9513638320987653, null], [null, null, 0.951457777777778, 0.9511099654320987, null], [null, null, null, null, null]]}, {\"marker\": {\"color\": \"black\", \"line\": {\"color\": \"Grey\", \"width\": 0.5}}, \"mode\": \"markers\", \"showlegend\": false, \"type\": \"scatter\", \"x\": [3, 2, 3, 3, 3, 3, 3, 1, 2], \"xaxis\": \"x8\", \"y\": [5, 10, 8, 6, 4, 12, 11, 3, 12], \"yaxis\": \"y8\"}, {\"colorbar\": {\"title\": {\"text\": \"Objective Value\"}}, \"colorscale\": [[0, \"rgb(5,10,172)\"], [0.35, \"rgb(40,60,190)\"], [0.5, \"rgb(70,100,245)\"], [0.6, \"rgb(90,120,245)\"], [0.7, \"rgb(106,137,247)\"], [1, \"rgb(220,220,220)\"]], \"connectgaps\": true, \"contours\": {\"coloring\": \"heatmap\"}, \"hoverinfo\": \"none\", \"line\": {\"smoothing\": 1.3}, \"showscale\": false, \"type\": \"contour\", \"x\": [2.55, 3, 4, 5, 6, 8, 10, 11, 12, 12.45], \"xaxis\": \"x3\", \"y\": [0.6421158876702444, 0.6566458736687065, 0.6696760919169955, 0.6816326305838684, 0.6854232519660124, 0.6859790383354795, 0.7773812232195498, 0.8575339863886443, 0.9376181004807589, 0.9472455936379497, 0.9617755796364118], \"yaxis\": \"y3\", \"z\": [[null, null, null, null, null, null, null, null, null, null], [null, 0.950074113580247, null, null, null, null, null, null, null, null], [null, null, null, null, null, null, null, null, 0.9511099654320987, null], [null, null, null, 0.9513082074074074, null, null, null, null, null, null], [null, null, null, null, null, null, 0.9513082074074074, null, null, null], [null, null, null, null, null, null, null, null, 0.951457777777778, null], [null, null, 0.9512063604938271, null, null, null, null, null, null, null], [null, null, null, null, null, 0.9516998716049383, null, null, null, null], [null, null, null, null, null, null, null, 0.9513638320987653, null, null], [null, null, null, null, 0.9515349333333333, null, null, null, null, null], [null, null, null, null, null, null, null, null, null, null]]}, {\"marker\": {\"color\": \"black\", \"line\": {\"color\": \"Grey\", \"width\": 0.5}}, \"mode\": \"markers\", \"showlegend\": false, \"type\": \"scatter\", \"x\": [5, 10, 8, 6, 4, 12, 11, 3, 12], \"xaxis\": \"x3\", \"y\": [0.6816326305838684, 0.6854232519660124, 0.8575339863886443, 0.9472455936379497, 0.7773812232195498, 0.6696760919169955, 0.9376181004807589, 0.6566458736687065, 0.6859790383354795], \"yaxis\": \"y3\"}, {\"colorbar\": {\"title\": {\"text\": \"Objective Value\"}}, \"colorscale\": [[0, \"rgb(5,10,172)\"], [0.35, \"rgb(40,60,190)\"], [0.5, \"rgb(70,100,245)\"], [0.6, \"rgb(90,120,245)\"], [0.7, \"rgb(106,137,247)\"], [1, \"rgb(220,220,220)\"]], \"connectgaps\": true, \"contours\": {\"coloring\": \"heatmap\"}, \"hoverinfo\": \"none\", \"line\": {\"smoothing\": 1.3}, \"showscale\": false, \"type\": \"contour\", \"x\": [2.55, 3, 4, 5, 6, 8, 10, 11, 12, 12.45], \"xaxis\": \"x6\", \"y\": [0.9, 1, 2, 3, 3.1], \"yaxis\": \"y6\", \"z\": [[null, null, null, null, null, null, null, null, null, null], [null, 0.950074113580247, null, null, null, null, null, null, null, null], [null, null, null, null, null, null, 0.9513082074074074, null, 0.951457777777778, null], [null, null, 0.9512063604938271, 0.9513082074074074, 0.9515349333333333, 0.9516998716049383, null, 0.9513638320987653, 0.9511099654320987, null], [null, null, null, null, null, null, null, null, null, null]]}, {\"marker\": {\"color\": \"black\", \"line\": {\"color\": \"Grey\", \"width\": 0.5}}, \"mode\": \"markers\", \"showlegend\": false, \"type\": \"scatter\", \"x\": [5, 10, 8, 6, 4, 12, 11, 3, 12], \"xaxis\": \"x6\", \"y\": [3, 2, 3, 3, 3, 3, 3, 1, 2], \"yaxis\": \"y6\"}, {\"type\": \"scatter\", \"xaxis\": \"x9\", \"yaxis\": \"y9\"}],\n",
       "                        {\"template\": {\"data\": {\"bar\": [{\"error_x\": {\"color\": \"#2a3f5f\"}, \"error_y\": {\"color\": \"#2a3f5f\"}, \"marker\": {\"line\": {\"color\": \"#E5ECF6\", \"width\": 0.5}}, \"type\": \"bar\"}], \"barpolar\": [{\"marker\": {\"line\": {\"color\": \"#E5ECF6\", \"width\": 0.5}}, \"type\": \"barpolar\"}], \"carpet\": [{\"aaxis\": {\"endlinecolor\": \"#2a3f5f\", \"gridcolor\": \"white\", \"linecolor\": \"white\", \"minorgridcolor\": \"white\", \"startlinecolor\": \"#2a3f5f\"}, \"baxis\": {\"endlinecolor\": \"#2a3f5f\", \"gridcolor\": \"white\", \"linecolor\": \"white\", \"minorgridcolor\": \"white\", \"startlinecolor\": \"#2a3f5f\"}, \"type\": \"carpet\"}], \"choropleth\": [{\"colorbar\": {\"outlinewidth\": 0, \"ticks\": \"\"}, \"type\": \"choropleth\"}], \"contour\": [{\"colorbar\": {\"outlinewidth\": 0, \"ticks\": \"\"}, \"colorscale\": [[0.0, \"#0d0887\"], [0.1111111111111111, \"#46039f\"], [0.2222222222222222, \"#7201a8\"], [0.3333333333333333, \"#9c179e\"], [0.4444444444444444, \"#bd3786\"], [0.5555555555555556, \"#d8576b\"], [0.6666666666666666, \"#ed7953\"], [0.7777777777777778, \"#fb9f3a\"], [0.8888888888888888, \"#fdca26\"], [1.0, \"#f0f921\"]], \"type\": \"contour\"}], \"contourcarpet\": [{\"colorbar\": {\"outlinewidth\": 0, \"ticks\": \"\"}, \"type\": \"contourcarpet\"}], \"heatmap\": [{\"colorbar\": {\"outlinewidth\": 0, \"ticks\": \"\"}, \"colorscale\": [[0.0, \"#0d0887\"], [0.1111111111111111, \"#46039f\"], [0.2222222222222222, \"#7201a8\"], [0.3333333333333333, \"#9c179e\"], [0.4444444444444444, \"#bd3786\"], [0.5555555555555556, \"#d8576b\"], [0.6666666666666666, \"#ed7953\"], [0.7777777777777778, \"#fb9f3a\"], [0.8888888888888888, \"#fdca26\"], [1.0, \"#f0f921\"]], \"type\": \"heatmap\"}], \"heatmapgl\": [{\"colorbar\": {\"outlinewidth\": 0, \"ticks\": \"\"}, \"colorscale\": [[0.0, \"#0d0887\"], [0.1111111111111111, \"#46039f\"], [0.2222222222222222, \"#7201a8\"], [0.3333333333333333, \"#9c179e\"], [0.4444444444444444, \"#bd3786\"], [0.5555555555555556, \"#d8576b\"], [0.6666666666666666, \"#ed7953\"], [0.7777777777777778, \"#fb9f3a\"], [0.8888888888888888, \"#fdca26\"], [1.0, \"#f0f921\"]], \"type\": \"heatmapgl\"}], \"histogram\": [{\"marker\": {\"colorbar\": {\"outlinewidth\": 0, \"ticks\": \"\"}}, \"type\": \"histogram\"}], \"histogram2d\": [{\"colorbar\": {\"outlinewidth\": 0, \"ticks\": \"\"}, \"colorscale\": [[0.0, \"#0d0887\"], [0.1111111111111111, \"#46039f\"], [0.2222222222222222, \"#7201a8\"], [0.3333333333333333, \"#9c179e\"], [0.4444444444444444, \"#bd3786\"], [0.5555555555555556, \"#d8576b\"], [0.6666666666666666, \"#ed7953\"], [0.7777777777777778, \"#fb9f3a\"], [0.8888888888888888, \"#fdca26\"], [1.0, \"#f0f921\"]], \"type\": \"histogram2d\"}], \"histogram2dcontour\": [{\"colorbar\": {\"outlinewidth\": 0, \"ticks\": \"\"}, \"colorscale\": [[0.0, \"#0d0887\"], [0.1111111111111111, \"#46039f\"], [0.2222222222222222, \"#7201a8\"], [0.3333333333333333, \"#9c179e\"], [0.4444444444444444, \"#bd3786\"], [0.5555555555555556, \"#d8576b\"], [0.6666666666666666, \"#ed7953\"], [0.7777777777777778, \"#fb9f3a\"], [0.8888888888888888, \"#fdca26\"], [1.0, \"#f0f921\"]], \"type\": \"histogram2dcontour\"}], \"mesh3d\": [{\"colorbar\": {\"outlinewidth\": 0, \"ticks\": \"\"}, \"type\": \"mesh3d\"}], \"parcoords\": [{\"line\": {\"colorbar\": {\"outlinewidth\": 0, \"ticks\": \"\"}}, \"type\": \"parcoords\"}], \"pie\": [{\"automargin\": true, \"type\": \"pie\"}], \"scatter\": [{\"marker\": {\"colorbar\": {\"outlinewidth\": 0, \"ticks\": \"\"}}, \"type\": \"scatter\"}], \"scatter3d\": [{\"line\": {\"colorbar\": {\"outlinewidth\": 0, \"ticks\": \"\"}}, \"marker\": {\"colorbar\": {\"outlinewidth\": 0, \"ticks\": \"\"}}, \"type\": \"scatter3d\"}], \"scattercarpet\": [{\"marker\": {\"colorbar\": {\"outlinewidth\": 0, \"ticks\": \"\"}}, \"type\": \"scattercarpet\"}], \"scattergeo\": [{\"marker\": {\"colorbar\": {\"outlinewidth\": 0, \"ticks\": \"\"}}, \"type\": \"scattergeo\"}], \"scattergl\": [{\"marker\": {\"colorbar\": {\"outlinewidth\": 0, \"ticks\": \"\"}}, \"type\": \"scattergl\"}], \"scattermapbox\": [{\"marker\": {\"colorbar\": {\"outlinewidth\": 0, \"ticks\": \"\"}}, \"type\": \"scattermapbox\"}], \"scatterpolar\": [{\"marker\": {\"colorbar\": {\"outlinewidth\": 0, \"ticks\": \"\"}}, \"type\": \"scatterpolar\"}], \"scatterpolargl\": [{\"marker\": {\"colorbar\": {\"outlinewidth\": 0, \"ticks\": \"\"}}, \"type\": \"scatterpolargl\"}], \"scatterternary\": [{\"marker\": {\"colorbar\": {\"outlinewidth\": 0, \"ticks\": \"\"}}, \"type\": \"scatterternary\"}], \"surface\": [{\"colorbar\": {\"outlinewidth\": 0, \"ticks\": \"\"}, \"colorscale\": [[0.0, \"#0d0887\"], [0.1111111111111111, \"#46039f\"], [0.2222222222222222, \"#7201a8\"], [0.3333333333333333, \"#9c179e\"], [0.4444444444444444, \"#bd3786\"], [0.5555555555555556, \"#d8576b\"], [0.6666666666666666, \"#ed7953\"], [0.7777777777777778, \"#fb9f3a\"], [0.8888888888888888, \"#fdca26\"], [1.0, \"#f0f921\"]], \"type\": \"surface\"}], \"table\": [{\"cells\": {\"fill\": {\"color\": \"#EBF0F8\"}, \"line\": {\"color\": \"white\"}}, \"header\": {\"fill\": {\"color\": \"#C8D4E3\"}, \"line\": {\"color\": \"white\"}}, \"type\": \"table\"}]}, \"layout\": {\"annotationdefaults\": {\"arrowcolor\": \"#2a3f5f\", \"arrowhead\": 0, \"arrowwidth\": 1}, \"coloraxis\": {\"colorbar\": {\"outlinewidth\": 0, \"ticks\": \"\"}}, \"colorscale\": {\"diverging\": [[0, \"#8e0152\"], [0.1, \"#c51b7d\"], [0.2, \"#de77ae\"], [0.3, \"#f1b6da\"], [0.4, \"#fde0ef\"], [0.5, \"#f7f7f7\"], [0.6, \"#e6f5d0\"], [0.7, \"#b8e186\"], [0.8, \"#7fbc41\"], [0.9, \"#4d9221\"], [1, \"#276419\"]], \"sequential\": [[0.0, \"#0d0887\"], [0.1111111111111111, \"#46039f\"], [0.2222222222222222, \"#7201a8\"], [0.3333333333333333, \"#9c179e\"], [0.4444444444444444, \"#bd3786\"], [0.5555555555555556, \"#d8576b\"], [0.6666666666666666, \"#ed7953\"], [0.7777777777777778, \"#fb9f3a\"], [0.8888888888888888, \"#fdca26\"], [1.0, \"#f0f921\"]], \"sequentialminus\": [[0.0, \"#0d0887\"], [0.1111111111111111, \"#46039f\"], [0.2222222222222222, \"#7201a8\"], [0.3333333333333333, \"#9c179e\"], [0.4444444444444444, \"#bd3786\"], [0.5555555555555556, \"#d8576b\"], [0.6666666666666666, \"#ed7953\"], [0.7777777777777778, \"#fb9f3a\"], [0.8888888888888888, \"#fdca26\"], [1.0, \"#f0f921\"]]}, \"colorway\": [\"#636efa\", \"#EF553B\", \"#00cc96\", \"#ab63fa\", \"#FFA15A\", \"#19d3f3\", \"#FF6692\", \"#B6E880\", \"#FF97FF\", \"#FECB52\"], \"font\": {\"color\": \"#2a3f5f\"}, \"geo\": {\"bgcolor\": \"white\", \"lakecolor\": \"white\", \"landcolor\": \"#E5ECF6\", \"showlakes\": true, \"showland\": true, \"subunitcolor\": \"white\"}, \"hoverlabel\": {\"align\": \"left\"}, \"hovermode\": \"closest\", \"mapbox\": {\"style\": \"light\"}, \"paper_bgcolor\": \"white\", \"plot_bgcolor\": \"#E5ECF6\", \"polar\": {\"angularaxis\": {\"gridcolor\": \"white\", \"linecolor\": \"white\", \"ticks\": \"\"}, \"bgcolor\": \"#E5ECF6\", \"radialaxis\": {\"gridcolor\": \"white\", \"linecolor\": \"white\", \"ticks\": \"\"}}, \"scene\": {\"xaxis\": {\"backgroundcolor\": \"#E5ECF6\", \"gridcolor\": \"white\", \"gridwidth\": 2, \"linecolor\": \"white\", \"showbackground\": true, \"ticks\": \"\", \"zerolinecolor\": \"white\"}, \"yaxis\": {\"backgroundcolor\": \"#E5ECF6\", \"gridcolor\": \"white\", \"gridwidth\": 2, \"linecolor\": \"white\", \"showbackground\": true, \"ticks\": \"\", \"zerolinecolor\": \"white\"}, \"zaxis\": {\"backgroundcolor\": \"#E5ECF6\", \"gridcolor\": \"white\", \"gridwidth\": 2, \"linecolor\": \"white\", \"showbackground\": true, \"ticks\": \"\", \"zerolinecolor\": \"white\"}}, \"shapedefaults\": {\"line\": {\"color\": \"#2a3f5f\"}}, \"ternary\": {\"aaxis\": {\"gridcolor\": \"white\", \"linecolor\": \"white\", \"ticks\": \"\"}, \"baxis\": {\"gridcolor\": \"white\", \"linecolor\": \"white\", \"ticks\": \"\"}, \"bgcolor\": \"#E5ECF6\", \"caxis\": {\"gridcolor\": \"white\", \"linecolor\": \"white\", \"ticks\": \"\"}}, \"title\": {\"x\": 0.05}, \"xaxis\": {\"automargin\": true, \"gridcolor\": \"white\", \"linecolor\": \"white\", \"ticks\": \"\", \"title\": {\"standoff\": 15}, \"zerolinecolor\": \"white\", \"zerolinewidth\": 2}, \"yaxis\": {\"automargin\": true, \"gridcolor\": \"white\", \"linecolor\": \"white\", \"ticks\": \"\", \"title\": {\"standoff\": 15}, \"zerolinecolor\": \"white\", \"zerolinewidth\": 2}}}, \"title\": {\"text\": \"Contour Plot\"}, \"xaxis\": {\"anchor\": \"y\", \"domain\": [0.0, 0.2888888888888889], \"matches\": \"x7\", \"range\": [0.6421158876702444, 0.9617755796364118], \"showticklabels\": false}, \"xaxis2\": {\"anchor\": \"y2\", \"domain\": [0.35555555555555557, 0.6444444444444445], \"matches\": \"x8\", \"range\": [0.9, 3.1], \"showticklabels\": false}, \"xaxis3\": {\"anchor\": \"y3\", \"domain\": [0.7111111111111111, 1.0], \"matches\": \"x9\", \"range\": [2.55, 12.45], \"showticklabels\": false}, \"xaxis4\": {\"anchor\": \"y4\", \"domain\": [0.0, 0.2888888888888889], \"matches\": \"x7\", \"range\": [0.6421158876702444, 0.9617755796364118], \"showticklabels\": false}, \"xaxis5\": {\"anchor\": \"y5\", \"domain\": [0.35555555555555557, 0.6444444444444445], \"matches\": \"x8\", \"range\": [0.9, 3.1], \"showticklabels\": false}, \"xaxis6\": {\"anchor\": \"y6\", \"domain\": [0.7111111111111111, 1.0], \"matches\": \"x9\", \"range\": [2.55, 12.45], \"showticklabels\": false}, \"xaxis7\": {\"anchor\": \"y7\", \"domain\": [0.0, 0.2888888888888889], \"range\": [0.6421158876702444, 0.9617755796364118], \"title\": {\"text\": \"tfidf__max_df\"}}, \"xaxis8\": {\"anchor\": \"y8\", \"domain\": [0.35555555555555557, 0.6444444444444445], \"range\": [0.9, 3.1], \"title\": {\"text\": \"tfidf__max_ngrams\"}}, \"xaxis9\": {\"anchor\": \"y9\", \"domain\": [0.7111111111111111, 1.0], \"range\": [2.55, 12.45], \"title\": {\"text\": \"tfidf__min_df\"}}, \"yaxis\": {\"anchor\": \"x\", \"domain\": [0.7333333333333333, 1.0], \"range\": [0.6421158876702444, 0.9617755796364118], \"title\": {\"text\": \"tfidf__max_df\"}}, \"yaxis2\": {\"anchor\": \"x2\", \"domain\": [0.7333333333333333, 1.0], \"matches\": \"y\", \"range\": [0.6421158876702444, 0.9617755796364118], \"showticklabels\": false}, \"yaxis3\": {\"anchor\": \"x3\", \"domain\": [0.7333333333333333, 1.0], \"matches\": \"y\", \"range\": [0.6421158876702444, 0.9617755796364118], \"showticklabels\": false}, \"yaxis4\": {\"anchor\": \"x4\", \"domain\": [0.36666666666666664, 0.6333333333333333], \"range\": [0.9, 3.1], \"title\": {\"text\": \"tfidf__max_ngrams\"}}, \"yaxis5\": {\"anchor\": \"x5\", \"domain\": [0.36666666666666664, 0.6333333333333333], \"matches\": \"y4\", \"range\": [0.9, 3.1], \"showticklabels\": false}, \"yaxis6\": {\"anchor\": \"x6\", \"domain\": [0.36666666666666664, 0.6333333333333333], \"matches\": \"y4\", \"range\": [0.9, 3.1], \"showticklabels\": false}, \"yaxis7\": {\"anchor\": \"x7\", \"domain\": [0.0, 0.26666666666666666], \"range\": [2.55, 12.45], \"title\": {\"text\": \"tfidf__min_df\"}}, \"yaxis8\": {\"anchor\": \"x8\", \"domain\": [0.0, 0.26666666666666666], \"matches\": \"y7\", \"range\": [2.55, 12.45], \"showticklabels\": false}, \"yaxis9\": {\"anchor\": \"x9\", \"domain\": [0.0, 0.26666666666666666], \"matches\": \"y7\", \"range\": [2.55, 12.45], \"showticklabels\": false}},\n",
       "                        {\"responsive\": true}\n",
       "                    ).then(function(){\n",
       "                            \n",
       "var gd = document.getElementById('518fe0cf-3287-4577-997b-c158c23113fb');\n",
       "var x = new MutationObserver(function (mutations, observer) {{\n",
       "        var display = window.getComputedStyle(gd).display;\n",
       "        if (!display || display === 'none') {{\n",
       "            console.log([gd, 'removed!']);\n",
       "            Plotly.purge(gd);\n",
       "            observer.disconnect();\n",
       "        }}\n",
       "}});\n",
       "\n",
       "// Listen for the removal of the full notebook cells\n",
       "var notebookContainer = gd.closest('#notebook-container');\n",
       "if (notebookContainer) {{\n",
       "    x.observe(notebookContainer, {childList: true});\n",
       "}}\n",
       "\n",
       "// Listen for the clearing of the current output cell\n",
       "var outputEl = gd.closest('.output');\n",
       "if (outputEl) {{\n",
       "    x.observe(outputEl, {childList: true});\n",
       "}}\n",
       "\n",
       "                        })\n",
       "                };\n",
       "                \n",
       "            </script>\n",
       "        </div>\n",
       "</body>\n",
       "</html>"
      ]
     },
     "metadata": {
      "tags": []
     },
     "output_type": "display_data"
    }
   ],
   "source": [
    "optuna.visualization.plot_contour(study, params=['tfidf__max_ngrams',\n",
    "                                                 'tfidf__max_df',\n",
    "                                                 'tfidf__min_df'])"
   ]
  },
  {
   "cell_type": "code",
   "execution_count": null,
   "metadata": {
    "colab": {
     "base_uri": "https://localhost:8080/",
     "height": 542
    },
    "id": "UASymraovFu1",
    "outputId": "ad737b56-fdf2-4818-f380-cf81b0ecb1c7"
   },
   "outputs": [
    {
     "data": {
      "text/html": [
       "<html>\n",
       "<head><meta charset=\"utf-8\" /></head>\n",
       "<body>\n",
       "    <div>\n",
       "            <script src=\"https://cdnjs.cloudflare.com/ajax/libs/mathjax/2.7.5/MathJax.js?config=TeX-AMS-MML_SVG\"></script><script type=\"text/javascript\">if (window.MathJax) {MathJax.Hub.Config({SVG: {font: \"STIX-Web\"}});}</script>\n",
       "                <script type=\"text/javascript\">window.PlotlyConfig = {MathJaxConfig: 'local'};</script>\n",
       "        <script src=\"https://cdn.plot.ly/plotly-latest.min.js\"></script>    \n",
       "            <div id=\"e0521a12-4c8f-4960-8600-654252d09056\" class=\"plotly-graph-div\" style=\"height:525px; width:100%;\"></div>\n",
       "            <script type=\"text/javascript\">\n",
       "                \n",
       "                    window.PLOTLYENV=window.PLOTLYENV || {};\n",
       "                    \n",
       "                if (document.getElementById(\"e0521a12-4c8f-4960-8600-654252d09056\")) {\n",
       "                    Plotly.newPlot(\n",
       "                        'e0521a12-4c8f-4960-8600-654252d09056',\n",
       "                        [{\"colorbar\": {\"title\": {\"text\": \"Objective Value\"}}, \"colorscale\": [[0, \"rgb(5,10,172)\"], [0.35, \"rgb(40,60,190)\"], [0.5, \"rgb(70,100,245)\"], [0.6, \"rgb(90,120,245)\"], [0.7, \"rgb(106,137,247)\"], [1, \"rgb(220,220,220)\"]], \"connectgaps\": true, \"contours\": {\"coloring\": \"heatmap\"}, \"hoverinfo\": \"none\", \"line\": {\"smoothing\": 1.3}, \"type\": \"contour\", \"x\": [0.8231548890894298, 0.8292339767508318, 0.842341937350733, 0.8516885880135042, 0.8623733521028454, 0.8630181476546867, 0.8878274412708861, 0.8968174047921466, 0.9244321631187241, 0.9508157299788702, 0.9568948176402722], \"y\": [85.95, 99, 101, 154, 201, 309, 312, 329, 354, 360, 373.05], \"z\": [[null, null, null, null, null, null, null, null, null, null, null], [null, null, null, null, null, 0.9515349333333333, null, null, null, null, null], [null, null, null, null, null, null, null, 0.951457777777778, null, null, null], [null, null, null, null, null, null, null, null, 0.950074113580247, null, null], [null, 0.9511099654320987, null, null, null, null, null, null, null, null, null], [null, null, 0.9513082074074074, null, null, null, null, null, null, null, null], [null, null, null, null, null, null, null, null, null, 0.9513638320987653, null], [null, null, null, 0.9513082074074074, null, null, null, null, null, null, null], [null, null, null, null, null, null, 0.9516998716049383, null, null, null, null], [null, null, null, null, 0.9512063604938271, null, null, null, null, null, null], [null, null, null, null, null, null, null, null, null, null, null]]}, {\"marker\": {\"color\": \"black\", \"line\": {\"color\": \"Grey\", \"width\": 0.5}}, \"mode\": \"markers\", \"showlegend\": false, \"type\": \"scatter\", \"x\": [0.842341937350733, 0.8516885880135042, 0.8878274412708861, 0.8630181476546867, 0.8623733521028454, 0.8292339767508318, 0.9508157299788702, 0.9244321631187241, 0.8968174047921466], \"y\": [309, 329, 354, 99, 360, 201, 312, 154, 101]}],\n",
       "                        {\"template\": {\"data\": {\"bar\": [{\"error_x\": {\"color\": \"#2a3f5f\"}, \"error_y\": {\"color\": \"#2a3f5f\"}, \"marker\": {\"line\": {\"color\": \"#E5ECF6\", \"width\": 0.5}}, \"type\": \"bar\"}], \"barpolar\": [{\"marker\": {\"line\": {\"color\": \"#E5ECF6\", \"width\": 0.5}}, \"type\": \"barpolar\"}], \"carpet\": [{\"aaxis\": {\"endlinecolor\": \"#2a3f5f\", \"gridcolor\": \"white\", \"linecolor\": \"white\", \"minorgridcolor\": \"white\", \"startlinecolor\": \"#2a3f5f\"}, \"baxis\": {\"endlinecolor\": \"#2a3f5f\", \"gridcolor\": \"white\", \"linecolor\": \"white\", \"minorgridcolor\": \"white\", \"startlinecolor\": \"#2a3f5f\"}, \"type\": \"carpet\"}], \"choropleth\": [{\"colorbar\": {\"outlinewidth\": 0, \"ticks\": \"\"}, \"type\": \"choropleth\"}], \"contour\": [{\"colorbar\": {\"outlinewidth\": 0, \"ticks\": \"\"}, \"colorscale\": [[0.0, \"#0d0887\"], [0.1111111111111111, \"#46039f\"], [0.2222222222222222, \"#7201a8\"], [0.3333333333333333, \"#9c179e\"], [0.4444444444444444, \"#bd3786\"], [0.5555555555555556, \"#d8576b\"], [0.6666666666666666, \"#ed7953\"], [0.7777777777777778, \"#fb9f3a\"], [0.8888888888888888, \"#fdca26\"], [1.0, \"#f0f921\"]], \"type\": \"contour\"}], \"contourcarpet\": [{\"colorbar\": {\"outlinewidth\": 0, \"ticks\": \"\"}, \"type\": \"contourcarpet\"}], \"heatmap\": [{\"colorbar\": {\"outlinewidth\": 0, \"ticks\": \"\"}, \"colorscale\": [[0.0, \"#0d0887\"], [0.1111111111111111, \"#46039f\"], [0.2222222222222222, \"#7201a8\"], [0.3333333333333333, \"#9c179e\"], [0.4444444444444444, \"#bd3786\"], [0.5555555555555556, \"#d8576b\"], [0.6666666666666666, \"#ed7953\"], [0.7777777777777778, \"#fb9f3a\"], [0.8888888888888888, \"#fdca26\"], [1.0, \"#f0f921\"]], \"type\": \"heatmap\"}], \"heatmapgl\": [{\"colorbar\": {\"outlinewidth\": 0, \"ticks\": \"\"}, \"colorscale\": [[0.0, \"#0d0887\"], [0.1111111111111111, \"#46039f\"], [0.2222222222222222, \"#7201a8\"], [0.3333333333333333, \"#9c179e\"], [0.4444444444444444, \"#bd3786\"], [0.5555555555555556, \"#d8576b\"], [0.6666666666666666, \"#ed7953\"], [0.7777777777777778, \"#fb9f3a\"], [0.8888888888888888, \"#fdca26\"], [1.0, \"#f0f921\"]], \"type\": \"heatmapgl\"}], \"histogram\": [{\"marker\": {\"colorbar\": {\"outlinewidth\": 0, \"ticks\": \"\"}}, \"type\": \"histogram\"}], \"histogram2d\": [{\"colorbar\": {\"outlinewidth\": 0, \"ticks\": \"\"}, \"colorscale\": [[0.0, \"#0d0887\"], [0.1111111111111111, \"#46039f\"], [0.2222222222222222, \"#7201a8\"], [0.3333333333333333, \"#9c179e\"], [0.4444444444444444, \"#bd3786\"], [0.5555555555555556, \"#d8576b\"], [0.6666666666666666, \"#ed7953\"], [0.7777777777777778, \"#fb9f3a\"], [0.8888888888888888, \"#fdca26\"], [1.0, \"#f0f921\"]], \"type\": \"histogram2d\"}], \"histogram2dcontour\": [{\"colorbar\": {\"outlinewidth\": 0, \"ticks\": \"\"}, \"colorscale\": [[0.0, \"#0d0887\"], [0.1111111111111111, \"#46039f\"], [0.2222222222222222, \"#7201a8\"], [0.3333333333333333, \"#9c179e\"], [0.4444444444444444, \"#bd3786\"], [0.5555555555555556, \"#d8576b\"], [0.6666666666666666, \"#ed7953\"], [0.7777777777777778, \"#fb9f3a\"], [0.8888888888888888, \"#fdca26\"], [1.0, \"#f0f921\"]], \"type\": \"histogram2dcontour\"}], \"mesh3d\": [{\"colorbar\": {\"outlinewidth\": 0, \"ticks\": \"\"}, \"type\": \"mesh3d\"}], \"parcoords\": [{\"line\": {\"colorbar\": {\"outlinewidth\": 0, \"ticks\": \"\"}}, \"type\": \"parcoords\"}], \"pie\": [{\"automargin\": true, \"type\": \"pie\"}], \"scatter\": [{\"marker\": {\"colorbar\": {\"outlinewidth\": 0, \"ticks\": \"\"}}, \"type\": \"scatter\"}], \"scatter3d\": [{\"line\": {\"colorbar\": {\"outlinewidth\": 0, \"ticks\": \"\"}}, \"marker\": {\"colorbar\": {\"outlinewidth\": 0, \"ticks\": \"\"}}, \"type\": \"scatter3d\"}], \"scattercarpet\": [{\"marker\": {\"colorbar\": {\"outlinewidth\": 0, \"ticks\": \"\"}}, \"type\": \"scattercarpet\"}], \"scattergeo\": [{\"marker\": {\"colorbar\": {\"outlinewidth\": 0, \"ticks\": \"\"}}, \"type\": \"scattergeo\"}], \"scattergl\": [{\"marker\": {\"colorbar\": {\"outlinewidth\": 0, \"ticks\": \"\"}}, \"type\": \"scattergl\"}], \"scattermapbox\": [{\"marker\": {\"colorbar\": {\"outlinewidth\": 0, \"ticks\": \"\"}}, \"type\": \"scattermapbox\"}], \"scatterpolar\": [{\"marker\": {\"colorbar\": {\"outlinewidth\": 0, \"ticks\": \"\"}}, \"type\": \"scatterpolar\"}], \"scatterpolargl\": [{\"marker\": {\"colorbar\": {\"outlinewidth\": 0, \"ticks\": \"\"}}, \"type\": \"scatterpolargl\"}], \"scatterternary\": [{\"marker\": {\"colorbar\": {\"outlinewidth\": 0, \"ticks\": \"\"}}, \"type\": \"scatterternary\"}], \"surface\": [{\"colorbar\": {\"outlinewidth\": 0, \"ticks\": \"\"}, \"colorscale\": [[0.0, \"#0d0887\"], [0.1111111111111111, \"#46039f\"], [0.2222222222222222, \"#7201a8\"], [0.3333333333333333, \"#9c179e\"], [0.4444444444444444, \"#bd3786\"], [0.5555555555555556, \"#d8576b\"], [0.6666666666666666, \"#ed7953\"], [0.7777777777777778, \"#fb9f3a\"], [0.8888888888888888, \"#fdca26\"], [1.0, \"#f0f921\"]], \"type\": \"surface\"}], \"table\": [{\"cells\": {\"fill\": {\"color\": \"#EBF0F8\"}, \"line\": {\"color\": \"white\"}}, \"header\": {\"fill\": {\"color\": \"#C8D4E3\"}, \"line\": {\"color\": \"white\"}}, \"type\": \"table\"}]}, \"layout\": {\"annotationdefaults\": {\"arrowcolor\": \"#2a3f5f\", \"arrowhead\": 0, \"arrowwidth\": 1}, \"coloraxis\": {\"colorbar\": {\"outlinewidth\": 0, \"ticks\": \"\"}}, \"colorscale\": {\"diverging\": [[0, \"#8e0152\"], [0.1, \"#c51b7d\"], [0.2, \"#de77ae\"], [0.3, \"#f1b6da\"], [0.4, \"#fde0ef\"], [0.5, \"#f7f7f7\"], [0.6, \"#e6f5d0\"], [0.7, \"#b8e186\"], [0.8, \"#7fbc41\"], [0.9, \"#4d9221\"], [1, \"#276419\"]], \"sequential\": [[0.0, \"#0d0887\"], [0.1111111111111111, \"#46039f\"], [0.2222222222222222, \"#7201a8\"], [0.3333333333333333, \"#9c179e\"], [0.4444444444444444, \"#bd3786\"], [0.5555555555555556, \"#d8576b\"], [0.6666666666666666, \"#ed7953\"], [0.7777777777777778, \"#fb9f3a\"], [0.8888888888888888, \"#fdca26\"], [1.0, \"#f0f921\"]], \"sequentialminus\": [[0.0, \"#0d0887\"], [0.1111111111111111, \"#46039f\"], [0.2222222222222222, \"#7201a8\"], [0.3333333333333333, \"#9c179e\"], [0.4444444444444444, \"#bd3786\"], [0.5555555555555556, \"#d8576b\"], [0.6666666666666666, \"#ed7953\"], [0.7777777777777778, \"#fb9f3a\"], [0.8888888888888888, \"#fdca26\"], [1.0, \"#f0f921\"]]}, \"colorway\": [\"#636efa\", \"#EF553B\", \"#00cc96\", \"#ab63fa\", \"#FFA15A\", \"#19d3f3\", \"#FF6692\", \"#B6E880\", \"#FF97FF\", \"#FECB52\"], \"font\": {\"color\": \"#2a3f5f\"}, \"geo\": {\"bgcolor\": \"white\", \"lakecolor\": \"white\", \"landcolor\": \"#E5ECF6\", \"showlakes\": true, \"showland\": true, \"subunitcolor\": \"white\"}, \"hoverlabel\": {\"align\": \"left\"}, \"hovermode\": \"closest\", \"mapbox\": {\"style\": \"light\"}, \"paper_bgcolor\": \"white\", \"plot_bgcolor\": \"#E5ECF6\", \"polar\": {\"angularaxis\": {\"gridcolor\": \"white\", \"linecolor\": \"white\", \"ticks\": \"\"}, \"bgcolor\": \"#E5ECF6\", \"radialaxis\": {\"gridcolor\": \"white\", \"linecolor\": \"white\", \"ticks\": \"\"}}, \"scene\": {\"xaxis\": {\"backgroundcolor\": \"#E5ECF6\", \"gridcolor\": \"white\", \"gridwidth\": 2, \"linecolor\": \"white\", \"showbackground\": true, \"ticks\": \"\", \"zerolinecolor\": \"white\"}, \"yaxis\": {\"backgroundcolor\": \"#E5ECF6\", \"gridcolor\": \"white\", \"gridwidth\": 2, \"linecolor\": \"white\", \"showbackground\": true, \"ticks\": \"\", \"zerolinecolor\": \"white\"}, \"zaxis\": {\"backgroundcolor\": \"#E5ECF6\", \"gridcolor\": \"white\", \"gridwidth\": 2, \"linecolor\": \"white\", \"showbackground\": true, \"ticks\": \"\", \"zerolinecolor\": \"white\"}}, \"shapedefaults\": {\"line\": {\"color\": \"#2a3f5f\"}}, \"ternary\": {\"aaxis\": {\"gridcolor\": \"white\", \"linecolor\": \"white\", \"ticks\": \"\"}, \"baxis\": {\"gridcolor\": \"white\", \"linecolor\": \"white\", \"ticks\": \"\"}, \"bgcolor\": \"#E5ECF6\", \"caxis\": {\"gridcolor\": \"white\", \"linecolor\": \"white\", \"ticks\": \"\"}}, \"title\": {\"x\": 0.05}, \"xaxis\": {\"automargin\": true, \"gridcolor\": \"white\", \"linecolor\": \"white\", \"ticks\": \"\", \"title\": {\"standoff\": 15}, \"zerolinecolor\": \"white\", \"zerolinewidth\": 2}, \"yaxis\": {\"automargin\": true, \"gridcolor\": \"white\", \"linecolor\": \"white\", \"ticks\": \"\", \"title\": {\"standoff\": 15}, \"zerolinecolor\": \"white\", \"zerolinewidth\": 2}}}, \"title\": {\"text\": \"Contour Plot\"}, \"xaxis\": {\"range\": [0.8231548890894298, 0.9568948176402722], \"title\": {\"text\": \"lr__C\"}}, \"yaxis\": {\"range\": [85.95, 373.05], \"title\": {\"text\": \"lr__max_iter\"}}},\n",
       "                        {\"responsive\": true}\n",
       "                    ).then(function(){\n",
       "                            \n",
       "var gd = document.getElementById('e0521a12-4c8f-4960-8600-654252d09056');\n",
       "var x = new MutationObserver(function (mutations, observer) {{\n",
       "        var display = window.getComputedStyle(gd).display;\n",
       "        if (!display || display === 'none') {{\n",
       "            console.log([gd, 'removed!']);\n",
       "            Plotly.purge(gd);\n",
       "            observer.disconnect();\n",
       "        }}\n",
       "}});\n",
       "\n",
       "// Listen for the removal of the full notebook cells\n",
       "var notebookContainer = gd.closest('#notebook-container');\n",
       "if (notebookContainer) {{\n",
       "    x.observe(notebookContainer, {childList: true});\n",
       "}}\n",
       "\n",
       "// Listen for the clearing of the current output cell\n",
       "var outputEl = gd.closest('.output');\n",
       "if (outputEl) {{\n",
       "    x.observe(outputEl, {childList: true});\n",
       "}}\n",
       "\n",
       "                        })\n",
       "                };\n",
       "                \n",
       "            </script>\n",
       "        </div>\n",
       "</body>\n",
       "</html>"
      ]
     },
     "metadata": {
      "tags": []
     },
     "output_type": "display_data"
    }
   ],
   "source": [
    "optuna.visualization.plot_contour(study, params=['lr__C',\n",
    "                                                 'lr__max_iter'])"
   ]
  },
  {
   "cell_type": "code",
   "execution_count": null,
   "metadata": {
    "colab": {
     "base_uri": "https://localhost:8080/"
    },
    "id": "YUvkZtM6O__T",
    "outputId": "31ae1471-4e70-4f7a-fe38-1b5c0ef5b4d0"
   },
   "outputs": [
    {
     "name": "stdout",
     "output_type": "stream",
     "text": [
      "{'tfidf__max_ngrams': 3, 'tfidf__max_df': 0.8575339863886443, 'tfidf__min_df': 8, 'lr__max_iter': 354, 'lr__C': 0.8878274412708861}\n"
     ]
    }
   ],
   "source": [
    "print(study.best_params)"
   ]
  },
  {
   "cell_type": "code",
   "execution_count": null,
   "metadata": {
    "colab": {
     "base_uri": "https://localhost:8080/"
    },
    "id": "zc7klxdDshr9",
    "outputId": "326e5fb9-f003-424e-c23c-61c6a1d6b9ae"
   },
   "outputs": [
    {
     "name": "stderr",
     "output_type": "stream",
     "text": [
      "[Parallel(n_jobs=-1)]: Using backend LokyBackend with 2 concurrent workers.\n",
      "[Parallel(n_jobs=-1)]: Done   5 out of   5 | elapsed:  1.8min finished\n"
     ]
    }
   ],
   "source": [
    "params = {\n",
    "    'tfidf__ngram_range': (1, study.best_params['tfidf__max_ngrams']),\n",
    "    'tfidf__max_df': study.best_params['tfidf__max_df'],\n",
    "    'tfidf__min_df': study.best_params['tfidf__min_df'],\n",
    "    'lr__max_iter': study.best_params['lr__max_iter'],\n",
    "    'lr__C': study.best_params['lr__C']\n",
    "}\n",
    "opt_lr.set_params(**params)\n",
    "\n",
    "scores = cross_val_score(opt_lr, \n",
    "                         x_train, \n",
    "                         y_train, \n",
    "                         cv=5, \n",
    "                         scoring='roc_auc', \n",
    "                         n_jobs=-1, \n",
    "                         verbose= 1)"
   ]
  },
  {
   "cell_type": "code",
   "execution_count": null,
   "metadata": {
    "colab": {
     "base_uri": "https://localhost:8080/"
    },
    "id": "y4SWjIhTs0jt",
    "outputId": "f85ba974-2649-4083-9fbc-398fdb34edec"
   },
   "outputs": [
    {
     "name": "stdout",
     "output_type": "stream",
     "text": [
      "[0.95219358 0.9529037  0.95002311 0.95483536 0.94881699]\n",
      "ROC AUC score = 0.9518 +/- 0.0021\n"
     ]
    }
   ],
   "source": [
    "print(scores)\n",
    "print('ROC AUC score = %.4f +/- %.4f'%(np.array(scores).mean(), np.array(scores).std()))"
   ]
  },
  {
   "cell_type": "code",
   "execution_count": null,
   "metadata": {
    "colab": {
     "base_uri": "https://localhost:8080/"
    },
    "id": "JU52YdBsw2Fn",
    "outputId": "719405e0-944c-4eab-d729-37837dd0c356"
   },
   "outputs": [
    {
     "data": {
      "text/plain": [
       "Pipeline(memory=None,\n",
       "         steps=[('tfidf',\n",
       "                 TfidfVectorizer(analyzer='word', binary=False,\n",
       "                                 decode_error='strict',\n",
       "                                 dtype=<class 'numpy.float64'>,\n",
       "                                 encoding='utf-8', input='content',\n",
       "                                 lowercase=True, max_df=0.8575339863886443,\n",
       "                                 max_features=None, min_df=8,\n",
       "                                 ngram_range=(1, 3), norm='l2',\n",
       "                                 preprocessor=None, smooth_idf=True,\n",
       "                                 stop_words='english', strip_accents=None,\n",
       "                                 sublinear_tf=F...\n",
       "                                 token_pattern='(?u)\\\\b\\\\w\\\\w+\\\\b',\n",
       "                                 tokenizer=None, use_idf=True,\n",
       "                                 vocabulary=None)),\n",
       "                ('lr',\n",
       "                 LogisticRegression(C=0.8878274412708861, class_weight=None,\n",
       "                                    dual=False, fit_intercept=True,\n",
       "                                    intercept_scaling=1, l1_ratio=None,\n",
       "                                    max_iter=354, multi_class='auto',\n",
       "                                    n_jobs=None, penalty='l2', random_state=42,\n",
       "                                    solver='lbfgs', tol=0.0001, verbose=0,\n",
       "                                    warm_start=False))],\n",
       "         verbose=False)"
      ]
     },
     "execution_count": 41,
     "metadata": {
      "tags": []
     },
     "output_type": "execute_result"
    }
   ],
   "source": [
    "opt_lr.fit(x_train, y_train)"
   ]
  },
  {
   "cell_type": "code",
   "execution_count": null,
   "metadata": {
    "colab": {
     "base_uri": "https://localhost:8080/",
     "height": 282
    },
    "id": "3w6jptYlalnr",
    "outputId": "8ea880b3-3c1a-4707-f5a8-7cd2b9fe7c0b"
   },
   "outputs": [
    {
     "data": {
      "text/plain": [
       "<matplotlib.legend.Legend at 0x7fbb514dd438>"
      ]
     },
     "execution_count": 42,
     "metadata": {
      "tags": []
     },
     "output_type": "execute_result"
    },
    {
     "data": {
      "image/png": "[encoded data removed]",
      "text/plain": [
       "<Figure size 432x288 with 1 Axes>"
      ]
     },
     "metadata": {
      "tags": []
     },
     "output_type": "display_data"
    }
   ],
   "source": [
    "threshold_acc = {}\n",
    "threshold_recall = {}\n",
    "threshold_precision = {}\n",
    "for threshold in range(10, 91, 1):\n",
    "    y_pred = predict_w_threshold(opt_lr, x_train_thresh, threshold/100)\n",
    "\n",
    "    acc = accuracy_score(y_train_thresh, y_pred)\n",
    "    recall = recall_score(y_train_thresh, y_pred)\n",
    "    precision = precision_score(y_train_thresh, y_pred)\n",
    "    \n",
    "    threshold_acc[threshold] = acc\n",
    "    threshold_recall[threshold] = recall\n",
    "    threshold_precision[threshold] = precision\n",
    "\n",
    "ax = sns.lineplot(x=threshold_acc.keys(), y=threshold_acc.values())\n",
    "ax = sns.lineplot(x=threshold_recall.keys(), y=threshold_recall.values(), ax=ax)\n",
    "ax = sns.lineplot(x=threshold_precision.keys(), y=threshold_precision.values(), ax=ax)\n",
    "\n",
    "ax.lines[1].set_linestyle(\"--\")\n",
    "ax.lines[2].set_linestyle(\"--\")\n",
    "\n",
    "plt.legend(labels=['Accuracy', 'Recall', 'Precision'])"
   ]
  },
  {
   "cell_type": "markdown",
   "metadata": {
    "id": "G5i2BcuELYXK"
   },
   "source": [
    "* Threshold = 0.51"
   ]
  },
  {
   "cell_type": "code",
   "execution_count": null,
   "metadata": {
    "colab": {
     "base_uri": "https://localhost:8080/"
    },
    "id": "uw6m-ZvUIKKg",
    "outputId": "a80710a0-d9a6-455b-d89f-635f0cd25a85"
   },
   "outputs": [
    {
     "data": {
      "text/plain": [
       "Pipeline(memory=None,\n",
       "         steps=[('tfidf',\n",
       "                 TfidfVectorizer(analyzer='word', binary=False,\n",
       "                                 decode_error='strict',\n",
       "                                 dtype=<class 'numpy.float64'>,\n",
       "                                 encoding='utf-8', input='content',\n",
       "                                 lowercase=True, max_df=0.8575339863886443,\n",
       "                                 max_features=None, min_df=8,\n",
       "                                 ngram_range=(1, 3), norm='l2',\n",
       "                                 preprocessor=None, smooth_idf=True,\n",
       "                                 stop_words='english', strip_accents=None,\n",
       "                                 sublinear_tf=F...\n",
       "                                 token_pattern='(?u)\\\\b\\\\w\\\\w+\\\\b',\n",
       "                                 tokenizer=None, use_idf=True,\n",
       "                                 vocabulary=None)),\n",
       "                ('lr',\n",
       "                 LogisticRegression(C=0.8878274412708861, class_weight=None,\n",
       "                                    dual=False, fit_intercept=True,\n",
       "                                    intercept_scaling=1, l1_ratio=None,\n",
       "                                    max_iter=354, multi_class='auto',\n",
       "                                    n_jobs=None, penalty='l2', random_state=42,\n",
       "                                    solver='lbfgs', tol=0.0001, verbose=0,\n",
       "                                    warm_start=False))],\n",
       "         verbose=False)"
      ]
     },
     "execution_count": 48,
     "metadata": {
      "tags": []
     },
     "output_type": "execute_result"
    }
   ],
   "source": [
    "opt_lr.fit(x, y)"
   ]
  },
  {
   "cell_type": "markdown",
   "metadata": {
    "id": "M56szB8UqtU9"
   },
   "source": [
    "#### Model Evaluation"
   ]
  },
  {
   "cell_type": "code",
   "execution_count": null,
   "metadata": {
    "colab": {
     "base_uri": "https://localhost:8080/",
     "height": 299
    },
    "id": "gJb-0TTaJ-Gi",
    "outputId": "ba6bce5f-b25e-4f2a-ed1e-8e354605978a"
   },
   "outputs": [
    {
     "name": "stdout",
     "output_type": "stream",
     "text": [
      "Accuracy = 0.8803\n"
     ]
    },
    {
     "data": {
      "text/plain": [
       "<matplotlib.axes._subplots.AxesSubplot at 0x7fbbecf8a438>"
      ]
     },
     "execution_count": 49,
     "metadata": {
      "tags": []
     },
     "output_type": "execute_result"
    },
    {
     "data": {
      "image/png": "[encoded data removed]",
      "text/plain": [
       "<Figure size 432x288 with 2 Axes>"
      ]
     },
     "metadata": {
      "tags": []
     },
     "output_type": "display_data"
    }
   ],
   "source": [
    "y_pred = predict_w_threshold(opt_lr, x_test, 0.51)\n",
    "\n",
    "print('Accuracy = %.4f'%(accuracy_score(y_test, y_pred)))\n",
    "\n",
    "cm = confusion_matrix(y_test, y_pred, normalize='true')\n",
    "sns.heatmap(cm, annot=True, cmap='Greens')"
   ]
  },
  {
   "cell_type": "code",
   "execution_count": null,
   "metadata": {
    "colab": {
     "base_uri": "https://localhost:8080/"
    },
    "id": "OLVg8cmSlSuk",
    "outputId": "397692b7-3f62-4a84-b8bf-d7e901d87eee"
   },
   "outputs": [
    {
     "name": "stdout",
     "output_type": "stream",
     "text": [
      "48357 features\n"
     ]
    }
   ],
   "source": [
    "feature_names = opt_lr['tfidf'].get_feature_names()\n",
    "print('%i features'%(len(feature_names)))"
   ]
  },
  {
   "cell_type": "code",
   "execution_count": null,
   "metadata": {
    "colab": {
     "base_uri": "https://localhost:8080/",
     "height": 367
    },
    "id": "evOugvihhXOl",
    "outputId": "d6bde5c7-d0b0-4a30-d689-aa67f1c87cb8"
   },
   "outputs": [
    {
     "data": {
      "text/plain": [
       "Text(0.5, 1.0, 'Coefficients of the features')"
      ]
     },
     "execution_count": 51,
     "metadata": {
      "tags": []
     },
     "output_type": "execute_result"
    },
    {
     "data": {
      "image/png": "[encoded data removed]",
      "text/plain": [
       "<Figure size 720x360 with 1 Axes>"
      ]
     },
     "metadata": {
      "tags": []
     },
     "output_type": "display_data"
    }
   ],
   "source": [
    "importances_df = pd.DataFrame()\n",
    "\n",
    "importances_df['feat'] = feature_names\n",
    "importances_df['coef'] = opt_lr['lr'].coef_[0]\n",
    "\n",
    "importances_df = importances_df.sort_values('coef', ascending=False)\n",
    "top_feats = pd.concat([importances_df.head(10), importances_df.tail(10)])\n",
    "\n",
    "plt.figure(figsize=(10, 5))\n",
    "\n",
    "sns.barplot(data=top_feats, x='coef', y='feat')\n",
    "plt.title('Coefficients of the features')"
   ]
  },
  {
   "cell_type": "markdown",
   "metadata": {
    "id": "P0QXS5IwP9l6"
   },
   "source": [
    "### LGBM"
   ]
  },
  {
   "cell_type": "markdown",
   "metadata": {
    "id": "ckWFumFcP9mC"
   },
   "source": [
    "##### Baseline"
   ]
  },
  {
   "cell_type": "code",
   "execution_count": 10,
   "metadata": {
    "id": "yJTgvfCBP9mD"
   },
   "outputs": [],
   "source": [
    "baseline_lgb = Pipeline([('tfidf', TfidfVectorizer(stop_words='english')),   \n",
    "                         ('lgb', LGBMClassifier(random_state=42, n_jobs=-1))])"
   ]
  },
  {
   "cell_type": "code",
   "execution_count": 11,
   "metadata": {
    "colab": {
     "base_uri": "https://localhost:8080/"
    },
    "id": "5HojY9whP9mE",
    "outputId": "27058f12-29f2-4bef-b6e6-0af0d0de8fe2"
   },
   "outputs": [
    {
     "name": "stderr",
     "output_type": "stream",
     "text": [
      "[Parallel(n_jobs=-1)]: Using backend LokyBackend with 2 concurrent workers.\n",
      "[Parallel(n_jobs=-1)]: Done   5 out of   5 | elapsed:  3.4min finished\n"
     ]
    }
   ],
   "source": [
    "scores = cross_val_score(baseline_lgb, \n",
    "                         x_train, \n",
    "                         y_train, \n",
    "                         cv=5, \n",
    "                         scoring='roc_auc', \n",
    "                         n_jobs=-1, \n",
    "                         verbose= 1)"
   ]
  },
  {
   "cell_type": "code",
   "execution_count": 12,
   "metadata": {
    "colab": {
     "base_uri": "https://localhost:8080/"
    },
    "id": "pWDC-IonP9mG",
    "outputId": "7e38df4d-51b0-457b-be6b-1586fbfe71a3"
   },
   "outputs": [
    {
     "name": "stdout",
     "output_type": "stream",
     "text": [
      "[0.92880938 0.92713185 0.93990933 0.92946884 0.92609679]\n",
      "ROC AUC score = 0.9303 +/- 0.0050\n"
     ]
    }
   ],
   "source": [
    "print(scores)\n",
    "print('ROC AUC score = %.4f +/- %.4f'%(np.array(scores).mean(), np.array(scores).std()))"
   ]
  },
  {
   "cell_type": "markdown",
   "metadata": {
    "id": "WSaCsaUcP9mH"
   },
   "source": [
    "#### Hyperparameter Optimization"
   ]
  },
  {
   "cell_type": "code",
   "execution_count": 13,
   "metadata": {
    "id": "LODUoCHtP9mH"
   },
   "outputs": [],
   "source": [
    "opt_lgb = Pipeline([('tfidf', TfidfVectorizer(stop_words='english')),   \n",
    "                    ('lgb', LGBMClassifier(random_state=42, n_jobs=-1))])"
   ]
  },
  {
   "cell_type": "code",
   "execution_count": 18,
   "metadata": {
    "id": "r-rZPh95P9mH"
   },
   "outputs": [],
   "source": [
    "def objective(trial):\n",
    "  tfidf__max_ngrams = trial.suggest_int('tfidf__max_ngrams', 1, 3)\n",
    "  tfidf__max_df = trial.suggest_uniform('tfidf__max_df', 0.60, 0.95)\n",
    "  tfidf__min_df = trial.suggest_int('tfidf__min_df', 1, 12)\n",
    "\n",
    "  lgb__n_estimators = trial.suggest_int('lgb__n_estimators', 70, 500)\n",
    "  lgb__max_depth = trial.suggest_int('lgb__max_depth', 5, 20)\n",
    "  lgb__num_leaves = trial.suggest_int('lgb__num_leaves', 25, 40)\n",
    "  lgb__learning_rate = trial.suggest_loguniform('lgb__learning_rate', 1e-4, 1e-1)\n",
    "  lgb__colsample_bytree = trial.suggest_uniform('lgb__colsample_bytree', 0.85, 1.0)\n",
    "  lgb__min_child_samples = trial.suggest_int('lgb__min_child_samples', 10, 50)\n",
    "  lgb__subsample_for_bin= trial.suggest_int('lgb__subsample_for_bin', 1000, 8000)\n",
    "\n",
    "  params = {\n",
    "      'tfidf__ngram_range': (1, tfidf__max_ngrams),\n",
    "      'tfidf__max_df': tfidf__max_df,\n",
    "      'tfidf__min_df': tfidf__min_df,\n",
    "      'lgb__n_estimators': lgb__n_estimators,\n",
    "      'lgb__num_leaves': lgb__num_leaves,\n",
    "      'lgb__learning_rate': lgb__learning_rate,\n",
    "      'lgb__colsample_bytree': lgb__colsample_bytree,\n",
    "      'lgb__min_child_samples': lgb__min_child_samples,\n",
    "      'lgb__subsample_for_bin': lgb__subsample_for_bin,\n",
    "  }\n",
    "  \n",
    "  opt_lgb.set_params(**params)\n",
    "\n",
    "  return np.mean(cross_val_score(opt_lgb, \n",
    "                                 x_train, \n",
    "                                 y_train, \n",
    "                                 cv=5, \n",
    "                                 scoring='roc_auc', \n",
    "                                 n_jobs=-1))"
   ]
  },
  {
   "cell_type": "code",
   "execution_count": 20,
   "metadata": {
    "colab": {
     "base_uri": "https://localhost:8080/"
    },
    "id": "nJUelwySP9mI",
    "outputId": "ae4c01cf-ca6b-4c54-ca68-1a5f99863787"
   },
   "outputs": [
    {
     "name": "stderr",
     "output_type": "stream",
     "text": [
      "\u001b[32m[I 2020-12-17 20:09:09,465]\u001b[0m A new study created in memory with name: no-name-fd7dd865-0339-427a-aa55-f7fea75a9372\u001b[0m\n",
      "\u001b[32m[I 2020-12-17 20:21:04,465]\u001b[0m Trial 1 finished with value: 0.8316842864197532 and parameters: {'tfidf__max_ngrams': 2, 'tfidf__max_df': 0.8995366692557372, 'tfidf__min_df': 12, 'lgb__n_estimators': 454, 'lgb__max_depth': 20, 'lgb__num_leaves': 33, 'lgb__learning_rate': 0.0002597345285413156, 'lgb__colsample_bytree': 0.8950800734433236, 'lgb__min_child_samples': 16, 'lgb__subsample_for_bin': 1605}. Best is trial 1 with value: 0.8316842864197532.\u001b[0m\n",
      "\u001b[32m[I 2020-12-17 20:21:07,332]\u001b[0m Trial 0 finished with value: 0.8316842864197532 and parameters: {'tfidf__max_ngrams': 3, 'tfidf__max_df': 0.7929984878168347, 'tfidf__min_df': 4, 'lgb__n_estimators': 127, 'lgb__max_depth': 12, 'lgb__num_leaves': 35, 'lgb__learning_rate': 0.0007406494503974075, 'lgb__colsample_bytree': 0.8910711838212627, 'lgb__min_child_samples': 50, 'lgb__subsample_for_bin': 7027}. Best is trial 1 with value: 0.8316842864197532.\u001b[0m\n",
      "\u001b[32m[I 2020-12-17 20:31:04,581]\u001b[0m Trial 3 finished with value: 0.9388151703703702 and parameters: {'tfidf__max_ngrams': 2, 'tfidf__max_df': 0.8859482852144174, 'tfidf__min_df': 4, 'lgb__n_estimators': 165, 'lgb__max_depth': 19, 'lgb__num_leaves': 35, 'lgb__learning_rate': 0.08679580315283816, 'lgb__colsample_bytree': 0.9153662263804996, 'lgb__min_child_samples': 23, 'lgb__subsample_for_bin': 3888}. Best is trial 3 with value: 0.9388151703703702.\u001b[0m\n",
      "\u001b[32m[I 2020-12-17 20:39:51,857]\u001b[0m Trial 2 finished with value: 0.9100769777777777 and parameters: {'tfidf__max_ngrams': 3, 'tfidf__max_df': 0.6146123876027507, 'tfidf__min_df': 11, 'lgb__n_estimators': 481, 'lgb__max_depth': 8, 'lgb__num_leaves': 31, 'lgb__learning_rate': 0.0075282456474146525, 'lgb__colsample_bytree': 0.9458928787606561, 'lgb__min_child_samples': 10, 'lgb__subsample_for_bin': 3226}. Best is trial 3 with value: 0.9388151703703702.\u001b[0m\n",
      "\u001b[32m[I 2020-12-17 20:41:47,470]\u001b[0m Trial 4 finished with value: 0.8602979753086422 and parameters: {'tfidf__max_ngrams': 2, 'tfidf__max_df': 0.8439973999880905, 'tfidf__min_df': 8, 'lgb__n_estimators': 308, 'lgb__max_depth': 8, 'lgb__num_leaves': 27, 'lgb__learning_rate': 0.004517778577878748, 'lgb__colsample_bytree': 0.9410290013520315, 'lgb__min_child_samples': 32, 'lgb__subsample_for_bin': 6436}. Best is trial 3 with value: 0.9388151703703702.\u001b[0m\n",
      "\u001b[32m[I 2020-12-17 20:53:28,279]\u001b[0m Trial 5 finished with value: 0.9175990913580246 and parameters: {'tfidf__max_ngrams': 2, 'tfidf__max_df': 0.6594234747522889, 'tfidf__min_df': 2, 'lgb__n_estimators': 137, 'lgb__max_depth': 17, 'lgb__num_leaves': 28, 'lgb__learning_rate': 0.03503334413068732, 'lgb__colsample_bytree': 0.981560184922821, 'lgb__min_child_samples': 24, 'lgb__subsample_for_bin': 6361}. Best is trial 3 with value: 0.9388151703703702.\u001b[0m\n",
      "\u001b[32m[I 2020-12-17 20:57:02,310]\u001b[0m Trial 7 finished with value: 0.8299704691358023 and parameters: {'tfidf__max_ngrams': 1, 'tfidf__max_df': 0.6390639273738513, 'tfidf__min_df': 7, 'lgb__n_estimators': 92, 'lgb__max_depth': 13, 'lgb__num_leaves': 26, 'lgb__learning_rate': 0.00014137736945318586, 'lgb__colsample_bytree': 0.860871564518819, 'lgb__min_child_samples': 21, 'lgb__subsample_for_bin': 6893}. Best is trial 3 with value: 0.9388151703703702.\u001b[0m\n",
      "\u001b[32m[I 2020-12-17 21:07:38,068]\u001b[0m Trial 6 finished with value: 0.9450576987654321 and parameters: {'tfidf__max_ngrams': 3, 'tfidf__max_df': 0.776903509156797, 'tfidf__min_df': 7, 'lgb__n_estimators': 495, 'lgb__max_depth': 19, 'lgb__num_leaves': 35, 'lgb__learning_rate': 0.07513983875568599, 'lgb__colsample_bytree': 0.9321140111641218, 'lgb__min_child_samples': 10, 'lgb__subsample_for_bin': 3860}. Best is trial 6 with value: 0.9450576987654321.\u001b[0m\n",
      "\u001b[32m[I 2020-12-17 21:08:16,595]\u001b[0m Trial 8 finished with value: 0.903901787654321 and parameters: {'tfidf__max_ngrams': 2, 'tfidf__max_df': 0.7099174558388057, 'tfidf__min_df': 2, 'lgb__n_estimators': 283, 'lgb__max_depth': 15, 'lgb__num_leaves': 34, 'lgb__learning_rate': 0.013229323840592734, 'lgb__colsample_bytree': 0.9759908128681999, 'lgb__min_child_samples': 29, 'lgb__subsample_for_bin': 7915}. Best is trial 6 with value: 0.9450576987654321.\u001b[0m\n"
     ]
    }
   ],
   "source": [
    "study = optuna.create_study(direction='maximize')\n",
    "study.optimize(objective, timeout=3000, n_jobs=-1)"
   ]
  },
  {
   "cell_type": "code",
   "execution_count": 21,
   "metadata": {
    "colab": {
     "base_uri": "https://localhost:8080/",
     "height": 542
    },
    "id": "aJ817ljdP9mJ",
    "outputId": "e2d2659b-83a1-4c12-9228-2742edf8b737"
   },
   "outputs": [
    {
     "data": {
      "text/html": [
       "<html>\n",
       "<head><meta charset=\"utf-8\" /></head>\n",
       "<body>\n",
       "    <div>\n",
       "            <script src=\"https://cdnjs.cloudflare.com/ajax/libs/mathjax/2.7.5/MathJax.js?config=TeX-AMS-MML_SVG\"></script><script type=\"text/javascript\">if (window.MathJax) {MathJax.Hub.Config({SVG: {font: \"STIX-Web\"}});}</script>\n",
       "                <script type=\"text/javascript\">window.PlotlyConfig = {MathJaxConfig: 'local'};</script>\n",
       "        <script src=\"https://cdn.plot.ly/plotly-latest.min.js\"></script>    \n",
       "            <div id=\"ceb9dce3-9835-40e8-ab86-a81e724e6c6f\" class=\"plotly-graph-div\" style=\"height:525px; width:100%;\"></div>\n",
       "            <script type=\"text/javascript\">\n",
       "                \n",
       "                    window.PLOTLYENV=window.PLOTLYENV || {};\n",
       "                    \n",
       "                if (document.getElementById(\"ceb9dce3-9835-40e8-ab86-a81e724e6c6f\")) {\n",
       "                    Plotly.newPlot(\n",
       "                        'ceb9dce3-9835-40e8-ab86-a81e724e6c6f',\n",
       "                        [{\"type\": \"scatter\", \"xaxis\": \"x\", \"yaxis\": \"y\"}, {\"colorbar\": {\"title\": {\"text\": \"Objective Value\"}}, \"colorscale\": [[0, \"rgb(5,10,172)\"], [0.35, \"rgb(40,60,190)\"], [0.5, \"rgb(70,100,245)\"], [0.6, \"rgb(90,120,245)\"], [0.7, \"rgb(106,137,247)\"], [1, \"rgb(220,220,220)\"]], \"connectgaps\": true, \"contours\": {\"coloring\": \"heatmap\"}, \"hoverinfo\": \"none\", \"line\": {\"smoothing\": 1.3}, \"showscale\": true, \"type\": \"contour\", \"x\": [0.6003661735201014, 0.6146123876027507, 0.6390639273738513, 0.6594234747522889, 0.7099174558388057, 0.776903509156797, 0.7929984878168347, 0.8439973999880905, 0.8859482852144174, 0.8995366692557372, 0.9137828833383865], \"xaxis\": \"x4\", \"y\": [0.9, 1, 2, 3, 3.1], \"yaxis\": \"y4\", \"z\": [[null, null, null, null, null, null, null, null, null, null, null], [null, null, 0.8299704691358023, null, null, null, null, null, null, null, null], [null, null, null, 0.9175990913580246, 0.903901787654321, null, null, 0.8602979753086422, 0.9388151703703702, 0.8316842864197532, null], [null, 0.9100769777777777, null, null, null, 0.9450576987654321, 0.8316842864197532, null, null, null, null], [null, null, null, null, null, null, null, null, null, null, null]]}, {\"marker\": {\"color\": \"black\", \"line\": {\"color\": \"Grey\", \"width\": 0.5}}, \"mode\": \"markers\", \"showlegend\": false, \"type\": \"scatter\", \"x\": [0.7929984878168347, 0.8995366692557372, 0.6146123876027507, 0.8859482852144174, 0.8439973999880905, 0.6594234747522889, 0.776903509156797, 0.6390639273738513, 0.7099174558388057], \"xaxis\": \"x4\", \"y\": [3, 2, 3, 2, 2, 2, 3, 1, 2], \"yaxis\": \"y4\"}, {\"colorbar\": {\"title\": {\"text\": \"Objective Value\"}}, \"colorscale\": [[0, \"rgb(5,10,172)\"], [0.35, \"rgb(40,60,190)\"], [0.5, \"rgb(70,100,245)\"], [0.6, \"rgb(90,120,245)\"], [0.7, \"rgb(106,137,247)\"], [1, \"rgb(220,220,220)\"]], \"connectgaps\": true, \"contours\": {\"coloring\": \"heatmap\"}, \"hoverinfo\": \"none\", \"line\": {\"smoothing\": 1.3}, \"showscale\": false, \"type\": \"contour\", \"x\": [0.6003661735201014, 0.6146123876027507, 0.6390639273738513, 0.6594234747522889, 0.7099174558388057, 0.776903509156797, 0.7929984878168347, 0.8439973999880905, 0.8859482852144174, 0.8995366692557372, 0.9137828833383865], \"xaxis\": \"x7\", \"y\": [1.5, 2, 4, 7, 8, 11, 12, 12.5], \"yaxis\": \"y7\", \"z\": [[null, null, null, null, null, null, null, null, null, null, null], [null, null, null, 0.9175990913580246, 0.903901787654321, null, null, null, null, null, null], [null, null, null, null, null, null, 0.8316842864197532, null, 0.9388151703703702, null, null], [null, null, 0.8299704691358023, null, null, 0.9450576987654321, null, null, null, null, null], [null, null, null, null, null, null, null, 0.8602979753086422, null, null, null], [null, 0.9100769777777777, null, null, null, null, null, null, null, null, null], [null, null, null, null, null, null, null, null, null, 0.8316842864197532, null], [null, null, null, null, null, null, null, null, null, null, null]]}, {\"marker\": {\"color\": \"black\", \"line\": {\"color\": \"Grey\", \"width\": 0.5}}, \"mode\": \"markers\", \"showlegend\": false, \"type\": \"scatter\", \"x\": [0.7929984878168347, 0.8995366692557372, 0.6146123876027507, 0.8859482852144174, 0.8439973999880905, 0.6594234747522889, 0.776903509156797, 0.6390639273738513, 0.7099174558388057], \"xaxis\": \"x7\", \"y\": [4, 12, 11, 4, 8, 2, 7, 7, 2], \"yaxis\": \"y7\"}, {\"colorbar\": {\"title\": {\"text\": \"Objective Value\"}}, \"colorscale\": [[0, \"rgb(5,10,172)\"], [0.35, \"rgb(40,60,190)\"], [0.5, \"rgb(70,100,245)\"], [0.6, \"rgb(90,120,245)\"], [0.7, \"rgb(106,137,247)\"], [1, \"rgb(220,220,220)\"]], \"connectgaps\": true, \"contours\": {\"coloring\": \"heatmap\"}, \"hoverinfo\": \"none\", \"line\": {\"smoothing\": 1.3}, \"showscale\": false, \"type\": \"contour\", \"x\": [0.9, 1, 2, 3, 3.1], \"xaxis\": \"x2\", \"y\": [0.6003661735201014, 0.6146123876027507, 0.6390639273738513, 0.6594234747522889, 0.7099174558388057, 0.776903509156797, 0.7929984878168347, 0.8439973999880905, 0.8859482852144174, 0.8995366692557372, 0.9137828833383865], \"yaxis\": \"y2\", \"z\": [[null, null, null, null, null], [null, null, null, 0.9100769777777777, null], [null, 0.8299704691358023, null, null, null], [null, null, 0.9175990913580246, null, null], [null, null, 0.903901787654321, null, null], [null, null, null, 0.9450576987654321, null], [null, null, null, 0.8316842864197532, null], [null, null, 0.8602979753086422, null, null], [null, null, 0.9388151703703702, null, null], [null, null, 0.8316842864197532, null, null], [null, null, null, null, null]]}, {\"marker\": {\"color\": \"black\", \"line\": {\"color\": \"Grey\", \"width\": 0.5}}, \"mode\": \"markers\", \"showlegend\": false, \"type\": \"scatter\", \"x\": [3, 2, 3, 2, 2, 2, 3, 1, 2], \"xaxis\": \"x2\", \"y\": [0.7929984878168347, 0.8995366692557372, 0.6146123876027507, 0.8859482852144174, 0.8439973999880905, 0.6594234747522889, 0.776903509156797, 0.6390639273738513, 0.7099174558388057], \"yaxis\": \"y2\"}, {\"type\": \"scatter\", \"xaxis\": \"x5\", \"yaxis\": \"y5\"}, {\"colorbar\": {\"title\": {\"text\": \"Objective Value\"}}, \"colorscale\": [[0, \"rgb(5,10,172)\"], [0.35, \"rgb(40,60,190)\"], [0.5, \"rgb(70,100,245)\"], [0.6, \"rgb(90,120,245)\"], [0.7, \"rgb(106,137,247)\"], [1, \"rgb(220,220,220)\"]], \"connectgaps\": true, \"contours\": {\"coloring\": \"heatmap\"}, \"hoverinfo\": \"none\", \"line\": {\"smoothing\": 1.3}, \"showscale\": false, \"type\": \"contour\", \"x\": [0.9, 1, 2, 3, 3.1], \"xaxis\": \"x8\", \"y\": [1.5, 2, 4, 7, 8, 11, 12, 12.5], \"yaxis\": \"y8\", \"z\": [[null, null, null, null, null], [null, null, 0.903901787654321, null, null], [null, null, 0.9388151703703702, 0.8316842864197532, null], [null, 0.8299704691358023, null, 0.9450576987654321, null], [null, null, 0.8602979753086422, null, null], [null, null, null, 0.9100769777777777, null], [null, null, 0.8316842864197532, null, null], [null, null, null, null, null]]}, {\"marker\": {\"color\": \"black\", \"line\": {\"color\": \"Grey\", \"width\": 0.5}}, \"mode\": \"markers\", \"showlegend\": false, \"type\": \"scatter\", \"x\": [3, 2, 3, 2, 2, 2, 3, 1, 2], \"xaxis\": \"x8\", \"y\": [4, 12, 11, 4, 8, 2, 7, 7, 2], \"yaxis\": \"y8\"}, {\"colorbar\": {\"title\": {\"text\": \"Objective Value\"}}, \"colorscale\": [[0, \"rgb(5,10,172)\"], [0.35, \"rgb(40,60,190)\"], [0.5, \"rgb(70,100,245)\"], [0.6, \"rgb(90,120,245)\"], [0.7, \"rgb(106,137,247)\"], [1, \"rgb(220,220,220)\"]], \"connectgaps\": true, \"contours\": {\"coloring\": \"heatmap\"}, \"hoverinfo\": \"none\", \"line\": {\"smoothing\": 1.3}, \"showscale\": false, \"type\": \"contour\", \"x\": [1.5, 2, 4, 7, 8, 11, 12, 12.5], \"xaxis\": \"x3\", \"y\": [0.6003661735201014, 0.6146123876027507, 0.6390639273738513, 0.6594234747522889, 0.7099174558388057, 0.776903509156797, 0.7929984878168347, 0.8439973999880905, 0.8859482852144174, 0.8995366692557372, 0.9137828833383865], \"yaxis\": \"y3\", \"z\": [[null, null, null, null, null, null, null, null], [null, null, null, null, null, 0.9100769777777777, null, null], [null, null, null, 0.8299704691358023, null, null, null, null], [null, 0.9175990913580246, null, null, null, null, null, null], [null, 0.903901787654321, null, null, null, null, null, null], [null, null, null, 0.9450576987654321, null, null, null, null], [null, null, 0.8316842864197532, null, null, null, null, null], [null, null, null, null, 0.8602979753086422, null, null, null], [null, null, 0.9388151703703702, null, null, null, null, null], [null, null, null, null, null, null, 0.8316842864197532, null], [null, null, null, null, null, null, null, null]]}, {\"marker\": {\"color\": \"black\", \"line\": {\"color\": \"Grey\", \"width\": 0.5}}, \"mode\": \"markers\", \"showlegend\": false, \"type\": \"scatter\", \"x\": [4, 12, 11, 4, 8, 2, 7, 7, 2], \"xaxis\": \"x3\", \"y\": [0.7929984878168347, 0.8995366692557372, 0.6146123876027507, 0.8859482852144174, 0.8439973999880905, 0.6594234747522889, 0.776903509156797, 0.6390639273738513, 0.7099174558388057], \"yaxis\": \"y3\"}, {\"colorbar\": {\"title\": {\"text\": \"Objective Value\"}}, \"colorscale\": [[0, \"rgb(5,10,172)\"], [0.35, \"rgb(40,60,190)\"], [0.5, \"rgb(70,100,245)\"], [0.6, \"rgb(90,120,245)\"], [0.7, \"rgb(106,137,247)\"], [1, \"rgb(220,220,220)\"]], \"connectgaps\": true, \"contours\": {\"coloring\": \"heatmap\"}, \"hoverinfo\": \"none\", \"line\": {\"smoothing\": 1.3}, \"showscale\": false, \"type\": \"contour\", \"x\": [1.5, 2, 4, 7, 8, 11, 12, 12.5], \"xaxis\": \"x6\", \"y\": [0.9, 1, 2, 3, 3.1], \"yaxis\": \"y6\", \"z\": [[null, null, null, null, null, null, null, null], [null, null, null, 0.8299704691358023, null, null, null, null], [null, 0.903901787654321, 0.9388151703703702, null, 0.8602979753086422, null, 0.8316842864197532, null], [null, null, 0.8316842864197532, 0.9450576987654321, null, 0.9100769777777777, null, null], [null, null, null, null, null, null, null, null]]}, {\"marker\": {\"color\": \"black\", \"line\": {\"color\": \"Grey\", \"width\": 0.5}}, \"mode\": \"markers\", \"showlegend\": false, \"type\": \"scatter\", \"x\": [4, 12, 11, 4, 8, 2, 7, 7, 2], \"xaxis\": \"x6\", \"y\": [3, 2, 3, 2, 2, 2, 3, 1, 2], \"yaxis\": \"y6\"}, {\"type\": \"scatter\", \"xaxis\": \"x9\", \"yaxis\": \"y9\"}],\n",
       "                        {\"template\": {\"data\": {\"bar\": [{\"error_x\": {\"color\": \"#2a3f5f\"}, \"error_y\": {\"color\": \"#2a3f5f\"}, \"marker\": {\"line\": {\"color\": \"#E5ECF6\", \"width\": 0.5}}, \"type\": \"bar\"}], \"barpolar\": [{\"marker\": {\"line\": {\"color\": \"#E5ECF6\", \"width\": 0.5}}, \"type\": \"barpolar\"}], \"carpet\": [{\"aaxis\": {\"endlinecolor\": \"#2a3f5f\", \"gridcolor\": \"white\", \"linecolor\": \"white\", \"minorgridcolor\": \"white\", \"startlinecolor\": \"#2a3f5f\"}, \"baxis\": {\"endlinecolor\": \"#2a3f5f\", \"gridcolor\": \"white\", \"linecolor\": \"white\", \"minorgridcolor\": \"white\", \"startlinecolor\": \"#2a3f5f\"}, \"type\": \"carpet\"}], \"choropleth\": [{\"colorbar\": {\"outlinewidth\": 0, \"ticks\": \"\"}, \"type\": \"choropleth\"}], \"contour\": [{\"colorbar\": {\"outlinewidth\": 0, \"ticks\": \"\"}, \"colorscale\": [[0.0, \"#0d0887\"], [0.1111111111111111, \"#46039f\"], [0.2222222222222222, \"#7201a8\"], [0.3333333333333333, \"#9c179e\"], [0.4444444444444444, \"#bd3786\"], [0.5555555555555556, \"#d8576b\"], [0.6666666666666666, \"#ed7953\"], [0.7777777777777778, \"#fb9f3a\"], [0.8888888888888888, \"#fdca26\"], [1.0, \"#f0f921\"]], \"type\": \"contour\"}], \"contourcarpet\": [{\"colorbar\": {\"outlinewidth\": 0, \"ticks\": \"\"}, \"type\": \"contourcarpet\"}], \"heatmap\": [{\"colorbar\": {\"outlinewidth\": 0, \"ticks\": \"\"}, \"colorscale\": [[0.0, \"#0d0887\"], [0.1111111111111111, \"#46039f\"], [0.2222222222222222, \"#7201a8\"], [0.3333333333333333, \"#9c179e\"], [0.4444444444444444, \"#bd3786\"], [0.5555555555555556, \"#d8576b\"], [0.6666666666666666, \"#ed7953\"], [0.7777777777777778, \"#fb9f3a\"], [0.8888888888888888, \"#fdca26\"], [1.0, \"#f0f921\"]], \"type\": \"heatmap\"}], \"heatmapgl\": [{\"colorbar\": {\"outlinewidth\": 0, \"ticks\": \"\"}, \"colorscale\": [[0.0, \"#0d0887\"], [0.1111111111111111, \"#46039f\"], [0.2222222222222222, \"#7201a8\"], [0.3333333333333333, \"#9c179e\"], [0.4444444444444444, \"#bd3786\"], [0.5555555555555556, \"#d8576b\"], [0.6666666666666666, \"#ed7953\"], [0.7777777777777778, \"#fb9f3a\"], [0.8888888888888888, \"#fdca26\"], [1.0, \"#f0f921\"]], \"type\": \"heatmapgl\"}], \"histogram\": [{\"marker\": {\"colorbar\": {\"outlinewidth\": 0, \"ticks\": \"\"}}, \"type\": \"histogram\"}], \"histogram2d\": [{\"colorbar\": {\"outlinewidth\": 0, \"ticks\": \"\"}, \"colorscale\": [[0.0, \"#0d0887\"], [0.1111111111111111, \"#46039f\"], [0.2222222222222222, \"#7201a8\"], [0.3333333333333333, \"#9c179e\"], [0.4444444444444444, \"#bd3786\"], [0.5555555555555556, \"#d8576b\"], [0.6666666666666666, \"#ed7953\"], [0.7777777777777778, \"#fb9f3a\"], [0.8888888888888888, \"#fdca26\"], [1.0, \"#f0f921\"]], \"type\": \"histogram2d\"}], \"histogram2dcontour\": [{\"colorbar\": {\"outlinewidth\": 0, \"ticks\": \"\"}, \"colorscale\": [[0.0, \"#0d0887\"], [0.1111111111111111, \"#46039f\"], [0.2222222222222222, \"#7201a8\"], [0.3333333333333333, \"#9c179e\"], [0.4444444444444444, \"#bd3786\"], [0.5555555555555556, \"#d8576b\"], [0.6666666666666666, \"#ed7953\"], [0.7777777777777778, \"#fb9f3a\"], [0.8888888888888888, \"#fdca26\"], [1.0, \"#f0f921\"]], \"type\": \"histogram2dcontour\"}], \"mesh3d\": [{\"colorbar\": {\"outlinewidth\": 0, \"ticks\": \"\"}, \"type\": \"mesh3d\"}], \"parcoords\": [{\"line\": {\"colorbar\": {\"outlinewidth\": 0, \"ticks\": \"\"}}, \"type\": \"parcoords\"}], \"pie\": [{\"automargin\": true, \"type\": \"pie\"}], \"scatter\": [{\"marker\": {\"colorbar\": {\"outlinewidth\": 0, \"ticks\": \"\"}}, \"type\": \"scatter\"}], \"scatter3d\": [{\"line\": {\"colorbar\": {\"outlinewidth\": 0, \"ticks\": \"\"}}, \"marker\": {\"colorbar\": {\"outlinewidth\": 0, \"ticks\": \"\"}}, \"type\": \"scatter3d\"}], \"scattercarpet\": [{\"marker\": {\"colorbar\": {\"outlinewidth\": 0, \"ticks\": \"\"}}, \"type\": \"scattercarpet\"}], \"scattergeo\": [{\"marker\": {\"colorbar\": {\"outlinewidth\": 0, \"ticks\": \"\"}}, \"type\": \"scattergeo\"}], \"scattergl\": [{\"marker\": {\"colorbar\": {\"outlinewidth\": 0, \"ticks\": \"\"}}, \"type\": \"scattergl\"}], \"scattermapbox\": [{\"marker\": {\"colorbar\": {\"outlinewidth\": 0, \"ticks\": \"\"}}, \"type\": \"scattermapbox\"}], \"scatterpolar\": [{\"marker\": {\"colorbar\": {\"outlinewidth\": 0, \"ticks\": \"\"}}, \"type\": \"scatterpolar\"}], \"scatterpolargl\": [{\"marker\": {\"colorbar\": {\"outlinewidth\": 0, \"ticks\": \"\"}}, \"type\": \"scatterpolargl\"}], \"scatterternary\": [{\"marker\": {\"colorbar\": {\"outlinewidth\": 0, \"ticks\": \"\"}}, \"type\": \"scatterternary\"}], \"surface\": [{\"colorbar\": {\"outlinewidth\": 0, \"ticks\": \"\"}, \"colorscale\": [[0.0, \"#0d0887\"], [0.1111111111111111, \"#46039f\"], [0.2222222222222222, \"#7201a8\"], [0.3333333333333333, \"#9c179e\"], [0.4444444444444444, \"#bd3786\"], [0.5555555555555556, \"#d8576b\"], [0.6666666666666666, \"#ed7953\"], [0.7777777777777778, \"#fb9f3a\"], [0.8888888888888888, \"#fdca26\"], [1.0, \"#f0f921\"]], \"type\": \"surface\"}], \"table\": [{\"cells\": {\"fill\": {\"color\": \"#EBF0F8\"}, \"line\": {\"color\": \"white\"}}, \"header\": {\"fill\": {\"color\": \"#C8D4E3\"}, \"line\": {\"color\": \"white\"}}, \"type\": \"table\"}]}, \"layout\": {\"annotationdefaults\": {\"arrowcolor\": \"#2a3f5f\", \"arrowhead\": 0, \"arrowwidth\": 1}, \"coloraxis\": {\"colorbar\": {\"outlinewidth\": 0, \"ticks\": \"\"}}, \"colorscale\": {\"diverging\": [[0, \"#8e0152\"], [0.1, \"#c51b7d\"], [0.2, \"#de77ae\"], [0.3, \"#f1b6da\"], [0.4, \"#fde0ef\"], [0.5, \"#f7f7f7\"], [0.6, \"#e6f5d0\"], [0.7, \"#b8e186\"], [0.8, \"#7fbc41\"], [0.9, \"#4d9221\"], [1, \"#276419\"]], \"sequential\": [[0.0, \"#0d0887\"], [0.1111111111111111, \"#46039f\"], [0.2222222222222222, \"#7201a8\"], [0.3333333333333333, \"#9c179e\"], [0.4444444444444444, \"#bd3786\"], [0.5555555555555556, \"#d8576b\"], [0.6666666666666666, \"#ed7953\"], [0.7777777777777778, \"#fb9f3a\"], [0.8888888888888888, \"#fdca26\"], [1.0, \"#f0f921\"]], \"sequentialminus\": [[0.0, \"#0d0887\"], [0.1111111111111111, \"#46039f\"], [0.2222222222222222, \"#7201a8\"], [0.3333333333333333, \"#9c179e\"], [0.4444444444444444, \"#bd3786\"], [0.5555555555555556, \"#d8576b\"], [0.6666666666666666, \"#ed7953\"], [0.7777777777777778, \"#fb9f3a\"], [0.8888888888888888, \"#fdca26\"], [1.0, \"#f0f921\"]]}, \"colorway\": [\"#636efa\", \"#EF553B\", \"#00cc96\", \"#ab63fa\", \"#FFA15A\", \"#19d3f3\", \"#FF6692\", \"#B6E880\", \"#FF97FF\", \"#FECB52\"], \"font\": {\"color\": \"#2a3f5f\"}, \"geo\": {\"bgcolor\": \"white\", \"lakecolor\": \"white\", \"landcolor\": \"#E5ECF6\", \"showlakes\": true, \"showland\": true, \"subunitcolor\": \"white\"}, \"hoverlabel\": {\"align\": \"left\"}, \"hovermode\": \"closest\", \"mapbox\": {\"style\": \"light\"}, \"paper_bgcolor\": \"white\", \"plot_bgcolor\": \"#E5ECF6\", \"polar\": {\"angularaxis\": {\"gridcolor\": \"white\", \"linecolor\": \"white\", \"ticks\": \"\"}, \"bgcolor\": \"#E5ECF6\", \"radialaxis\": {\"gridcolor\": \"white\", \"linecolor\": \"white\", \"ticks\": \"\"}}, \"scene\": {\"xaxis\": {\"backgroundcolor\": \"#E5ECF6\", \"gridcolor\": \"white\", \"gridwidth\": 2, \"linecolor\": \"white\", \"showbackground\": true, \"ticks\": \"\", \"zerolinecolor\": \"white\"}, \"yaxis\": {\"backgroundcolor\": \"#E5ECF6\", \"gridcolor\": \"white\", \"gridwidth\": 2, \"linecolor\": \"white\", \"showbackground\": true, \"ticks\": \"\", \"zerolinecolor\": \"white\"}, \"zaxis\": {\"backgroundcolor\": \"#E5ECF6\", \"gridcolor\": \"white\", \"gridwidth\": 2, \"linecolor\": \"white\", \"showbackground\": true, \"ticks\": \"\", \"zerolinecolor\": \"white\"}}, \"shapedefaults\": {\"line\": {\"color\": \"#2a3f5f\"}}, \"ternary\": {\"aaxis\": {\"gridcolor\": \"white\", \"linecolor\": \"white\", \"ticks\": \"\"}, \"baxis\": {\"gridcolor\": \"white\", \"linecolor\": \"white\", \"ticks\": \"\"}, \"bgcolor\": \"#E5ECF6\", \"caxis\": {\"gridcolor\": \"white\", \"linecolor\": \"white\", \"ticks\": \"\"}}, \"title\": {\"x\": 0.05}, \"xaxis\": {\"automargin\": true, \"gridcolor\": \"white\", \"linecolor\": \"white\", \"ticks\": \"\", \"title\": {\"standoff\": 15}, \"zerolinecolor\": \"white\", \"zerolinewidth\": 2}, \"yaxis\": {\"automargin\": true, \"gridcolor\": \"white\", \"linecolor\": \"white\", \"ticks\": \"\", \"title\": {\"standoff\": 15}, \"zerolinecolor\": \"white\", \"zerolinewidth\": 2}}}, \"title\": {\"text\": \"Contour Plot\"}, \"xaxis\": {\"anchor\": \"y\", \"domain\": [0.0, 0.2888888888888889], \"matches\": \"x7\", \"range\": [0.6003661735201014, 0.9137828833383865], \"showticklabels\": false}, \"xaxis2\": {\"anchor\": \"y2\", \"domain\": [0.35555555555555557, 0.6444444444444445], \"matches\": \"x8\", \"range\": [0.9, 3.1], \"showticklabels\": false}, \"xaxis3\": {\"anchor\": \"y3\", \"domain\": [0.7111111111111111, 1.0], \"matches\": \"x9\", \"range\": [1.5, 12.5], \"showticklabels\": false}, \"xaxis4\": {\"anchor\": \"y4\", \"domain\": [0.0, 0.2888888888888889], \"matches\": \"x7\", \"range\": [0.6003661735201014, 0.9137828833383865], \"showticklabels\": false}, \"xaxis5\": {\"anchor\": \"y5\", \"domain\": [0.35555555555555557, 0.6444444444444445], \"matches\": \"x8\", \"range\": [0.9, 3.1], \"showticklabels\": false}, \"xaxis6\": {\"anchor\": \"y6\", \"domain\": [0.7111111111111111, 1.0], \"matches\": \"x9\", \"range\": [1.5, 12.5], \"showticklabels\": false}, \"xaxis7\": {\"anchor\": \"y7\", \"domain\": [0.0, 0.2888888888888889], \"range\": [0.6003661735201014, 0.9137828833383865], \"title\": {\"text\": \"tfidf__max_df\"}}, \"xaxis8\": {\"anchor\": \"y8\", \"domain\": [0.35555555555555557, 0.6444444444444445], \"range\": [0.9, 3.1], \"title\": {\"text\": \"tfidf__max_ngrams\"}}, \"xaxis9\": {\"anchor\": \"y9\", \"domain\": [0.7111111111111111, 1.0], \"range\": [1.5, 12.5], \"title\": {\"text\": \"tfidf__min_df\"}}, \"yaxis\": {\"anchor\": \"x\", \"domain\": [0.7333333333333333, 1.0], \"range\": [0.6003661735201014, 0.9137828833383865], \"title\": {\"text\": \"tfidf__max_df\"}}, \"yaxis2\": {\"anchor\": \"x2\", \"domain\": [0.7333333333333333, 1.0], \"matches\": \"y\", \"range\": [0.6003661735201014, 0.9137828833383865], \"showticklabels\": false}, \"yaxis3\": {\"anchor\": \"x3\", \"domain\": [0.7333333333333333, 1.0], \"matches\": \"y\", \"range\": [0.6003661735201014, 0.9137828833383865], \"showticklabels\": false}, \"yaxis4\": {\"anchor\": \"x4\", \"domain\": [0.36666666666666664, 0.6333333333333333], \"range\": [0.9, 3.1], \"title\": {\"text\": \"tfidf__max_ngrams\"}}, \"yaxis5\": {\"anchor\": \"x5\", \"domain\": [0.36666666666666664, 0.6333333333333333], \"matches\": \"y4\", \"range\": [0.9, 3.1], \"showticklabels\": false}, \"yaxis6\": {\"anchor\": \"x6\", \"domain\": [0.36666666666666664, 0.6333333333333333], \"matches\": \"y4\", \"range\": [0.9, 3.1], \"showticklabels\": false}, \"yaxis7\": {\"anchor\": \"x7\", \"domain\": [0.0, 0.26666666666666666], \"range\": [1.5, 12.5], \"title\": {\"text\": \"tfidf__min_df\"}}, \"yaxis8\": {\"anchor\": \"x8\", \"domain\": [0.0, 0.26666666666666666], \"matches\": \"y7\", \"range\": [1.5, 12.5], \"showticklabels\": false}, \"yaxis9\": {\"anchor\": \"x9\", \"domain\": [0.0, 0.26666666666666666], \"matches\": \"y7\", \"range\": [1.5, 12.5], \"showticklabels\": false}},\n",
       "                        {\"responsive\": true}\n",
       "                    ).then(function(){\n",
       "                            \n",
       "var gd = document.getElementById('ceb9dce3-9835-40e8-ab86-a81e724e6c6f');\n",
       "var x = new MutationObserver(function (mutations, observer) {{\n",
       "        var display = window.getComputedStyle(gd).display;\n",
       "        if (!display || display === 'none') {{\n",
       "            console.log([gd, 'removed!']);\n",
       "            Plotly.purge(gd);\n",
       "            observer.disconnect();\n",
       "        }}\n",
       "}});\n",
       "\n",
       "// Listen for the removal of the full notebook cells\n",
       "var notebookContainer = gd.closest('#notebook-container');\n",
       "if (notebookContainer) {{\n",
       "    x.observe(notebookContainer, {childList: true});\n",
       "}}\n",
       "\n",
       "// Listen for the clearing of the current output cell\n",
       "var outputEl = gd.closest('.output');\n",
       "if (outputEl) {{\n",
       "    x.observe(outputEl, {childList: true});\n",
       "}}\n",
       "\n",
       "                        })\n",
       "                };\n",
       "                \n",
       "            </script>\n",
       "        </div>\n",
       "</body>\n",
       "</html>"
      ]
     },
     "metadata": {
      "tags": []
     },
     "output_type": "display_data"
    }
   ],
   "source": [
    "optuna.visualization.plot_contour(study, params=['tfidf__max_ngrams',\n",
    "                                                 'tfidf__max_df',\n",
    "                                                 'tfidf__min_df'])"
   ]
  },
  {
   "cell_type": "code",
   "execution_count": 22,
   "metadata": {
    "colab": {
     "base_uri": "https://localhost:8080/",
     "height": 542
    },
    "id": "h6CvYBeyP9mK",
    "outputId": "059650cc-90f2-4a3c-97a1-01e69620f0a3"
   },
   "outputs": [
    {
     "data": {
      "text/html": [
       "<html>\n",
       "<head><meta charset=\"utf-8\" /></head>\n",
       "<body>\n",
       "    <div>\n",
       "            <script src=\"https://cdnjs.cloudflare.com/ajax/libs/mathjax/2.7.5/MathJax.js?config=TeX-AMS-MML_SVG\"></script><script type=\"text/javascript\">if (window.MathJax) {MathJax.Hub.Config({SVG: {font: \"STIX-Web\"}});}</script>\n",
       "                <script type=\"text/javascript\">window.PlotlyConfig = {MathJaxConfig: 'local'};</script>\n",
       "        <script src=\"https://cdn.plot.ly/plotly-latest.min.js\"></script>    \n",
       "            <div id=\"c7af8a4b-e06e-4b4a-a3b6-bfc54f71c4dd\" class=\"plotly-graph-div\" style=\"height:525px; width:100%;\"></div>\n",
       "            <script type=\"text/javascript\">\n",
       "                \n",
       "                    window.PLOTLYENV=window.PLOTLYENV || {};\n",
       "                    \n",
       "                if (document.getElementById(\"c7af8a4b-e06e-4b4a-a3b6-bfc54f71c4dd\")) {\n",
       "                    Plotly.newPlot(\n",
       "                        'c7af8a4b-e06e-4b4a-a3b6-bfc54f71c4dd',\n",
       "                        [{\"type\": \"scatter\", \"xaxis\": \"x\", \"yaxis\": \"y\"}, {\"colorbar\": {\"title\": {\"text\": \"Objective Value\"}}, \"colorscale\": [[0, \"rgb(5,10,172)\"], [0.35, \"rgb(40,60,190)\"], [0.5, \"rgb(70,100,245)\"], [0.6, \"rgb(90,120,245)\"], [0.7, \"rgb(106,137,247)\"], [1, \"rgb(220,220,220)\"]], \"connectgaps\": true, \"contours\": {\"coloring\": \"heatmap\"}, \"hoverinfo\": \"none\", \"line\": {\"smoothing\": 1.3}, \"showscale\": true, \"type\": \"contour\", \"x\": [7.4, 8, 12, 13, 15, 17, 19, 20, 20.6], \"xaxis\": \"x5\", \"y\": [8.0, 10, 16, 21, 23, 24, 29, 32, 50, 52.0], \"yaxis\": \"y5\", \"z\": [[null, null, null, null, null, null, null, null, null], [null, 0.9100769777777777, null, null, null, null, 0.9450576987654321, null, null], [null, null, null, null, null, null, null, 0.8316842864197532, null], [null, null, null, 0.8299704691358023, null, null, null, null, null], [null, null, null, null, null, null, 0.9388151703703702, null, null], [null, null, null, null, null, 0.9175990913580246, null, null, null], [null, null, null, null, 0.903901787654321, null, null, null, null], [null, 0.8602979753086422, null, null, null, null, null, null, null], [null, null, 0.8316842864197532, null, null, null, null, null, null], [null, null, null, null, null, null, null, null, null]]}, {\"marker\": {\"color\": \"black\", \"line\": {\"color\": \"Grey\", \"width\": 0.5}}, \"mode\": \"markers\", \"showlegend\": false, \"type\": \"scatter\", \"x\": [12, 20, 8, 19, 8, 17, 19, 13, 15], \"xaxis\": \"x5\", \"y\": [50, 16, 10, 23, 32, 24, 10, 21, 29], \"yaxis\": \"y5\"}, {\"colorbar\": {\"title\": {\"text\": \"Objective Value\"}}, \"colorscale\": [[0, \"rgb(5,10,172)\"], [0.35, \"rgb(40,60,190)\"], [0.5, \"rgb(70,100,245)\"], [0.6, \"rgb(90,120,245)\"], [0.7, \"rgb(106,137,247)\"], [1, \"rgb(220,220,220)\"]], \"connectgaps\": true, \"contours\": {\"coloring\": \"heatmap\"}, \"hoverinfo\": \"none\", \"line\": {\"smoothing\": 1.3}, \"showscale\": false, \"type\": \"contour\", \"x\": [7.4, 8, 12, 13, 15, 17, 19, 20, 20.6], \"xaxis\": \"x9\", \"y\": [25.55, 26, 27, 28, 31, 33, 34, 35, 35.45], \"yaxis\": \"y9\", \"z\": [[null, null, null, null, null, null, null, null, null], [null, null, null, 0.8299704691358023, null, null, null, null, null], [null, 0.8602979753086422, null, null, null, null, null, null, null], [null, null, null, null, null, 0.9175990913580246, null, null, null], [null, 0.9100769777777777, null, null, null, null, null, null, null], [null, null, null, null, null, null, null, 0.8316842864197532, null], [null, null, null, null, 0.903901787654321, null, null, null, null], [null, null, 0.8316842864197532, null, null, null, 0.9450576987654321, null, null], [null, null, null, null, null, null, null, null, null]]}, {\"marker\": {\"color\": \"black\", \"line\": {\"color\": \"Grey\", \"width\": 0.5}}, \"mode\": \"markers\", \"showlegend\": false, \"type\": \"scatter\", \"x\": [12, 20, 8, 19, 8, 17, 19, 13, 15], \"xaxis\": \"x9\", \"y\": [35, 33, 31, 35, 27, 28, 35, 26, 34], \"yaxis\": \"y9\"}, {\"colorbar\": {\"title\": {\"text\": \"Objective Value\"}}, \"colorscale\": [[0, \"rgb(5,10,172)\"], [0.35, \"rgb(40,60,190)\"], [0.5, \"rgb(70,100,245)\"], [0.6, \"rgb(90,120,245)\"], [0.7, \"rgb(106,137,247)\"], [1, \"rgb(220,220,220)\"]], \"connectgaps\": true, \"contours\": {\"coloring\": \"heatmap\"}, \"hoverinfo\": \"none\", \"line\": {\"smoothing\": 1.3}, \"showscale\": false, \"type\": \"contour\", \"x\": [7.4, 8, 12, 13, 15, 17, 19, 20, 20.6], \"xaxis\": \"x13\", \"y\": [1289.5, 1605, 3226, 3860, 3888, 6361, 6436, 6893, 7027, 7915, 8230.5], \"yaxis\": \"y13\", \"z\": [[null, null, null, null, null, null, null, null, null], [null, null, null, null, null, null, null, 0.8316842864197532, null], [null, 0.9100769777777777, null, null, null, null, null, null, null], [null, null, null, null, null, null, 0.9450576987654321, null, null], [null, null, null, null, null, null, 0.9388151703703702, null, null], [null, null, null, null, null, 0.9175990913580246, null, null, null], [null, 0.8602979753086422, null, null, null, null, null, null, null], [null, null, null, 0.8299704691358023, null, null, null, null, null], [null, null, 0.8316842864197532, null, null, null, null, null, null], [null, null, null, null, 0.903901787654321, null, null, null, null], [null, null, null, null, null, null, null, null, null]]}, {\"marker\": {\"color\": \"black\", \"line\": {\"color\": \"Grey\", \"width\": 0.5}}, \"mode\": \"markers\", \"showlegend\": false, \"type\": \"scatter\", \"x\": [12, 20, 8, 19, 8, 17, 19, 13, 15], \"xaxis\": \"x13\", \"y\": [7027, 1605, 3226, 3888, 6436, 6361, 3860, 6893, 7915], \"yaxis\": \"y13\"}, {\"colorbar\": {\"title\": {\"text\": \"Objective Value\"}}, \"colorscale\": [[0, \"rgb(5,10,172)\"], [0.35, \"rgb(40,60,190)\"], [0.5, \"rgb(70,100,245)\"], [0.6, \"rgb(90,120,245)\"], [0.7, \"rgb(106,137,247)\"], [1, \"rgb(220,220,220)\"]], \"connectgaps\": true, \"contours\": {\"coloring\": \"heatmap\"}, \"hoverinfo\": \"none\", \"line\": {\"smoothing\": 1.3}, \"showscale\": false, \"type\": \"contour\", \"x\": [8.0, 10, 16, 21, 23, 24, 29, 32, 50, 52.0], \"xaxis\": \"x2\", \"y\": [7.4, 8, 12, 13, 15, 17, 19, 20, 20.6], \"yaxis\": \"y2\", \"z\": [[null, null, null, null, null, null, null, null, null, null], [null, 0.9100769777777777, null, null, null, null, null, 0.8602979753086422, null, null], [null, null, null, null, null, null, null, null, 0.8316842864197532, null], [null, null, null, 0.8299704691358023, null, null, null, null, null, null], [null, null, null, null, null, null, 0.903901787654321, null, null, null], [null, null, null, null, null, 0.9175990913580246, null, null, null, null], [null, 0.9450576987654321, null, null, 0.9388151703703702, null, null, null, null, null], [null, null, 0.8316842864197532, null, null, null, null, null, null, null], [null, null, null, null, null, null, null, null, null, null]]}, {\"marker\": {\"color\": \"black\", \"line\": {\"color\": \"Grey\", \"width\": 0.5}}, \"mode\": \"markers\", \"showlegend\": false, \"type\": \"scatter\", \"x\": [50, 16, 10, 23, 32, 24, 10, 21, 29], \"xaxis\": \"x2\", \"y\": [12, 20, 8, 19, 8, 17, 19, 13, 15], \"yaxis\": \"y2\"}, {\"type\": \"scatter\", \"xaxis\": \"x6\", \"yaxis\": \"y6\"}, {\"colorbar\": {\"title\": {\"text\": \"Objective Value\"}}, \"colorscale\": [[0, \"rgb(5,10,172)\"], [0.35, \"rgb(40,60,190)\"], [0.5, \"rgb(70,100,245)\"], [0.6, \"rgb(90,120,245)\"], [0.7, \"rgb(106,137,247)\"], [1, \"rgb(220,220,220)\"]], \"connectgaps\": true, \"contours\": {\"coloring\": \"heatmap\"}, \"hoverinfo\": \"none\", \"line\": {\"smoothing\": 1.3}, \"showscale\": false, \"type\": \"contour\", \"x\": [8.0, 10, 16, 21, 23, 24, 29, 32, 50, 52.0], \"xaxis\": \"x10\", \"y\": [25.55, 26, 27, 28, 31, 33, 34, 35, 35.45], \"yaxis\": \"y10\", \"z\": [[null, null, null, null, null, null, null, null, null, null], [null, null, null, 0.8299704691358023, null, null, null, null, null, null], [null, null, null, null, null, null, null, 0.8602979753086422, null, null], [null, null, null, null, null, 0.9175990913580246, null, null, null, null], [null, 0.9100769777777777, null, null, null, null, null, null, null, null], [null, null, 0.8316842864197532, null, null, null, null, null, null, null], [null, null, null, null, null, null, 0.903901787654321, null, null, null], [null, 0.9450576987654321, null, null, 0.9388151703703702, null, null, null, 0.8316842864197532, null], [null, null, null, null, null, null, null, null, null, null]]}, {\"marker\": {\"color\": \"black\", \"line\": {\"color\": \"Grey\", \"width\": 0.5}}, \"mode\": \"markers\", \"showlegend\": false, \"type\": \"scatter\", \"x\": [50, 16, 10, 23, 32, 24, 10, 21, 29], \"xaxis\": \"x10\", \"y\": [35, 33, 31, 35, 27, 28, 35, 26, 34], \"yaxis\": \"y10\"}, {\"colorbar\": {\"title\": {\"text\": \"Objective Value\"}}, \"colorscale\": [[0, \"rgb(5,10,172)\"], [0.35, \"rgb(40,60,190)\"], [0.5, \"rgb(70,100,245)\"], [0.6, \"rgb(90,120,245)\"], [0.7, \"rgb(106,137,247)\"], [1, \"rgb(220,220,220)\"]], \"connectgaps\": true, \"contours\": {\"coloring\": \"heatmap\"}, \"hoverinfo\": \"none\", \"line\": {\"smoothing\": 1.3}, \"showscale\": false, \"type\": \"contour\", \"x\": [8.0, 10, 16, 21, 23, 24, 29, 32, 50, 52.0], \"xaxis\": \"x14\", \"y\": [1289.5, 1605, 3226, 3860, 3888, 6361, 6436, 6893, 7027, 7915, 8230.5], \"yaxis\": \"y14\", \"z\": [[null, null, null, null, null, null, null, null, null, null], [null, null, 0.8316842864197532, null, null, null, null, null, null, null], [null, 0.9100769777777777, null, null, null, null, null, null, null, null], [null, 0.9450576987654321, null, null, null, null, null, null, null, null], [null, null, null, null, 0.9388151703703702, null, null, null, null, null], [null, null, null, null, null, 0.9175990913580246, null, null, null, null], [null, null, null, null, null, null, null, 0.8602979753086422, null, null], [null, null, null, 0.8299704691358023, null, null, null, null, null, null], [null, null, null, null, null, null, null, null, 0.8316842864197532, null], [null, null, null, null, null, null, 0.903901787654321, null, null, null], [null, null, null, null, null, null, null, null, null, null]]}, {\"marker\": {\"color\": \"black\", \"line\": {\"color\": \"Grey\", \"width\": 0.5}}, \"mode\": \"markers\", \"showlegend\": false, \"type\": \"scatter\", \"x\": [50, 16, 10, 23, 32, 24, 10, 21, 29], \"xaxis\": \"x14\", \"y\": [7027, 1605, 3226, 3888, 6436, 6361, 3860, 6893, 7915], \"yaxis\": \"y14\"}, {\"colorbar\": {\"title\": {\"text\": \"Objective Value\"}}, \"colorscale\": [[0, \"rgb(5,10,172)\"], [0.35, \"rgb(40,60,190)\"], [0.5, \"rgb(70,100,245)\"], [0.6, \"rgb(90,120,245)\"], [0.7, \"rgb(106,137,247)\"], [1, \"rgb(220,220,220)\"]], \"connectgaps\": true, \"contours\": {\"coloring\": \"heatmap\"}, \"hoverinfo\": \"none\", \"line\": {\"smoothing\": 1.3}, \"showscale\": false, \"type\": \"contour\", \"x\": [25.55, 26, 27, 28, 31, 33, 34, 35, 35.45], \"xaxis\": \"x3\", \"y\": [7.4, 8, 12, 13, 15, 17, 19, 20, 20.6], \"yaxis\": \"y3\", \"z\": [[null, null, null, null, null, null, null, null, null], [null, null, 0.8602979753086422, null, 0.9100769777777777, null, null, null, null], [null, null, null, null, null, null, null, 0.8316842864197532, null], [null, 0.8299704691358023, null, null, null, null, null, null, null], [null, null, null, null, null, null, 0.903901787654321, null, null], [null, null, null, 0.9175990913580246, null, null, null, null, null], [null, null, null, null, null, null, null, 0.9450576987654321, null], [null, null, null, null, null, 0.8316842864197532, null, null, null], [null, null, null, null, null, null, null, null, null]]}, {\"marker\": {\"color\": \"black\", \"line\": {\"color\": \"Grey\", \"width\": 0.5}}, \"mode\": \"markers\", \"showlegend\": false, \"type\": \"scatter\", \"x\": [35, 33, 31, 35, 27, 28, 35, 26, 34], \"xaxis\": \"x3\", \"y\": [12, 20, 8, 19, 8, 17, 19, 13, 15], \"yaxis\": \"y3\"}, {\"colorbar\": {\"title\": {\"text\": \"Objective Value\"}}, \"colorscale\": [[0, \"rgb(5,10,172)\"], [0.35, \"rgb(40,60,190)\"], [0.5, \"rgb(70,100,245)\"], [0.6, \"rgb(90,120,245)\"], [0.7, \"rgb(106,137,247)\"], [1, \"rgb(220,220,220)\"]], \"connectgaps\": true, \"contours\": {\"coloring\": \"heatmap\"}, \"hoverinfo\": \"none\", \"line\": {\"smoothing\": 1.3}, \"showscale\": false, \"type\": \"contour\", \"x\": [25.55, 26, 27, 28, 31, 33, 34, 35, 35.45], \"xaxis\": \"x7\", \"y\": [8.0, 10, 16, 21, 23, 24, 29, 32, 50, 52.0], \"yaxis\": \"y7\", \"z\": [[null, null, null, null, null, null, null, null, null], [null, null, null, null, 0.9100769777777777, null, null, 0.9450576987654321, null], [null, null, null, null, null, 0.8316842864197532, null, null, null], [null, 0.8299704691358023, null, null, null, null, null, null, null], [null, null, null, null, null, null, null, 0.9388151703703702, null], [null, null, null, 0.9175990913580246, null, null, null, null, null], [null, null, null, null, null, null, 0.903901787654321, null, null], [null, null, 0.8602979753086422, null, null, null, null, null, null], [null, null, null, null, null, null, null, 0.8316842864197532, null], [null, null, null, null, null, null, null, null, null]]}, {\"marker\": {\"color\": \"black\", \"line\": {\"color\": \"Grey\", \"width\": 0.5}}, \"mode\": \"markers\", \"showlegend\": false, \"type\": \"scatter\", \"x\": [35, 33, 31, 35, 27, 28, 35, 26, 34], \"xaxis\": \"x7\", \"y\": [50, 16, 10, 23, 32, 24, 10, 21, 29], \"yaxis\": \"y7\"}, {\"type\": \"scatter\", \"xaxis\": \"x11\", \"yaxis\": \"y11\"}, {\"colorbar\": {\"title\": {\"text\": \"Objective Value\"}}, \"colorscale\": [[0, \"rgb(5,10,172)\"], [0.35, \"rgb(40,60,190)\"], [0.5, \"rgb(70,100,245)\"], [0.6, \"rgb(90,120,245)\"], [0.7, \"rgb(106,137,247)\"], [1, \"rgb(220,220,220)\"]], \"connectgaps\": true, \"contours\": {\"coloring\": \"heatmap\"}, \"hoverinfo\": \"none\", \"line\": {\"smoothing\": 1.3}, \"showscale\": false, \"type\": \"contour\", \"x\": [25.55, 26, 27, 28, 31, 33, 34, 35, 35.45], \"xaxis\": \"x15\", \"y\": [1289.5, 1605, 3226, 3860, 3888, 6361, 6436, 6893, 7027, 7915, 8230.5], \"yaxis\": \"y15\", \"z\": [[null, null, null, null, null, null, null, null, null], [null, null, null, null, null, 0.8316842864197532, null, null, null], [null, null, null, null, 0.9100769777777777, null, null, null, null], [null, null, null, null, null, null, null, 0.9450576987654321, null], [null, null, null, null, null, null, null, 0.9388151703703702, null], [null, null, null, 0.9175990913580246, null, null, null, null, null], [null, null, 0.8602979753086422, null, null, null, null, null, null], [null, 0.8299704691358023, null, null, null, null, null, null, null], [null, null, null, null, null, null, null, 0.8316842864197532, null], [null, null, null, null, null, null, 0.903901787654321, null, null], [null, null, null, null, null, null, null, null, null]]}, {\"marker\": {\"color\": \"black\", \"line\": {\"color\": \"Grey\", \"width\": 0.5}}, \"mode\": \"markers\", \"showlegend\": false, \"type\": \"scatter\", \"x\": [35, 33, 31, 35, 27, 28, 35, 26, 34], \"xaxis\": \"x15\", \"y\": [7027, 1605, 3226, 3888, 6436, 6361, 3860, 6893, 7915], \"yaxis\": \"y15\"}, {\"colorbar\": {\"title\": {\"text\": \"Objective Value\"}}, \"colorscale\": [[0, \"rgb(5,10,172)\"], [0.35, \"rgb(40,60,190)\"], [0.5, \"rgb(70,100,245)\"], [0.6, \"rgb(90,120,245)\"], [0.7, \"rgb(106,137,247)\"], [1, \"rgb(220,220,220)\"]], \"connectgaps\": true, \"contours\": {\"coloring\": \"heatmap\"}, \"hoverinfo\": \"none\", \"line\": {\"smoothing\": 1.3}, \"showscale\": false, \"type\": \"contour\", \"x\": [1289.5, 1605, 3226, 3860, 3888, 6361, 6436, 6893, 7027, 7915, 8230.5], \"xaxis\": \"x4\", \"y\": [7.4, 8, 12, 13, 15, 17, 19, 20, 20.6], \"yaxis\": \"y4\", \"z\": [[null, null, null, null, null, null, null, null, null, null, null], [null, null, 0.9100769777777777, null, null, null, 0.8602979753086422, null, null, null, null], [null, null, null, null, null, null, null, null, 0.8316842864197532, null, null], [null, null, null, null, null, null, null, 0.8299704691358023, null, null, null], [null, null, null, null, null, null, null, null, null, 0.903901787654321, null], [null, null, null, null, null, 0.9175990913580246, null, null, null, null, null], [null, null, null, 0.9450576987654321, 0.9388151703703702, null, null, null, null, null, null], [null, 0.8316842864197532, null, null, null, null, null, null, null, null, null], [null, null, null, null, null, null, null, null, null, null, null]]}, {\"marker\": {\"color\": \"black\", \"line\": {\"color\": \"Grey\", \"width\": 0.5}}, \"mode\": \"markers\", \"showlegend\": false, \"type\": \"scatter\", \"x\": [7027, 1605, 3226, 3888, 6436, 6361, 3860, 6893, 7915], \"xaxis\": \"x4\", \"y\": [12, 20, 8, 19, 8, 17, 19, 13, 15], \"yaxis\": \"y4\"}, {\"colorbar\": {\"title\": {\"text\": \"Objective Value\"}}, \"colorscale\": [[0, \"rgb(5,10,172)\"], [0.35, \"rgb(40,60,190)\"], [0.5, \"rgb(70,100,245)\"], [0.6, \"rgb(90,120,245)\"], [0.7, \"rgb(106,137,247)\"], [1, \"rgb(220,220,220)\"]], \"connectgaps\": true, \"contours\": {\"coloring\": \"heatmap\"}, \"hoverinfo\": \"none\", \"line\": {\"smoothing\": 1.3}, \"showscale\": false, \"type\": \"contour\", \"x\": [1289.5, 1605, 3226, 3860, 3888, 6361, 6436, 6893, 7027, 7915, 8230.5], \"xaxis\": \"x8\", \"y\": [8.0, 10, 16, 21, 23, 24, 29, 32, 50, 52.0], \"yaxis\": \"y8\", \"z\": [[null, null, null, null, null, null, null, null, null, null, null], [null, null, 0.9100769777777777, 0.9450576987654321, null, null, null, null, null, null, null], [null, 0.8316842864197532, null, null, null, null, null, null, null, null, null], [null, null, null, null, null, null, null, 0.8299704691358023, null, null, null], [null, null, null, null, 0.9388151703703702, null, null, null, null, null, null], [null, null, null, null, null, 0.9175990913580246, null, null, null, null, null], [null, null, null, null, null, null, null, null, null, 0.903901787654321, null], [null, null, null, null, null, null, 0.8602979753086422, null, null, null, null], [null, null, null, null, null, null, null, null, 0.8316842864197532, null, null], [null, null, null, null, null, null, null, null, null, null, null]]}, {\"marker\": {\"color\": \"black\", \"line\": {\"color\": \"Grey\", \"width\": 0.5}}, \"mode\": \"markers\", \"showlegend\": false, \"type\": \"scatter\", \"x\": [7027, 1605, 3226, 3888, 6436, 6361, 3860, 6893, 7915], \"xaxis\": \"x8\", \"y\": [50, 16, 10, 23, 32, 24, 10, 21, 29], \"yaxis\": \"y8\"}, {\"colorbar\": {\"title\": {\"text\": \"Objective Value\"}}, \"colorscale\": [[0, \"rgb(5,10,172)\"], [0.35, \"rgb(40,60,190)\"], [0.5, \"rgb(70,100,245)\"], [0.6, \"rgb(90,120,245)\"], [0.7, \"rgb(106,137,247)\"], [1, \"rgb(220,220,220)\"]], \"connectgaps\": true, \"contours\": {\"coloring\": \"heatmap\"}, \"hoverinfo\": \"none\", \"line\": {\"smoothing\": 1.3}, \"showscale\": false, \"type\": \"contour\", \"x\": [1289.5, 1605, 3226, 3860, 3888, 6361, 6436, 6893, 7027, 7915, 8230.5], \"xaxis\": \"x12\", \"y\": [25.55, 26, 27, 28, 31, 33, 34, 35, 35.45], \"yaxis\": \"y12\", \"z\": [[null, null, null, null, null, null, null, null, null, null, null], [null, null, null, null, null, null, null, 0.8299704691358023, null, null, null], [null, null, null, null, null, null, 0.8602979753086422, null, null, null, null], [null, null, null, null, null, 0.9175990913580246, null, null, null, null, null], [null, null, 0.9100769777777777, null, null, null, null, null, null, null, null], [null, 0.8316842864197532, null, null, null, null, null, null, null, null, null], [null, null, null, null, null, null, null, null, null, 0.903901787654321, null], [null, null, null, 0.9450576987654321, 0.9388151703703702, null, null, null, 0.8316842864197532, null, null], [null, null, null, null, null, null, null, null, null, null, null]]}, {\"marker\": {\"color\": \"black\", \"line\": {\"color\": \"Grey\", \"width\": 0.5}}, \"mode\": \"markers\", \"showlegend\": false, \"type\": \"scatter\", \"x\": [7027, 1605, 3226, 3888, 6436, 6361, 3860, 6893, 7915], \"xaxis\": \"x12\", \"y\": [35, 33, 31, 35, 27, 28, 35, 26, 34], \"yaxis\": \"y12\"}, {\"type\": \"scatter\", \"xaxis\": \"x16\", \"yaxis\": \"y16\"}],\n",
       "                        {\"template\": {\"data\": {\"bar\": [{\"error_x\": {\"color\": \"#2a3f5f\"}, \"error_y\": {\"color\": \"#2a3f5f\"}, \"marker\": {\"line\": {\"color\": \"#E5ECF6\", \"width\": 0.5}}, \"type\": \"bar\"}], \"barpolar\": [{\"marker\": {\"line\": {\"color\": \"#E5ECF6\", \"width\": 0.5}}, \"type\": \"barpolar\"}], \"carpet\": [{\"aaxis\": {\"endlinecolor\": \"#2a3f5f\", \"gridcolor\": \"white\", \"linecolor\": \"white\", \"minorgridcolor\": \"white\", \"startlinecolor\": \"#2a3f5f\"}, \"baxis\": {\"endlinecolor\": \"#2a3f5f\", \"gridcolor\": \"white\", \"linecolor\": \"white\", \"minorgridcolor\": \"white\", \"startlinecolor\": \"#2a3f5f\"}, \"type\": \"carpet\"}], \"choropleth\": [{\"colorbar\": {\"outlinewidth\": 0, \"ticks\": \"\"}, \"type\": \"choropleth\"}], \"contour\": [{\"colorbar\": {\"outlinewidth\": 0, \"ticks\": \"\"}, \"colorscale\": [[0.0, \"#0d0887\"], [0.1111111111111111, \"#46039f\"], [0.2222222222222222, \"#7201a8\"], [0.3333333333333333, \"#9c179e\"], [0.4444444444444444, \"#bd3786\"], [0.5555555555555556, \"#d8576b\"], [0.6666666666666666, \"#ed7953\"], [0.7777777777777778, \"#fb9f3a\"], [0.8888888888888888, \"#fdca26\"], [1.0, \"#f0f921\"]], \"type\": \"contour\"}], \"contourcarpet\": [{\"colorbar\": {\"outlinewidth\": 0, \"ticks\": \"\"}, \"type\": \"contourcarpet\"}], \"heatmap\": [{\"colorbar\": {\"outlinewidth\": 0, \"ticks\": \"\"}, \"colorscale\": [[0.0, \"#0d0887\"], [0.1111111111111111, \"#46039f\"], [0.2222222222222222, \"#7201a8\"], [0.3333333333333333, \"#9c179e\"], [0.4444444444444444, \"#bd3786\"], [0.5555555555555556, \"#d8576b\"], [0.6666666666666666, \"#ed7953\"], [0.7777777777777778, \"#fb9f3a\"], [0.8888888888888888, \"#fdca26\"], [1.0, \"#f0f921\"]], \"type\": \"heatmap\"}], \"heatmapgl\": [{\"colorbar\": {\"outlinewidth\": 0, \"ticks\": \"\"}, \"colorscale\": [[0.0, \"#0d0887\"], [0.1111111111111111, \"#46039f\"], [0.2222222222222222, \"#7201a8\"], [0.3333333333333333, \"#9c179e\"], [0.4444444444444444, \"#bd3786\"], [0.5555555555555556, \"#d8576b\"], [0.6666666666666666, \"#ed7953\"], [0.7777777777777778, \"#fb9f3a\"], [0.8888888888888888, \"#fdca26\"], [1.0, \"#f0f921\"]], \"type\": \"heatmapgl\"}], \"histogram\": [{\"marker\": {\"colorbar\": {\"outlinewidth\": 0, \"ticks\": \"\"}}, \"type\": \"histogram\"}], \"histogram2d\": [{\"colorbar\": {\"outlinewidth\": 0, \"ticks\": \"\"}, \"colorscale\": [[0.0, \"#0d0887\"], [0.1111111111111111, \"#46039f\"], [0.2222222222222222, \"#7201a8\"], [0.3333333333333333, \"#9c179e\"], [0.4444444444444444, \"#bd3786\"], [0.5555555555555556, \"#d8576b\"], [0.6666666666666666, \"#ed7953\"], [0.7777777777777778, \"#fb9f3a\"], [0.8888888888888888, \"#fdca26\"], [1.0, \"#f0f921\"]], \"type\": \"histogram2d\"}], \"histogram2dcontour\": [{\"colorbar\": {\"outlinewidth\": 0, \"ticks\": \"\"}, \"colorscale\": [[0.0, \"#0d0887\"], [0.1111111111111111, \"#46039f\"], [0.2222222222222222, \"#7201a8\"], [0.3333333333333333, \"#9c179e\"], [0.4444444444444444, \"#bd3786\"], [0.5555555555555556, \"#d8576b\"], [0.6666666666666666, \"#ed7953\"], [0.7777777777777778, \"#fb9f3a\"], [0.8888888888888888, \"#fdca26\"], [1.0, \"#f0f921\"]], \"type\": \"histogram2dcontour\"}], \"mesh3d\": [{\"colorbar\": {\"outlinewidth\": 0, \"ticks\": \"\"}, \"type\": \"mesh3d\"}], \"parcoords\": [{\"line\": {\"colorbar\": {\"outlinewidth\": 0, \"ticks\": \"\"}}, \"type\": \"parcoords\"}], \"pie\": [{\"automargin\": true, \"type\": \"pie\"}], \"scatter\": [{\"marker\": {\"colorbar\": {\"outlinewidth\": 0, \"ticks\": \"\"}}, \"type\": \"scatter\"}], \"scatter3d\": [{\"line\": {\"colorbar\": {\"outlinewidth\": 0, \"ticks\": \"\"}}, \"marker\": {\"colorbar\": {\"outlinewidth\": 0, \"ticks\": \"\"}}, \"type\": \"scatter3d\"}], \"scattercarpet\": [{\"marker\": {\"colorbar\": {\"outlinewidth\": 0, \"ticks\": \"\"}}, \"type\": \"scattercarpet\"}], \"scattergeo\": [{\"marker\": {\"colorbar\": {\"outlinewidth\": 0, \"ticks\": \"\"}}, \"type\": \"scattergeo\"}], \"scattergl\": [{\"marker\": {\"colorbar\": {\"outlinewidth\": 0, \"ticks\": \"\"}}, \"type\": \"scattergl\"}], \"scattermapbox\": [{\"marker\": {\"colorbar\": {\"outlinewidth\": 0, \"ticks\": \"\"}}, \"type\": \"scattermapbox\"}], \"scatterpolar\": [{\"marker\": {\"colorbar\": {\"outlinewidth\": 0, \"ticks\": \"\"}}, \"type\": \"scatterpolar\"}], \"scatterpolargl\": [{\"marker\": {\"colorbar\": {\"outlinewidth\": 0, \"ticks\": \"\"}}, \"type\": \"scatterpolargl\"}], \"scatterternary\": [{\"marker\": {\"colorbar\": {\"outlinewidth\": 0, \"ticks\": \"\"}}, \"type\": \"scatterternary\"}], \"surface\": [{\"colorbar\": {\"outlinewidth\": 0, \"ticks\": \"\"}, \"colorscale\": [[0.0, \"#0d0887\"], [0.1111111111111111, \"#46039f\"], [0.2222222222222222, \"#7201a8\"], [0.3333333333333333, \"#9c179e\"], [0.4444444444444444, \"#bd3786\"], [0.5555555555555556, \"#d8576b\"], [0.6666666666666666, \"#ed7953\"], [0.7777777777777778, \"#fb9f3a\"], [0.8888888888888888, \"#fdca26\"], [1.0, \"#f0f921\"]], \"type\": \"surface\"}], \"table\": [{\"cells\": {\"fill\": {\"color\": \"#EBF0F8\"}, \"line\": {\"color\": \"white\"}}, \"header\": {\"fill\": {\"color\": \"#C8D4E3\"}, \"line\": {\"color\": \"white\"}}, \"type\": \"table\"}]}, \"layout\": {\"annotationdefaults\": {\"arrowcolor\": \"#2a3f5f\", \"arrowhead\": 0, \"arrowwidth\": 1}, \"coloraxis\": {\"colorbar\": {\"outlinewidth\": 0, \"ticks\": \"\"}}, \"colorscale\": {\"diverging\": [[0, \"#8e0152\"], [0.1, \"#c51b7d\"], [0.2, \"#de77ae\"], [0.3, \"#f1b6da\"], [0.4, \"#fde0ef\"], [0.5, \"#f7f7f7\"], [0.6, \"#e6f5d0\"], [0.7, \"#b8e186\"], [0.8, \"#7fbc41\"], [0.9, \"#4d9221\"], [1, \"#276419\"]], \"sequential\": [[0.0, \"#0d0887\"], [0.1111111111111111, \"#46039f\"], [0.2222222222222222, \"#7201a8\"], [0.3333333333333333, \"#9c179e\"], [0.4444444444444444, \"#bd3786\"], [0.5555555555555556, \"#d8576b\"], [0.6666666666666666, \"#ed7953\"], [0.7777777777777778, \"#fb9f3a\"], [0.8888888888888888, \"#fdca26\"], [1.0, \"#f0f921\"]], \"sequentialminus\": [[0.0, \"#0d0887\"], [0.1111111111111111, \"#46039f\"], [0.2222222222222222, \"#7201a8\"], [0.3333333333333333, \"#9c179e\"], [0.4444444444444444, \"#bd3786\"], [0.5555555555555556, \"#d8576b\"], [0.6666666666666666, \"#ed7953\"], [0.7777777777777778, \"#fb9f3a\"], [0.8888888888888888, \"#fdca26\"], [1.0, \"#f0f921\"]]}, \"colorway\": [\"#636efa\", \"#EF553B\", \"#00cc96\", \"#ab63fa\", \"#FFA15A\", \"#19d3f3\", \"#FF6692\", \"#B6E880\", \"#FF97FF\", \"#FECB52\"], \"font\": {\"color\": \"#2a3f5f\"}, \"geo\": {\"bgcolor\": \"white\", \"lakecolor\": \"white\", \"landcolor\": \"#E5ECF6\", \"showlakes\": true, \"showland\": true, \"subunitcolor\": \"white\"}, \"hoverlabel\": {\"align\": \"left\"}, \"hovermode\": \"closest\", \"mapbox\": {\"style\": \"light\"}, \"paper_bgcolor\": \"white\", \"plot_bgcolor\": \"#E5ECF6\", \"polar\": {\"angularaxis\": {\"gridcolor\": \"white\", \"linecolor\": \"white\", \"ticks\": \"\"}, \"bgcolor\": \"#E5ECF6\", \"radialaxis\": {\"gridcolor\": \"white\", \"linecolor\": \"white\", \"ticks\": \"\"}}, \"scene\": {\"xaxis\": {\"backgroundcolor\": \"#E5ECF6\", \"gridcolor\": \"white\", \"gridwidth\": 2, \"linecolor\": \"white\", \"showbackground\": true, \"ticks\": \"\", \"zerolinecolor\": \"white\"}, \"yaxis\": {\"backgroundcolor\": \"#E5ECF6\", \"gridcolor\": \"white\", \"gridwidth\": 2, \"linecolor\": \"white\", \"showbackground\": true, \"ticks\": \"\", \"zerolinecolor\": \"white\"}, \"zaxis\": {\"backgroundcolor\": \"#E5ECF6\", \"gridcolor\": \"white\", \"gridwidth\": 2, \"linecolor\": \"white\", \"showbackground\": true, \"ticks\": \"\", \"zerolinecolor\": \"white\"}}, \"shapedefaults\": {\"line\": {\"color\": \"#2a3f5f\"}}, \"ternary\": {\"aaxis\": {\"gridcolor\": \"white\", \"linecolor\": \"white\", \"ticks\": \"\"}, \"baxis\": {\"gridcolor\": \"white\", \"linecolor\": \"white\", \"ticks\": \"\"}, \"bgcolor\": \"#E5ECF6\", \"caxis\": {\"gridcolor\": \"white\", \"linecolor\": \"white\", \"ticks\": \"\"}}, \"title\": {\"x\": 0.05}, \"xaxis\": {\"automargin\": true, \"gridcolor\": \"white\", \"linecolor\": \"white\", \"ticks\": \"\", \"title\": {\"standoff\": 15}, \"zerolinecolor\": \"white\", \"zerolinewidth\": 2}, \"yaxis\": {\"automargin\": true, \"gridcolor\": \"white\", \"linecolor\": \"white\", \"ticks\": \"\", \"title\": {\"standoff\": 15}, \"zerolinecolor\": \"white\", \"zerolinewidth\": 2}}}, \"title\": {\"text\": \"Contour Plot\"}, \"xaxis\": {\"anchor\": \"y\", \"domain\": [0.0, 0.2125], \"matches\": \"x13\", \"range\": [7.4, 20.6], \"showticklabels\": false}, \"xaxis10\": {\"anchor\": \"y10\", \"domain\": [0.2625, 0.475], \"matches\": \"x14\", \"range\": [8.0, 52.0], \"showticklabels\": false}, \"xaxis11\": {\"anchor\": \"y11\", \"domain\": [0.525, 0.7375], \"matches\": \"x15\", \"range\": [25.55, 35.45], \"showticklabels\": false}, \"xaxis12\": {\"anchor\": \"y12\", \"domain\": [0.7875, 1.0], \"matches\": \"x16\", \"range\": [1289.5, 8230.5], \"showticklabels\": false}, \"xaxis13\": {\"anchor\": \"y13\", \"domain\": [0.0, 0.2125], \"range\": [7.4, 20.6], \"title\": {\"text\": \"lgb__max_depth\"}}, \"xaxis14\": {\"anchor\": \"y14\", \"domain\": [0.2625, 0.475], \"range\": [8.0, 52.0], \"title\": {\"text\": \"lgb__min_child_samples\"}}, \"xaxis15\": {\"anchor\": \"y15\", \"domain\": [0.525, 0.7375], \"range\": [25.55, 35.45], \"title\": {\"text\": \"lgb__num_leaves\"}}, \"xaxis16\": {\"anchor\": \"y16\", \"domain\": [0.7875, 1.0], \"range\": [1289.5, 8230.5], \"title\": {\"text\": \"lgb__subsample_for_bin\"}}, \"xaxis2\": {\"anchor\": \"y2\", \"domain\": [0.2625, 0.475], \"matches\": \"x14\", \"range\": [8.0, 52.0], \"showticklabels\": false}, \"xaxis3\": {\"anchor\": \"y3\", \"domain\": [0.525, 0.7375], \"matches\": \"x15\", \"range\": [25.55, 35.45], \"showticklabels\": false}, \"xaxis4\": {\"anchor\": \"y4\", \"domain\": [0.7875, 1.0], \"matches\": \"x16\", \"range\": [1289.5, 8230.5], \"showticklabels\": false}, \"xaxis5\": {\"anchor\": \"y5\", \"domain\": [0.0, 0.2125], \"matches\": \"x13\", \"range\": [7.4, 20.6], \"showticklabels\": false}, \"xaxis6\": {\"anchor\": \"y6\", \"domain\": [0.2625, 0.475], \"matches\": \"x14\", \"range\": [8.0, 52.0], \"showticklabels\": false}, \"xaxis7\": {\"anchor\": \"y7\", \"domain\": [0.525, 0.7375], \"matches\": \"x15\", \"range\": [25.55, 35.45], \"showticklabels\": false}, \"xaxis8\": {\"anchor\": \"y8\", \"domain\": [0.7875, 1.0], \"matches\": \"x16\", \"range\": [1289.5, 8230.5], \"showticklabels\": false}, \"xaxis9\": {\"anchor\": \"y9\", \"domain\": [0.0, 0.2125], \"matches\": \"x13\", \"range\": [7.4, 20.6], \"showticklabels\": false}, \"yaxis\": {\"anchor\": \"x\", \"domain\": [0.80625, 1.0], \"range\": [7.4, 20.6], \"title\": {\"text\": \"lgb__max_depth\"}}, \"yaxis10\": {\"anchor\": \"x10\", \"domain\": [0.26875, 0.4625], \"matches\": \"y9\", \"range\": [25.55, 35.45], \"showticklabels\": false}, \"yaxis11\": {\"anchor\": \"x11\", \"domain\": [0.26875, 0.4625], \"matches\": \"y9\", \"range\": [25.55, 35.45], \"showticklabels\": false}, \"yaxis12\": {\"anchor\": \"x12\", \"domain\": [0.26875, 0.4625], \"matches\": \"y9\", \"range\": [25.55, 35.45], \"showticklabels\": false}, \"yaxis13\": {\"anchor\": \"x13\", \"domain\": [0.0, 0.19375], \"range\": [1289.5, 8230.5], \"title\": {\"text\": \"lgb__subsample_for_bin\"}}, \"yaxis14\": {\"anchor\": \"x14\", \"domain\": [0.0, 0.19375], \"matches\": \"y13\", \"range\": [1289.5, 8230.5], \"showticklabels\": false}, \"yaxis15\": {\"anchor\": \"x15\", \"domain\": [0.0, 0.19375], \"matches\": \"y13\", \"range\": [1289.5, 8230.5], \"showticklabels\": false}, \"yaxis16\": {\"anchor\": \"x16\", \"domain\": [0.0, 0.19375], \"matches\": \"y13\", \"range\": [1289.5, 8230.5], \"showticklabels\": false}, \"yaxis2\": {\"anchor\": \"x2\", \"domain\": [0.80625, 1.0], \"matches\": \"y\", \"range\": [7.4, 20.6], \"showticklabels\": false}, \"yaxis3\": {\"anchor\": \"x3\", \"domain\": [0.80625, 1.0], \"matches\": \"y\", \"range\": [7.4, 20.6], \"showticklabels\": false}, \"yaxis4\": {\"anchor\": \"x4\", \"domain\": [0.80625, 1.0], \"matches\": \"y\", \"range\": [7.4, 20.6], \"showticklabels\": false}, \"yaxis5\": {\"anchor\": \"x5\", \"domain\": [0.5375, 0.73125], \"range\": [8.0, 52.0], \"title\": {\"text\": \"lgb__min_child_samples\"}}, \"yaxis6\": {\"anchor\": \"x6\", \"domain\": [0.5375, 0.73125], \"matches\": \"y5\", \"range\": [8.0, 52.0], \"showticklabels\": false}, \"yaxis7\": {\"anchor\": \"x7\", \"domain\": [0.5375, 0.73125], \"matches\": \"y5\", \"range\": [8.0, 52.0], \"showticklabels\": false}, \"yaxis8\": {\"anchor\": \"x8\", \"domain\": [0.5375, 0.73125], \"matches\": \"y5\", \"range\": [8.0, 52.0], \"showticklabels\": false}, \"yaxis9\": {\"anchor\": \"x9\", \"domain\": [0.26875, 0.4625], \"range\": [25.55, 35.45], \"title\": {\"text\": \"lgb__num_leaves\"}}},\n",
       "                        {\"responsive\": true}\n",
       "                    ).then(function(){\n",
       "                            \n",
       "var gd = document.getElementById('c7af8a4b-e06e-4b4a-a3b6-bfc54f71c4dd');\n",
       "var x = new MutationObserver(function (mutations, observer) {{\n",
       "        var display = window.getComputedStyle(gd).display;\n",
       "        if (!display || display === 'none') {{\n",
       "            console.log([gd, 'removed!']);\n",
       "            Plotly.purge(gd);\n",
       "            observer.disconnect();\n",
       "        }}\n",
       "}});\n",
       "\n",
       "// Listen for the removal of the full notebook cells\n",
       "var notebookContainer = gd.closest('#notebook-container');\n",
       "if (notebookContainer) {{\n",
       "    x.observe(notebookContainer, {childList: true});\n",
       "}}\n",
       "\n",
       "// Listen for the clearing of the current output cell\n",
       "var outputEl = gd.closest('.output');\n",
       "if (outputEl) {{\n",
       "    x.observe(outputEl, {childList: true});\n",
       "}}\n",
       "\n",
       "                        })\n",
       "                };\n",
       "                \n",
       "            </script>\n",
       "        </div>\n",
       "</body>\n",
       "</html>"
      ]
     },
     "metadata": {
      "tags": []
     },
     "output_type": "display_data"
    }
   ],
   "source": [
    "optuna.visualization.plot_contour(study, params=['lgb__max_depth',\n",
    "                                                 'lgb__num_leaves',\n",
    "                                                 'lgb__min_child_samples', \n",
    "                                                 'lgb__subsample_for_bin'])"
   ]
  },
  {
   "cell_type": "code",
   "execution_count": 23,
   "metadata": {
    "colab": {
     "base_uri": "https://localhost:8080/"
    },
    "id": "X9-sYenJP9mL",
    "outputId": "df1c8600-4506-417e-fe80-e12716fdce58"
   },
   "outputs": [
    {
     "name": "stdout",
     "output_type": "stream",
     "text": [
      "{'tfidf__max_ngrams': 3, 'tfidf__max_df': 0.776903509156797, 'tfidf__min_df': 7, 'lgb__n_estimators': 495, 'lgb__max_depth': 19, 'lgb__num_leaves': 35, 'lgb__learning_rate': 0.07513983875568599, 'lgb__colsample_bytree': 0.9321140111641218, 'lgb__min_child_samples': 10, 'lgb__subsample_for_bin': 3860}\n"
     ]
    }
   ],
   "source": [
    "print(study.best_params)"
   ]
  },
  {
   "cell_type": "code",
   "execution_count": 24,
   "metadata": {
    "colab": {
     "base_uri": "https://localhost:8080/"
    },
    "id": "eWPbjEkcP9mL",
    "outputId": "21904d02-e55c-4c15-d1b8-ca3c71f04d9d"
   },
   "outputs": [
    {
     "name": "stderr",
     "output_type": "stream",
     "text": [
      "[Parallel(n_jobs=-1)]: Using backend LokyBackend with 2 concurrent workers.\n",
      "[Parallel(n_jobs=-1)]: Done   5 out of   5 | elapsed: 13.2min finished\n"
     ]
    }
   ],
   "source": [
    "params = {\n",
    "    'tfidf__ngram_range': (1, study.best_params['tfidf__max_ngrams']),\n",
    "    'tfidf__max_df': study.best_params['tfidf__max_df'],\n",
    "    'tfidf__min_df': study.best_params['tfidf__min_df'],\n",
    "    'lgb__n_estimators': study.best_params['lgb__n_estimators'],\n",
    "    'lgb__num_leaves': study.best_params['lgb__num_leaves'],\n",
    "    'lgb__learning_rate': study.best_params['lgb__learning_rate'],\n",
    "    'lgb__colsample_bytree': study.best_params['lgb__colsample_bytree'],\n",
    "    'lgb__min_child_samples': study.best_params['lgb__min_child_samples'],\n",
    "    'lgb__subsample_for_bin': study.best_params['lgb__subsample_for_bin'],\n",
    "}\n",
    "opt_lgb.set_params(**params)\n",
    "\n",
    "scores = cross_val_score(opt_lgb, \n",
    "                         x_train, \n",
    "                         y_train, \n",
    "                         cv=5, \n",
    "                         scoring='roc_auc', \n",
    "                         n_jobs=-1, \n",
    "                         verbose= 1)"
   ]
  },
  {
   "cell_type": "code",
   "execution_count": 25,
   "metadata": {
    "colab": {
     "base_uri": "https://localhost:8080/"
    },
    "id": "LOMeZeLuP9mM",
    "outputId": "a09ae915-6b1f-4e70-81b9-a1f3188267ad"
   },
   "outputs": [
    {
     "name": "stdout",
     "output_type": "stream",
     "text": [
      "[0.94296514 0.94302479 0.95081402 0.94489067 0.94359388]\n",
      "ROC AUC score = 0.9451 +/- 0.0030\n"
     ]
    }
   ],
   "source": [
    "print(scores)\n",
    "print('ROC AUC score = %.4f +/- %.4f'%(np.array(scores).mean(), np.array(scores).std()))"
   ]
  },
  {
   "cell_type": "code",
   "execution_count": 26,
   "metadata": {
    "colab": {
     "base_uri": "https://localhost:8080/"
    },
    "id": "Zl3hCTR-P9mM",
    "outputId": "9aa4aa6d-8cb1-415d-e3b0-a3cff5c3f086"
   },
   "outputs": [
    {
     "data": {
      "text/plain": [
       "Pipeline(memory=None,\n",
       "         steps=[('tfidf',\n",
       "                 TfidfVectorizer(analyzer='word', binary=False,\n",
       "                                 decode_error='strict',\n",
       "                                 dtype=<class 'numpy.float64'>,\n",
       "                                 encoding='utf-8', input='content',\n",
       "                                 lowercase=True, max_df=0.776903509156797,\n",
       "                                 max_features=None, min_df=7,\n",
       "                                 ngram_range=(1, 3), norm='l2',\n",
       "                                 preprocessor=None, smooth_idf=True,\n",
       "                                 stop_words='english', strip_accents=None,\n",
       "                                 sublinear_tf=Fa...\n",
       "                                colsample_bytree=0.9321140111641218,\n",
       "                                importance_type='split',\n",
       "                                learning_rate=0.07513983875568599, max_depth=-1,\n",
       "                                min_child_samples=10, min_child_weight=0.001,\n",
       "                                min_split_gain=0.0, n_estimators=495, n_jobs=-1,\n",
       "                                num_leaves=35, objective=None, random_state=42,\n",
       "                                reg_alpha=0.0, reg_lambda=0.0, silent=True,\n",
       "                                subsample=1.0, subsample_for_bin=3860,\n",
       "                                subsample_freq=0))],\n",
       "         verbose=False)"
      ]
     },
     "execution_count": 26,
     "metadata": {
      "tags": []
     },
     "output_type": "execute_result"
    }
   ],
   "source": [
    "opt_lgb.fit(x_train, y_train)"
   ]
  },
  {
   "cell_type": "code",
   "execution_count": 27,
   "metadata": {
    "colab": {
     "base_uri": "https://localhost:8080/",
     "height": 282
    },
    "id": "OKjEHXMiP9mN",
    "outputId": "47f4591f-1a01-421f-a45c-08249b978507"
   },
   "outputs": [
    {
     "data": {
      "text/plain": [
       "<matplotlib.legend.Legend at 0x7f668a114550>"
      ]
     },
     "execution_count": 27,
     "metadata": {
      "tags": []
     },
     "output_type": "execute_result"
    },
    {
     "data": {
      "image/png": "[encoded data removed]",
      "text/plain": [
       "<Figure size 432x288 with 1 Axes>"
      ]
     },
     "metadata": {
      "tags": []
     },
     "output_type": "display_data"
    }
   ],
   "source": [
    "threshold_acc = {}\n",
    "threshold_recall = {}\n",
    "threshold_precision = {}\n",
    "for threshold in range(10, 91, 1):\n",
    "    y_pred = predict_w_threshold(opt_lgb, x_train_thresh, threshold/100)\n",
    "\n",
    "    acc = accuracy_score(y_train_thresh, y_pred)\n",
    "    recall = recall_score(y_train_thresh, y_pred)\n",
    "    precision = precision_score(y_train_thresh, y_pred)\n",
    "    \n",
    "    threshold_acc[threshold] = acc\n",
    "    threshold_recall[threshold] = recall\n",
    "    threshold_precision[threshold] = precision\n",
    "\n",
    "ax = sns.lineplot(x=threshold_acc.keys(), y=threshold_acc.values())\n",
    "ax = sns.lineplot(x=threshold_recall.keys(), y=threshold_recall.values(), ax=ax)\n",
    "ax = sns.lineplot(x=threshold_precision.keys(), y=threshold_precision.values(), ax=ax)\n",
    "\n",
    "ax.lines[1].set_linestyle(\"--\")\n",
    "ax.lines[2].set_linestyle(\"--\")\n",
    "\n",
    "plt.legend(labels=['Accuracy', 'Recall', 'Precision'])"
   ]
  },
  {
   "cell_type": "markdown",
   "metadata": {
    "id": "-k80dcTCP9mO"
   },
   "source": [
    "* Threshold = 0.51"
   ]
  },
  {
   "cell_type": "code",
   "execution_count": 37,
   "metadata": {
    "colab": {
     "base_uri": "https://localhost:8080/"
    },
    "id": "tdyc3QdjP9mO",
    "outputId": "76ec52a1-5e87-4bf6-9f0a-b1aa437003f3"
   },
   "outputs": [
    {
     "data": {
      "text/plain": [
       "Pipeline(memory=None,\n",
       "         steps=[('tfidf',\n",
       "                 TfidfVectorizer(analyzer='word', binary=False,\n",
       "                                 decode_error='strict',\n",
       "                                 dtype=<class 'numpy.float64'>,\n",
       "                                 encoding='utf-8', input='content',\n",
       "                                 lowercase=True, max_df=0.776903509156797,\n",
       "                                 max_features=None, min_df=7,\n",
       "                                 ngram_range=(1, 3), norm='l2',\n",
       "                                 preprocessor=None, smooth_idf=True,\n",
       "                                 stop_words='english', strip_accents=None,\n",
       "                                 sublinear_tf=Fa...\n",
       "                                colsample_bytree=0.9321140111641218,\n",
       "                                importance_type='split',\n",
       "                                learning_rate=0.07513983875568599, max_depth=-1,\n",
       "                                min_child_samples=10, min_child_weight=0.001,\n",
       "                                min_split_gain=0.0, n_estimators=495, n_jobs=-1,\n",
       "                                num_leaves=35, objective=None, random_state=42,\n",
       "                                reg_alpha=0.0, reg_lambda=0.0, silent=True,\n",
       "                                subsample=1.0, subsample_for_bin=3860,\n",
       "                                subsample_freq=0))],\n",
       "         verbose=False)"
      ]
     },
     "execution_count": 37,
     "metadata": {
      "tags": []
     },
     "output_type": "execute_result"
    }
   ],
   "source": [
    "opt_lgb.fit(x, y)"
   ]
  },
  {
   "cell_type": "markdown",
   "metadata": {
    "id": "_RSI71-_ovkW"
   },
   "source": [
    "#### Model Evaluation"
   ]
  },
  {
   "cell_type": "code",
   "execution_count": 53,
   "metadata": {
    "colab": {
     "base_uri": "https://localhost:8080/",
     "height": 299
    },
    "id": "snrNODvxP9mO",
    "outputId": "523b88f7-4a41-40ad-bdb5-421f4188d0bd"
   },
   "outputs": [
    {
     "name": "stdout",
     "output_type": "stream",
     "text": [
      "Accuracy = 0.8751\n"
     ]
    },
    {
     "data": {
      "text/plain": [
       "<matplotlib.axes._subplots.AxesSubplot at 0x7f66201ef7f0>"
      ]
     },
     "execution_count": 53,
     "metadata": {
      "tags": []
     },
     "output_type": "execute_result"
    },
    {
     "data": {
      "image/png": "[encoded data removed]",
      "text/plain": [
       "<Figure size 432x288 with 2 Axes>"
      ]
     },
     "metadata": {
      "tags": []
     },
     "output_type": "display_data"
    }
   ],
   "source": [
    "y_pred = predict_w_threshold(opt_lgb, x_test, 0.51)\n",
    "\n",
    "print('Accuracy = %.4f'%(accuracy_score(y_test, y_pred)))\n",
    "\n",
    "cm = confusion_matrix(y_test, y_pred, normalize='true')\n",
    "sns.heatmap(cm, annot=True, cmap='Greens')"
   ]
  },
  {
   "cell_type": "code",
   "execution_count": 40,
   "metadata": {
    "colab": {
     "base_uri": "https://localhost:8080/"
    },
    "id": "xtUsb8NpvKS4",
    "outputId": "6d02e79c-ff96-439a-bf5b-d469fae6dc72"
   },
   "outputs": [
    {
     "name": "stdout",
     "output_type": "stream",
     "text": [
      "56311 features\n"
     ]
    }
   ],
   "source": [
    "feature_names = opt_lgb['tfidf'].get_feature_names()\n",
    "print('%i features'%(len(feature_names)))"
   ]
  },
  {
   "cell_type": "code",
   "execution_count": 58,
   "metadata": {
    "colab": {
     "base_uri": "https://localhost:8080/"
    },
    "id": "C6LEaG4fwzdO",
    "outputId": "f051e708-a407-49db-8566-98b86fa812a1"
   },
   "outputs": [
    {
     "data": {
      "text/plain": [
       "array([0, 0, 0, ..., 0, 0, 0])"
      ]
     },
     "execution_count": 58,
     "metadata": {
      "tags": []
     },
     "output_type": "execute_result"
    }
   ],
   "source": [
    "opt_lgb['lgb'].feature_importances_"
   ]
  },
  {
   "cell_type": "code",
   "execution_count": 60,
   "metadata": {
    "colab": {
     "base_uri": "https://localhost:8080/",
     "height": 367
    },
    "id": "h3WIa7XTvKr7",
    "outputId": "88f4060a-9a4f-4ad6-ac2a-318c2cd76d9e"
   },
   "outputs": [
    {
     "data": {
      "text/plain": [
       "Text(0.5, 1.0, 'Feature importances')"
      ]
     },
     "execution_count": 60,
     "metadata": {
      "tags": []
     },
     "output_type": "execute_result"
    },
    {
     "data": {
      "image/png": "[encoded data removed]",
      "text/plain": [
       "<Figure size 720x360 with 1 Axes>"
      ]
     },
     "metadata": {
      "tags": []
     },
     "output_type": "display_data"
    }
   ],
   "source": [
    "importances_df = pd.DataFrame()\n",
    "\n",
    "importances_df['feat'] = feature_names\n",
    "importances_df['coef'] = opt_lgb['lgb'].feature_importances_\n",
    "\n",
    "importances_df = importances_df.sort_values('coef', ascending=False)\n",
    "top_feats = pd.concat([importances_df.head(20)])\n",
    "\n",
    "plt.figure(figsize=(10, 5))\n",
    "\n",
    "sns.barplot(data=top_feats, x='coef', y='feat')\n",
    "plt.title('Feature importances')"
   ]
  },
  {
   "cell_type": "markdown",
   "metadata": {
    "id": "qJ4Q6hOOxsNV"
   },
   "source": [
    "### Model Comparison"
   ]
  },
  {
   "cell_type": "code",
   "execution_count": 92,
   "metadata": {
    "colab": {
     "base_uri": "https://localhost:8080/",
     "height": 282
    },
    "id": "keexu1eE0dqT",
    "outputId": "d3b19e84-89f7-492e-f547-ca7eb356f5f2"
   },
   "outputs": [
    {
     "data": {
      "text/plain": [
       "<matplotlib.axes._subplots.AxesSubplot at 0x7f664657b198>"
      ]
     },
     "execution_count": 92,
     "metadata": {
      "tags": []
     },
     "output_type": "execute_result"
    },
    {
     "data": {
      "image/png": "[encoded data removed]",
      "text/plain": [
       "<Figure size 432x288 with 2 Axes>"
      ]
     },
     "metadata": {
      "tags": []
     },
     "output_type": "display_data"
    }
   ],
   "source": [
    "models = [(opt_nb, .5, 'Naive Bayes'), \n",
    "          (opt_lr, .51, 'Logistic Regression'), \n",
    "          (opt_lgb, .51, 'LGBM')]\n",
    "\n",
    "model_scores = pd.DataFrame()\n",
    "\n",
    "for model, thresh, name in models:\n",
    "  y_pred = predict_w_threshold(model, x_test, thresh)\n",
    "  report = classification_report(y_test, y_pred, output_dict=True)\n",
    "\n",
    "  model_scores.loc['accuracy', name] = report['accuracy']\n",
    "\n",
    "  model_scores.loc['0_f1-score', name] = report['0']['f1-score']\n",
    "  model_scores.loc['0_precision', name] = report['0']['precision']\n",
    "  model_scores.loc['0_recall', name] = report['0']['recall']\n",
    "\n",
    "  model_scores.loc['1_f1-score', name] = report['1']['f1-score']\n",
    "  model_scores.loc['1_precision', name] = report['1']['precision']\n",
    "  model_scores.loc['1_recall', name] = report['1']['recall']\n",
    "\n",
    "  model_scores.loc['macro-avg_f1-score', name] = report['macro avg']['f1-score']\n",
    "  model_scores.loc['macro-avg_precision', name] = report['macro avg']['precision']\n",
    "  model_scores.loc['macro-avg_recall', name] = report['macro avg']['recall']\n",
    "\n",
    "sns.heatmap(model_scores, annot=True, cmap='Greens', fmt='.5g')"
   ]
  },
  {
   "cell_type": "code",
   "execution_count": 93,
   "metadata": {
    "colab": {
     "base_uri": "https://localhost:8080/",
     "height": 279
    },
    "id": "pVlv5dxMz5rq",
    "outputId": "ee9f6fa1-3c2f-4aae-c909-08dfdec54e94"
   },
   "outputs": [
    {
     "data": {
      "image/png": "[encoded data removed]",
      "text/plain": [
       "<Figure size 432x288 with 1 Axes>"
      ]
     },
     "metadata": {
      "tags": []
     },
     "output_type": "display_data"
    }
   ],
   "source": [
    "ax = plot_roc_curve(opt_nb, x_test, y_test, name='Naive Bayes')\n",
    "ax = plot_roc_curve(opt_lr, x_test, y_test, ax = ax.ax_, name='Logistic Regression')\n",
    "ax = plot_roc_curve(opt_lgb, x_test, y_test, ax = ax.ax_, name='LGBM')"
   ]
  },
  {
   "cell_type": "markdown",
   "metadata": {
    "id": "TEMBmej-yvOn"
   },
   "source": [
    "### Saving Models"
   ]
  },
  {
   "cell_type": "code",
   "execution_count": 95,
   "metadata": {
    "colab": {
     "base_uri": "https://localhost:8080/"
    },
    "id": "nM3n1Rfwygkp",
    "outputId": "f4348183-58b7-4c05-bd20-df71f3b1418b"
   },
   "outputs": [
    {
     "data": {
      "text/plain": [
       "['models/lgbm_thresh51.pkl']"
      ]
     },
     "execution_count": 95,
     "metadata": {
      "tags": []
     },
     "output_type": "execute_result"
    }
   ],
   "source": [
    "dump(opt_nb, 'models/naive_bayes_thresh50.pkl')\n",
    "dump(opt_lr, 'models/log_reg_thresh51.pkl')\n",
    "dump(opt_lgb, 'models/lgbm_thresh51.pkl')"
   ]
  },
  {
   "cell_type": "code",
   "execution_count": null,
   "metadata": {
    "id": "vzVQgkEWzoVU"
   },
   "outputs": [],
   "source": []
  }
 ],
 "metadata": {
  "colab": {
   "collapsed_sections": [
    "BjYghFsraHOZ"
   ],
   "name": "1_1_models_w_tfidfVectorizer.ipynb",
   "provenance": []
  },
  "kernelspec": {
   "display_name": "Python 3",
   "language": "python",
   "name": "python3"
  },
  "language_info": {
   "codemirror_mode": {
    "name": "ipython",
    "version": 3
   },
   "file_extension": ".py",
   "mimetype": "text/x-python",
   "name": "python",
   "nbconvert_exporter": "python",
   "pygments_lexer": "ipython3",
   "version": "3.6.8"
  }
 },
 "nbformat": 4,
 "nbformat_minor": 1
}
