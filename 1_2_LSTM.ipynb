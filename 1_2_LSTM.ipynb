{
 "cells": [
  {
   "cell_type": "code",
   "execution_count": null,
   "metadata": {
    "colab": {
     "base_uri": "https://localhost:8080/"
    },
    "id": "r1VbBaem1gIC",
    "outputId": "3dc87d9d-c3c3-4db9-8207-34a3958113e1"
   },
   "outputs": [
    {
     "data": {
      "text/plain": [
       "device(type='cuda')"
      ]
     },
     "execution_count": 33,
     "metadata": {
      "tags": []
     },
     "output_type": "execute_result"
    }
   ],
   "source": [
    "import pandas as pd\n",
    "import numpy as np\n",
    "\n",
    "#import nltk\n",
    "#nltk.download('stopwords')\n",
    "\n",
    "from nltk.corpus import stopwords\n",
    "stopwords = stopwords.words('english')\n",
    "\n",
    "import torch as th\n",
    "from torchtext.data import Field\n",
    "from torchtext.data import Dataset\n",
    "from torchtext.data import Example\n",
    "from torchtext.data import BucketIterator\n",
    "\n",
    "from sklearn.model_selection import train_test_split\n",
    "from sklearn.metrics import accuracy_score\n",
    "from sklearn.metrics import classification_report\n",
    "from sklearn.metrics import confusion_matrix\n",
    "\n",
    "import matplotlib.pyplot as plt\n",
    "import seaborn as sns\n",
    "sns.set_style('darkgrid')\n",
    "\n",
    "from tqdm import tqdm\n",
    "\n",
    "device = th.device('cuda' if th.cuda.is_available() else 'cpu')\n",
    "device"
   ]
  },
  {
   "cell_type": "code",
   "execution_count": null,
   "metadata": {
    "id": "i-W74E1kMUKG"
   },
   "outputs": [],
   "source": [
    "train_df = pd.read_csv('data/processed_train.csv')\n",
    "test_df = pd.read_csv('data/processed_test.csv')"
   ]
  },
  {
   "cell_type": "code",
   "execution_count": null,
   "metadata": {
    "id": "8uXO83r2RTp8"
   },
   "outputs": [],
   "source": [
    "train_df['text'] = train_df['text'].str.replace('[^\\w\\s]','')\n",
    "test_df['text'] = test_df['text'].str.replace('[^\\w\\s]','')\n",
    "\n",
    "train_df['text'] = train_df['text'].str.split()\n",
    "train_df['text'] = train_df['text'].apply(lambda x: [word for word in x if word not in stopwords])\n",
    "train_df['text'] = train_df['text'].apply(lambda x: ' '.join(x))\n",
    "\n",
    "test_df['text'] = test_df['text'].str.split()\n",
    "test_df['text'] = test_df['text'].apply(lambda x: [word for word in x if word not in stopwords])\n",
    "test_df['text'] = test_df['text'].apply(lambda x: ' '.join(x))"
   ]
  },
  {
   "cell_type": "markdown",
   "metadata": {
    "id": "iO1bNL7fOecH"
   },
   "source": [
    "### Splitting training dataset for validation"
   ]
  },
  {
   "cell_type": "code",
   "execution_count": null,
   "metadata": {
    "colab": {
     "base_uri": "https://localhost:8080/"
    },
    "id": "hljUcSChTpsF",
    "outputId": "1d7f1d81-ff7c-4472-f9aa-6c9070976f65"
   },
   "outputs": [
    {
     "name": "stdout",
     "output_type": "stream",
     "text": [
      "Train size: 20000\n",
      "Validation size: 5000\n",
      "Test size: 25000\n"
     ]
    }
   ],
   "source": [
    "x = train_df['text'].values\n",
    "y = train_df['label'].values\n",
    "\n",
    "x_test = test_df['text'].values\n",
    "y_test = test_df['label'].values\n",
    "\n",
    "x_train, x_val, y_train, y_val = train_test_split(x, y, test_size=.2, stratify=y)\n",
    "\n",
    "print('Train size: %i'%(len(x_train)))\n",
    "print('Validation size: %i'%(len(x_val)))\n",
    "print('Test size: %i'%(len(x_test)))"
   ]
  },
  {
   "cell_type": "markdown",
   "metadata": {
    "id": "CGHWmqeyOpwg"
   },
   "source": [
    "### Creating Torch Datasets"
   ]
  },
  {
   "cell_type": "code",
   "execution_count": null,
   "metadata": {
    "id": "lN6JupLJlko3"
   },
   "outputs": [],
   "source": [
    "seq_len = 200\n",
    "txt_field = Field(sequential=True,\n",
    "                  fix_length=seq_len,\n",
    "                  lower=True, \n",
    "                  pad_first=True, \n",
    "                  )\n",
    "\n",
    "label_field = Field(sequential=False, use_vocab=False)"
   ]
  },
  {
   "cell_type": "code",
   "execution_count": null,
   "metadata": {
    "id": "LrD037Q0z6Xh"
   },
   "outputs": [],
   "source": [
    "preprocessed_train_text = [txt_field.preprocess(text) for text in x_train]\n",
    "\n",
    "txt_field.build_vocab(preprocessed_train_text, vectors='glove.6B.100d')\n",
    "vocab = txt_field.vocab"
   ]
  },
  {
   "cell_type": "code",
   "execution_count": null,
   "metadata": {
    "id": "PYhBvMyB6f4R"
   },
   "outputs": [],
   "source": [
    "train_dataset = Dataset([\n",
    "                         Example.fromlist(list(row) , [('text', txt_field),\n",
    "                                                       ('label', label_field)]) \n",
    "                         for row in zip(x_train, y_train)\n",
    "                         ], \n",
    "                        [('text', txt_field), ('label', label_field)]\n",
    "                        )\n",
    "train_iter = BucketIterator(train_dataset, batch_size=8)\n",
    "\n",
    "val_dataset = Dataset([\n",
    "                       Example.fromlist(list(row) , [('text', txt_field),\n",
    "                                                     ('label', label_field)]) \n",
    "                       for row in zip(x_val, y_val)\n",
    "                       ], \n",
    "                      [('text', txt_field), ('label', label_field)]\n",
    "                      )\n",
    "val_iter = BucketIterator(val_dataset, batch_size=8)\n",
    "\n",
    "test_dataset = Dataset([\n",
    "                        Example.fromlist(list(row) , [('text', txt_field),\n",
    "                                                     ('label', label_field)]) \n",
    "                        for row in zip(x_test, y_test)\n",
    "                        ], \n",
    "                       [('text', txt_field), ('label', label_field)]\n",
    "                       )\n",
    "test_iter = BucketIterator(test_dataset, batch_size=32)"
   ]
  },
  {
   "cell_type": "markdown",
   "metadata": {
    "id": "1IirUXYYO0-E"
   },
   "source": [
    "### Creating LSTM Model"
   ]
  },
  {
   "cell_type": "code",
   "execution_count": null,
   "metadata": {
    "id": "y8k_MTSNfNpb"
   },
   "outputs": [],
   "source": [
    "def decrease_lr(opt, epoch, init_lr):\n",
    "  lr =  init_lr * (0.1 ** (epoch // 10))\n",
    "  for param_group in opt.param_groups:\n",
    "      param_group['lr'] = lr"
   ]
  },
  {
   "cell_type": "code",
   "execution_count": null,
   "metadata": {
    "id": "RiJMh83OS5zt"
   },
   "outputs": [],
   "source": [
    "class Net(th.nn.Module):\n",
    "  def __init__(self, \n",
    "               seq_len, \n",
    "               vocab, \n",
    "               emb_size,\n",
    "               lstm_hidden, \n",
    "               lstm_layers,\n",
    "               dropout):\n",
    "    super(Net, self).__init__()\n",
    "\n",
    "    self.seq_len = seq_len\n",
    "    self.vocab = vocab\n",
    "    self.emb_size = emb_size\n",
    "    self.lstm_hidden = lstm_hidden\n",
    "    self.lstm_layers = lstm_layers\n",
    "    self.dropout = dropout\n",
    "     \n",
    "    self.emb = th.nn.Embedding(len(self.vocab)+1, self.emb_size)\n",
    "\n",
    "    self.lstm = th.nn.LSTM(self.emb_size, \n",
    "                           self.lstm_hidden, \n",
    "                           self.lstm_layers, \n",
    "                           batch_first=True)\n",
    "    \n",
    "    self.fc = th.nn.Linear(self.lstm_hidden, 1)\n",
    "\n",
    "    self.drop = th.nn.Dropout(self.dropout)\n",
    "        \n",
    "  def forward(self, x):\n",
    "    emb_x = self.emb(x)\n",
    "\n",
    "    h_state = th.zeros(self.lstm_layers, x.size(0), self.lstm_hidden).to(device)\n",
    "    c_state = th.zeros(self.lstm_layers, x.size(0), self.lstm_hidden).to(device)\n",
    "    hidden = (h_state, c_state)\n",
    "\n",
    "    lstm_x, _ = self.lstm(emb_x, hidden)\n",
    "    lstm_x = self.drop(lstm_x)\n",
    "    lstm_x = lstm_x[:, -1, :]\n",
    "\n",
    "    out = th.sigmoid(self.fc(lstm_x))    \n",
    "    return out.view(-1)\n",
    "    \n",
    "  def predict(self, x):\n",
    "    out = self.forward(x)\n",
    "    return (out>.5).int()"
   ]
  },
  {
   "cell_type": "code",
   "execution_count": null,
   "metadata": {
    "id": "nujaWPdEb9YM"
   },
   "outputs": [],
   "source": [
    "emb_size = 100\n",
    "lstm_hidden = 32\n",
    "lstm_layers = 3\n",
    "dropout = .2\n",
    "\n",
    "lr = 0.01\n",
    "epochs = 30\n",
    "early_stop_rounds = 10\n",
    "\n",
    "net = Net(seq_len, \n",
    "          vocab, \n",
    "          emb_size, \n",
    "          lstm_hidden, \n",
    "          lstm_layers,\n",
    "          dropout)\n",
    "net = net.to(device)\n",
    "\n",
    "opt = th.optim.Adam(net.parameters(), lr)\n",
    "criterion = th.nn.BCELoss()"
   ]
  },
  {
   "cell_type": "markdown",
   "metadata": {
    "id": "PH_VrMHmPDF1"
   },
   "source": [
    "### Training Model"
   ]
  },
  {
   "cell_type": "code",
   "execution_count": null,
   "metadata": {
    "colab": {
     "base_uri": "https://localhost:8080/"
    },
    "id": "DvE3u-f_0_pA",
    "outputId": "01fedc66-593c-4beb-b8d1-5ac0db6f3a7c"
   },
   "outputs": [
    {
     "name": "stderr",
     "output_type": "stream",
     "text": [
      "  0%|          | 4/2500 [00:00<01:09, 35.81it/s]"
     ]
    },
    {
     "name": "stdout",
     "output_type": "stream",
     "text": [
      "Epoch: 1\n"
     ]
    },
    {
     "name": "stderr",
     "output_type": "stream",
     "text": [
      "100%|██████████| 2500/2500 [00:55<00:00, 45.27it/s]\n"
     ]
    },
    {
     "name": "stdout",
     "output_type": "stream",
     "text": [
      "LOSS: 0.488450\n",
      "VALIDATION ACC: 0.8242\n"
     ]
    },
    {
     "name": "stderr",
     "output_type": "stream",
     "text": [
      "  0%|          | 3/2500 [00:00<01:33, 26.79it/s]"
     ]
    },
    {
     "name": "stdout",
     "output_type": "stream",
     "text": [
      "Epoch: 2\n"
     ]
    },
    {
     "name": "stderr",
     "output_type": "stream",
     "text": [
      "100%|██████████| 2500/2500 [00:56<00:00, 44.26it/s]\n"
     ]
    },
    {
     "name": "stdout",
     "output_type": "stream",
     "text": [
      "LOSS: 0.253905\n",
      "VALIDATION ACC: 0.8626\n"
     ]
    },
    {
     "name": "stderr",
     "output_type": "stream",
     "text": [
      "  0%|          | 3/2500 [00:00<01:23, 29.93it/s]"
     ]
    },
    {
     "name": "stdout",
     "output_type": "stream",
     "text": [
      "Epoch: 3\n"
     ]
    },
    {
     "name": "stderr",
     "output_type": "stream",
     "text": [
      "100%|██████████| 2500/2500 [00:55<00:00, 44.93it/s]\n"
     ]
    },
    {
     "name": "stdout",
     "output_type": "stream",
     "text": [
      "LOSS: 0.168601\n"
     ]
    },
    {
     "name": "stderr",
     "output_type": "stream",
     "text": [
      "  0%|          | 4/2500 [00:00<01:15, 33.15it/s]"
     ]
    },
    {
     "name": "stdout",
     "output_type": "stream",
     "text": [
      "VALIDATION ACC: 0.8610\n",
      "Epoch: 4\n"
     ]
    },
    {
     "name": "stderr",
     "output_type": "stream",
     "text": [
      "100%|██████████| 2500/2500 [00:54<00:00, 45.59it/s]\n"
     ]
    },
    {
     "name": "stdout",
     "output_type": "stream",
     "text": [
      "LOSS: 0.125855\n"
     ]
    },
    {
     "name": "stderr",
     "output_type": "stream",
     "text": [
      "  0%|          | 4/2500 [00:00<01:06, 37.32it/s]"
     ]
    },
    {
     "name": "stdout",
     "output_type": "stream",
     "text": [
      "VALIDATION ACC: 0.8542\n",
      "Epoch: 5\n"
     ]
    },
    {
     "name": "stderr",
     "output_type": "stream",
     "text": [
      "100%|██████████| 2500/2500 [00:56<00:00, 44.31it/s]\n"
     ]
    },
    {
     "name": "stdout",
     "output_type": "stream",
     "text": [
      "LOSS: 0.091087\n"
     ]
    },
    {
     "name": "stderr",
     "output_type": "stream",
     "text": [
      "  0%|          | 4/2500 [00:00<01:06, 37.74it/s]"
     ]
    },
    {
     "name": "stdout",
     "output_type": "stream",
     "text": [
      "VALIDATION ACC: 0.8474\n",
      "Epoch: 6\n"
     ]
    },
    {
     "name": "stderr",
     "output_type": "stream",
     "text": [
      "100%|██████████| 2500/2500 [00:55<00:00, 44.91it/s]\n"
     ]
    },
    {
     "name": "stdout",
     "output_type": "stream",
     "text": [
      "LOSS: 0.072230\n"
     ]
    },
    {
     "name": "stderr",
     "output_type": "stream",
     "text": [
      "  0%|          | 4/2500 [00:00<01:07, 37.07it/s]"
     ]
    },
    {
     "name": "stdout",
     "output_type": "stream",
     "text": [
      "VALIDATION ACC: 0.8456\n",
      "Epoch: 7\n"
     ]
    },
    {
     "name": "stderr",
     "output_type": "stream",
     "text": [
      "100%|██████████| 2500/2500 [00:55<00:00, 44.71it/s]\n"
     ]
    },
    {
     "name": "stdout",
     "output_type": "stream",
     "text": [
      "LOSS: 0.068656\n"
     ]
    },
    {
     "name": "stderr",
     "output_type": "stream",
     "text": [
      "  0%|          | 4/2500 [00:00<01:06, 37.82it/s]"
     ]
    },
    {
     "name": "stdout",
     "output_type": "stream",
     "text": [
      "VALIDATION ACC: 0.8494\n",
      "Epoch: 8\n"
     ]
    },
    {
     "name": "stderr",
     "output_type": "stream",
     "text": [
      "100%|██████████| 2500/2500 [00:56<00:00, 44.50it/s]\n"
     ]
    },
    {
     "name": "stdout",
     "output_type": "stream",
     "text": [
      "LOSS: 0.050981\n"
     ]
    },
    {
     "name": "stderr",
     "output_type": "stream",
     "text": [
      "  0%|          | 4/2500 [00:00<01:07, 37.11it/s]"
     ]
    },
    {
     "name": "stdout",
     "output_type": "stream",
     "text": [
      "VALIDATION ACC: 0.8464\n",
      "Epoch: 9\n"
     ]
    },
    {
     "name": "stderr",
     "output_type": "stream",
     "text": [
      "100%|██████████| 2500/2500 [00:56<00:00, 44.09it/s]\n"
     ]
    },
    {
     "name": "stdout",
     "output_type": "stream",
     "text": [
      "LOSS: 0.048866\n"
     ]
    },
    {
     "name": "stderr",
     "output_type": "stream",
     "text": [
      "  0%|          | 4/2500 [00:00<01:07, 37.15it/s]"
     ]
    },
    {
     "name": "stdout",
     "output_type": "stream",
     "text": [
      "VALIDATION ACC: 0.8436\n",
      "Epoch: 10\n"
     ]
    },
    {
     "name": "stderr",
     "output_type": "stream",
     "text": [
      "100%|██████████| 2500/2500 [00:55<00:00, 44.80it/s]\n"
     ]
    },
    {
     "name": "stdout",
     "output_type": "stream",
     "text": [
      "LOSS: 0.043643\n"
     ]
    },
    {
     "name": "stderr",
     "output_type": "stream",
     "text": [
      "  0%|          | 4/2500 [00:00<01:07, 37.11it/s]"
     ]
    },
    {
     "name": "stdout",
     "output_type": "stream",
     "text": [
      "VALIDATION ACC: 0.8442\n",
      "Epoch: 11\n"
     ]
    },
    {
     "name": "stderr",
     "output_type": "stream",
     "text": [
      "100%|██████████| 2500/2500 [00:55<00:00, 44.70it/s]\n"
     ]
    },
    {
     "name": "stdout",
     "output_type": "stream",
     "text": [
      "LOSS: 0.020248\n"
     ]
    },
    {
     "name": "stderr",
     "output_type": "stream",
     "text": [
      "  0%|          | 4/2500 [00:00<01:05, 38.06it/s]"
     ]
    },
    {
     "name": "stdout",
     "output_type": "stream",
     "text": [
      "VALIDATION ACC: 0.8474\n",
      "Epoch: 12\n"
     ]
    },
    {
     "name": "stderr",
     "output_type": "stream",
     "text": [
      "100%|██████████| 2500/2500 [00:55<00:00, 44.94it/s]\n"
     ]
    },
    {
     "name": "stdout",
     "output_type": "stream",
     "text": [
      "LOSS: 0.007012\n",
      "VALIDATION ACC: 0.8462\n",
      "Early stopping...\n",
      "Best acc:  0.8626\n"
     ]
    }
   ],
   "source": [
    "losses = []\n",
    "val_acc = []\n",
    "\n",
    "early_stop_acc = -np.inf\n",
    "early_stop_rounds_count = 0\n",
    "\n",
    "for epoch in range(epochs):\n",
    "  print('Epoch: %i'%(epoch+1))\n",
    "\n",
    "  decrease_lr(opt, epoch, lr)\n",
    "\n",
    "  net.train()\n",
    "\n",
    "  batch_losses = []\n",
    "  for train in tqdm(train_iter):\n",
    "    txt = train.text.T.to(device)\n",
    "    labels = train.label.to(device)\n",
    "\n",
    "    output = net(txt)\n",
    "    loss = criterion(output, labels.float())\n",
    "\n",
    "    opt.zero_grad()\n",
    "    loss.backward()\n",
    "    opt.step()\n",
    "\n",
    "    batch_losses.append(loss.item())\n",
    "\n",
    "  loss_mean = np.array(batch_losses).mean()\n",
    "  losses.append(loss_mean)\n",
    "  print('LOSS: %f'%(loss_mean))\n",
    "\n",
    "  if epoch % 5 == 0:\n",
    "    path = 'models/lstm_model_checkpoint.pt'\n",
    "    th.save({'epoch': epoch,\n",
    "             'model_state_dict': net.state_dict(),\n",
    "             'optimizer_state_dict': opt.state_dict(),\n",
    "             'loss': loss_mean,\n",
    "            }, path)\n",
    "    \n",
    "  net.eval()\n",
    "\n",
    "  y_pred = []\n",
    "  y_true = []\n",
    "\n",
    "  for val in val_iter:\n",
    "    val_txt = val.text.T.to(device)\n",
    "    val_labels = val.label.to(device).cpu().numpy()\n",
    "\n",
    "    y_true.extend(val_labels)\n",
    "    y_pred.extend(net.predict(val_txt).cpu().numpy())\n",
    "\n",
    "  acc = accuracy_score(y_true, y_pred)\n",
    "  val_acc.append(acc)\n",
    "  print('VALIDATION ACC: %.4f'%(acc))\n",
    "\n",
    "  if acc > early_stop_acc:\n",
    "    early_stop_acc = acc\n",
    "    \n",
    "    path = 'models/lstm_model_early_stop.pt'\n",
    "    th.save({'epoch': epoch,\n",
    "             'model_state_dict': net.state_dict(),\n",
    "             'optimizer_state_dict': opt.state_dict(),\n",
    "             'loss': loss_mean,\n",
    "             'val_acc':acc\n",
    "            }, path)\n",
    "    \n",
    "    early_stop_rounds_count = 0\n",
    "  else:\n",
    "    early_stop_rounds_count += 1\n",
    "\n",
    "  if early_stop_rounds_count == early_stop_rounds:\n",
    "    print('Early stopping...')\n",
    "    print('Best acc:  %.4f'%(early_stop_acc))\n",
    "    break"
   ]
  },
  {
   "cell_type": "code",
   "execution_count": null,
   "metadata": {
    "colab": {
     "base_uri": "https://localhost:8080/"
    },
    "id": "HqyQSWaiDIpj",
    "outputId": "6e1ce1d2-aec6-4a88-b619-e3d8df643713"
   },
   "outputs": [
    {
     "data": {
      "text/plain": [
       "<All keys matched successfully>"
      ]
     },
     "execution_count": 13,
     "metadata": {
      "tags": []
     },
     "output_type": "execute_result"
    }
   ],
   "source": [
    "early_stop_net = th.load('models/lstm_model_early_stop.pt')\n",
    "\n",
    "net = Net(seq_len, \n",
    "          vocab, \n",
    "          emb_size, \n",
    "          lstm_hidden, \n",
    "          lstm_layers,\n",
    "          dropout)\n",
    "net = net.to(device)\n",
    "\n",
    "net.load_state_dict(early_stop_net['model_state_dict'])"
   ]
  },
  {
   "cell_type": "markdown",
   "metadata": {
    "id": "FF6ORDRJPR5D"
   },
   "source": [
    "### Model Evaluation"
   ]
  },
  {
   "cell_type": "code",
   "execution_count": null,
   "metadata": {
    "colab": {
     "base_uri": "https://localhost:8080/",
     "height": 273
    },
    "id": "FUSJljA2DYaF",
    "outputId": "ec196d73-8645-4b6e-e840-3eeca5b2314b"
   },
   "outputs": [
    {
     "data": {
      "text/plain": [
       "[Text(0, 0.5, 'Validation accuracy'), Text(0.5, 0, 'Epoch')]"
      ]
     },
     "execution_count": 77,
     "metadata": {
      "tags": []
     },
     "output_type": "execute_result"
    },
    {
     "data": {
      "image/png": "[encoded data removed]",
      "text/plain": [
       "<Figure size 1440x360 with 2 Axes>"
      ]
     },
     "metadata": {
      "tags": []
     },
     "output_type": "display_data"
    }
   ],
   "source": [
    "plt.figure(figsize=(20, 5))\n",
    "\n",
    "plt.subplot(1, 2, 1)\n",
    "ax = sns.scatterplot(x=[early_stop_net['epoch']+1], \n",
    "                     y=[early_stop_net['loss']], \n",
    "                     color='red', \n",
    "                     s=50)\n",
    "ax.legend(['Early stop (epoch=%i, loss=%.4f)'%(early_stop_net['epoch']+1, \n",
    "                                               early_stop_net['loss'])])\n",
    "ax = sns.lineplot(x=range(1, epoch+2), y=losses, ax=ax)\n",
    "\n",
    "ax.set(xlabel='Epoch', ylabel='Train loss')\n",
    "\n",
    "plt.subplot(1, 2, 2)\n",
    "ax = sns.scatterplot(x=[early_stop_net['epoch']+1], \n",
    "                     y=[early_stop_net['val_acc']], \n",
    "                     color='red', \n",
    "                     s=50)\n",
    "ax.legend(['Early stop (epoch=%i, val acc=%.4f)'%(early_stop_net['epoch']+1, \n",
    "                                               early_stop_net['val_acc'])])\n",
    "ax = sns.lineplot(x=range(1, epoch+2), y=val_acc, ax=ax)\n",
    "ax.set(xlabel='Epoch', ylabel='Validation accuracy')"
   ]
  },
  {
   "cell_type": "code",
   "execution_count": null,
   "metadata": {
    "colab": {
     "base_uri": "https://localhost:8080/",
     "height": 435
    },
    "id": "VniVC2sMGJwx",
    "outputId": "fc424dd0-a4a2-490a-ecdd-a828a76b612f"
   },
   "outputs": [
    {
     "name": "stdout",
     "output_type": "stream",
     "text": [
      "              precision    recall  f1-score   support\n",
      "\n",
      "           0    0.82857   0.85336   0.84078     12500\n",
      "           1    0.84884   0.82344   0.83595     12500\n",
      "\n",
      "    accuracy                        0.83840     25000\n",
      "   macro avg    0.83870   0.83840   0.83836     25000\n",
      "weighted avg    0.83870   0.83840   0.83836     25000\n",
      "\n"
     ]
    },
    {
     "data": {
      "text/plain": [
       "<matplotlib.axes._subplots.AxesSubplot at 0x7f3a56194278>"
      ]
     },
     "execution_count": 84,
     "metadata": {
      "tags": []
     },
     "output_type": "execute_result"
    },
    {
     "data": {
      "image/png": "[encoded data removed]",
      "text/plain": [
       "<Figure size 432x288 with 2 Axes>"
      ]
     },
     "metadata": {
      "tags": []
     },
     "output_type": "display_data"
    }
   ],
   "source": [
    "y_pred = []\n",
    "y_true = []\n",
    "for test in test_iter:\n",
    "  test_txt = test.text.T.to(device)\n",
    "  test_labels = test.label.to(device).cpu().numpy()\n",
    "\n",
    "  y_true.extend(test_labels)\n",
    "  y_pred.extend(net.predict(test_txt).cpu().numpy())\n",
    "\n",
    "print(classification_report(y_true, y_pred, digits=5))\n",
    "\n",
    "cm = confusion_matrix(y_true, y_pred, normalize='true')\n",
    "sns.heatmap(cm, annot=True, cmap='Greens')"
   ]
  }
 ],
 "metadata": {
  "accelerator": "GPU",
  "colab": {
   "collapsed_sections": [],
   "name": "1_2_LSTM.ipynb",
   "provenance": [],
   "toc_visible": true
  },
  "kernelspec": {
   "display_name": "Python 3",
   "language": "python",
   "name": "python3"
  },
  "language_info": {
   "codemirror_mode": {
    "name": "ipython",
    "version": 3
   },
   "file_extension": ".py",
   "mimetype": "text/x-python",
   "name": "python",
   "nbconvert_exporter": "python",
   "pygments_lexer": "ipython3",
   "version": "3.6.8"
  }
 },
 "nbformat": 4,
 "nbformat_minor": 1
}
